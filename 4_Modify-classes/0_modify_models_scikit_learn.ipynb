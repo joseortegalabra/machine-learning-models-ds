{
 "cells": [
  {
   "cell_type": "markdown",
   "id": "139aba27",
   "metadata": {},
   "source": [
    "# Modificar códigos de modelos de sklearn para su entrenamiento y predicción\n",
    "\n",
    "El objetivo del Notebook es predecir un valor \"target\" y luego de acuerdo a esa predicción del valor target clasificarla en un rango de \"alerta\": [bajo, medio, alto] donde los intervalos para cada uno de estos rangos están definidos de acuerdo a la distribución del target.\n",
    "\n",
    "Realizar la predicción y la posterior clasificación se puede hacer principalmente de dos formas: \n",
    "- dentro del código del modelo (modificándose las funciones de sklearn) \n",
    "- fuera como una función aparte\n",
    "\n",
    "La ventaja de realizar la primera implementeción es que se puede obtener un solo \"artefacto\" que realiza ambas predicciones del cual el data scientist tiene completo completo y permite acoplar su modelo de forma simple con cualquier aplicación web. La forma para realizar la \"predicción del valor\" del target y su \"predicción de alerta\" es modificar los métodos de modelos de sklearn ya sean \"fit, predict, transform\" para que estos realizen una operación \"EXTRA\" a lo que realizan por defecto (en este caso clasificar la predicción en uno de los 3 rangos mencionados). \n",
    "\n",
    "Los ejemplos que se mostrarán son los siguientes:\n",
    "\n",
    "1.- Realizar predicción con el artefacto del modelo y luego una función aparte para clasificar en uno de los 3 intervalos\n",
    "\n",
    "2.- Modificar la clase del modelo para que el método \"predict\" retorne la predicción y además la clasificación en un intervalo"
   ]
  },
  {
   "cell_type": "code",
   "execution_count": 1,
   "id": "2bf9e474",
   "metadata": {},
   "outputs": [],
   "source": [
    "import warnings\n",
    "warnings.filterwarnings(\"ignore\")\n",
    "\n",
    "import os\n",
    "import pandas as pd\n",
    "import numpy as np\n",
    "import pickle\n",
    "\n",
    "from sklearn.model_selection import train_test_split\n",
    "from sklearn.linear_model import LinearRegression\n",
    "from sklearn.ensemble import RandomForestRegressor\n",
    "from sklearn.metrics import mean_squared_error\n",
    "from sklearn.metrics import r2_score"
   ]
  },
  {
   "cell_type": "code",
   "execution_count": null,
   "id": "7545a3dc",
   "metadata": {},
   "outputs": [],
   "source": []
  },
  {
   "cell_type": "markdown",
   "id": "4dc6bebd",
   "metadata": {},
   "source": [
    "### 1. Generar datos"
   ]
  },
  {
   "cell_type": "code",
   "execution_count": 2,
   "id": "65cc84fe",
   "metadata": {},
   "outputs": [
    {
     "name": "stdout",
     "output_type": "stream",
     "text": [
      "TRAIN\n",
      "X_train (800, 5)\n",
      "y_train (800,)\n",
      "\n",
      "TEST\n",
      "X_test (200, 5)\n",
      "y_test (200,)\n",
      "\n",
      "INSTANCIAS\n",
      "Instancia X\n",
      "            CC        DD        EE        BB        AA\n",
      "521  2.667259  1.030929  2.446586  1.330653  2.750926\n",
      "\n",
      "Instance y\n",
      " 3.194815109866423\n"
     ]
    }
   ],
   "source": [
    "#### generar datos ###\n",
    "\n",
    "# parametros\n",
    "len_data = 1000\n",
    "number_columns = 6\n",
    "data = []\n",
    "list_variables = [\"AA\" , \"BB\", \"CC\", \"DD\" , \"EE\", \"target\"]\n",
    "\n",
    "\n",
    "# seed - replicar resultados\n",
    "np.random.seed(42)\n",
    "\n",
    "\n",
    "# generar data aleatoria\n",
    "for column in range(number_columns):\n",
    "    random_choise = np.random.choice(10) + 1 # amplitud\n",
    "    data_column = np.random.rand(len_data)\n",
    "    data_column = random_choise * data_column\n",
    "    data.append(data_column)\n",
    "    \n",
    "# a dataframe\n",
    "data = pd.DataFrame(data).T\n",
    "data.columns = list_variables\n",
    "\n",
    "# serparar train y test\n",
    "features = list(set(list_variables) - set(['target']))\n",
    "X_train, X_test, y_train, y_test = train_test_split(data[features], data['target'], test_size = 0.2, random_state=42)\n",
    "\n",
    "# generar instancia para ejemplo de una sola predicción\n",
    "instance_X = X_test.iloc[[0], :]\n",
    "instance_y = y_test.iloc[0]\n",
    "\n",
    "\n",
    "#PRINT INFO\n",
    "print('TRAIN')\n",
    "print('X_train', X_train.shape)\n",
    "print('y_train', y_train.shape)\n",
    "\n",
    "print('\\nTEST')\n",
    "print('X_test', X_test.shape)\n",
    "print('y_test', y_test.shape)\n",
    "\n",
    "print('\\nINSTANCIAS')\n",
    "print('Instancia X\\n', instance_X)\n",
    "print('\\nInstance y\\n', instance_y)"
   ]
  },
  {
   "cell_type": "code",
   "execution_count": 3,
   "id": "bf57ee54",
   "metadata": {},
   "outputs": [
    {
     "data": {
      "text/plain": [
       "<AxesSubplot:>"
      ]
     },
     "execution_count": 3,
     "metadata": {},
     "output_type": "execute_result"
    },
    {
     "data": {
      "image/png": "[encoded data removed]",
      "text/plain": [
       "<Figure size 576x360 with 1 Axes>"
      ]
     },
     "metadata": {
      "needs_background": "light"
     },
     "output_type": "display_data"
    }
   ],
   "source": [
    "# histograma y train\n",
    "y_train.hist(figsize = (8,5))"
   ]
  },
  {
   "cell_type": "code",
   "execution_count": 4,
   "id": "90bd14ce",
   "metadata": {
    "scrolled": true
   },
   "outputs": [
    {
     "data": {
      "text/plain": [
       "<AxesSubplot:>"
      ]
     },
     "execution_count": 4,
     "metadata": {},
     "output_type": "execute_result"
    },
    {
     "data": {
      "image/png": "[encoded data removed]",
      "text/plain": [
       "<Figure size 576x360 with 1 Axes>"
      ]
     },
     "metadata": {
      "needs_background": "light"
     },
     "output_type": "display_data"
    }
   ],
   "source": [
    "# histograma y test\n",
    "y_test.hist(figsize = (8,5))"
   ]
  },
  {
   "cell_type": "markdown",
   "id": "115b463f",
   "metadata": {},
   "source": [
    "Se observa que el target se mueve entre [0,5]. Para este ejemplo se van a definir los intervalos de la forma (cerrados a la derecha, abiertos a la izquierda):\n",
    "- Bajo: Valores entre 0 y 2.5. Intervalo: ]0, 2.5]\n",
    "\n",
    "- Medio: Valores entre 2.5 y 4. Intervalo: ]2.5, 4]\n",
    "\n",
    "- Alto: Valores entre 4 y 5. Intervalo: ]4, 5]"
   ]
  },
  {
   "cell_type": "markdown",
   "id": "6b902c94",
   "metadata": {},
   "source": []
  },
  {
   "cell_type": "markdown",
   "id": "fbde7f4f",
   "metadata": {},
   "source": [
    "### 2. Modelo predecir valor. Función externa predecir intervalo\n",
    "Para este ejemplo se va a utilizar una regresión lineal como modelo. Luego se va a crear una función que se encargará de clasificar la predicción en uno de los intervalos de alerta"
   ]
  },
  {
   "cell_type": "code",
   "execution_count": 5,
   "id": "2f450371",
   "metadata": {},
   "outputs": [],
   "source": [
    "def get_interval_alert(values):\n",
    "    \"\"\"\n",
    "    Obtener intervalo a partir del valor.\n",
    "    \n",
    "    Args:\n",
    "        value (array list): array de numpy con los valores a calcularles el rango. Formato: (shape, )\n",
    "        \n",
    "    Returns:\n",
    "        array: array de strings con la clasificación de la alerta. Formato (shape, )\n",
    "    \"\"\"\n",
    "    array_alerts = pd.cut(\n",
    "        x = values,\n",
    "        bins = [1, 2.5, 4, 5],\n",
    "        labels = ['bajo', 'medio', 'alto']\n",
    "    )\n",
    "    array_alerts = np.array(array_alerts)\n",
    "    \n",
    "    return array_alerts"
   ]
  },
  {
   "cell_type": "code",
   "execution_count": 6,
   "id": "3b2d25a4",
   "metadata": {},
   "outputs": [
    {
     "data": {
      "text/plain": [
       "LinearRegression()"
      ]
     },
     "execution_count": 6,
     "metadata": {},
     "output_type": "execute_result"
    }
   ],
   "source": [
    "# crear modelo\n",
    "model = LinearRegression()\n",
    "\n",
    "# entrenar modelo\n",
    "model.fit(X_train, y_train)"
   ]
  },
  {
   "cell_type": "code",
   "execution_count": 7,
   "id": "6a7b6f50",
   "metadata": {},
   "outputs": [
    {
     "name": "stdout",
     "output_type": "stream",
     "text": [
      "Ejemplo instancia\n",
      "predicción:  [2.48152808]\n",
      "alerta:  ['bajo']\n"
     ]
    }
   ],
   "source": [
    "# ejemplo predecir una instancia\n",
    "\n",
    "y_instance_predicted = model.predict(instance_X)\n",
    "y_instance_alert = get_interval_alert(y_instance_predicted)\n",
    "\n",
    "print('Ejemplo instancia')\n",
    "print('predicción: ', y_instance_predicted)\n",
    "print('alerta: ', y_instance_alert)"
   ]
  },
  {
   "cell_type": "code",
   "execution_count": 8,
   "id": "184ef4b7",
   "metadata": {},
   "outputs": [
    {
     "name": "stdout",
     "output_type": "stream",
     "text": [
      "X_test shape\n",
      "predicción:  (200,)\n",
      "alerta:  (200,)\n"
     ]
    }
   ],
   "source": [
    "# ejemplo predecir X_test\n",
    "y_test_predicted = model.predict(X_test)\n",
    "y_test_alert = get_interval_alert(y_test_predicted)\n",
    "\n",
    "print('X_test shape')\n",
    "# print('predicción: ', y_test_predicted)\n",
    "# print('alerta: ', y_test_alert)\n",
    "print('predicción: ', y_test_predicted.shape)\n",
    "print('alerta: ', y_test_alert.shape)"
   ]
  },
  {
   "cell_type": "code",
   "execution_count": null,
   "id": "b1a3b135",
   "metadata": {},
   "outputs": [],
   "source": []
  },
  {
   "cell_type": "markdown",
   "id": "fcb8e9e9",
   "metadata": {},
   "source": [
    "### 3. Modificar método \"predict\". Retornar predicción y alerta\n",
    "Para agregar la funcionalidad deseada al método predict de una clase modelo de scikit-learn se puede crear una nueva clase que herede la clase modelo (en el ejemplo crear una clase que herede la clase \"LinearRegression\") y sobrescribir el método predict.\n",
    "\n",
    "IMPORTANTE:\n",
    "En este ejemplo, se crea una nueva clase MyLinearRegression que hereda de LinearRegression. Luego, se sobreescribe el método predict de la clase base. La función super() llama al método predict de la clase base, que devuelve las predicciones en sí mismas. Además se crea un método auxiliar que recibe un valor \"y\" y retorna el intervalo de alerta dado dicho valor (el método auxiliar tiene que ser válido tanto para predecir una observación como múltiples observaciones)"
   ]
  },
  {
   "cell_type": "code",
   "execution_count": 9,
   "id": "028f7c7a",
   "metadata": {},
   "outputs": [],
   "source": [
    "from sklearn.linear_model import LinearRegression\n",
    "class MyLinearRegression(LinearRegression):\n",
    "    \n",
    "    def get_interval_alert(self, y):\n",
    "        \"\"\"\n",
    "        Método auxiliar. Obtener intervalo de alerta a partir del valor.\n",
    "\n",
    "        Args:\n",
    "            value (array list): array de numpy con los valores a calcularles el rango. Formato: (shape, )\n",
    "\n",
    "        Returns:\n",
    "            array: array de strings con la clasificación de la alerta. Formato (shape, )\n",
    "        \"\"\"\n",
    "        alerts = pd.cut(\n",
    "            x = y,\n",
    "            bins = [1, 2.5, 4, 5],\n",
    "            labels = ['bajo', 'medio', 'alto']\n",
    "        )\n",
    "        return np.array(alerts)\n",
    "\n",
    "    \n",
    "    def predict(self, X):\n",
    "        \n",
    "        # predecir con el método base .predict()\n",
    "        y_pred = super().predict(X)\n",
    "        \n",
    "        # llamar método auxiliar para obtener rango\n",
    "        y_alert = self.get_interval_alert(y_pred)\n",
    "        \n",
    "        return y_pred, y_alert"
   ]
  },
  {
   "cell_type": "code",
   "execution_count": 10,
   "id": "05a2f8a1",
   "metadata": {},
   "outputs": [
    {
     "data": {
      "text/plain": [
       "MyLinearRegression()"
      ]
     },
     "execution_count": 10,
     "metadata": {},
     "output_type": "execute_result"
    }
   ],
   "source": [
    "# crear modelo custom \n",
    "lr_alerts = MyLinearRegression()\n",
    "\n",
    "# entrenar modelo\n",
    "lr_alerts.fit(X_train, y_train)"
   ]
  },
  {
   "cell_type": "code",
   "execution_count": 11,
   "id": "99c7dc52",
   "metadata": {},
   "outputs": [
    {
     "name": "stdout",
     "output_type": "stream",
     "text": [
      "Ejemplo instancia\n",
      "predicción:  [2.48152808]\n",
      "alerta:  ['bajo']\n"
     ]
    }
   ],
   "source": [
    "# ejemplo predecir instancia\n",
    "y_instance_predicted, y_alert_predicted = lr_alerts.predict(instance_X)\n",
    "\n",
    "print('Ejemplo instancia')\n",
    "print('predicción: ', y_instance_predicted)\n",
    "print('alerta: ', y_instance_alert)"
   ]
  },
  {
   "cell_type": "code",
   "execution_count": 12,
   "id": "9c3cc25b",
   "metadata": {},
   "outputs": [
    {
     "name": "stdout",
     "output_type": "stream",
     "text": [
      "data test\n",
      "predicción:  [2.48152808 2.60478098 2.46720996 2.6889095  2.39454799 2.7181138\n",
      " 2.38421206 2.60825112 2.42931986 2.38525177 2.38180426 2.74607523\n",
      " 2.42967537 2.4053719  2.63168299 2.51204814 2.36840288 2.47450377\n",
      " 2.40130412 2.34319053 2.60483131 2.41232976 2.63981062 2.55918844\n",
      " 2.41953636 2.67085421 2.65311535 2.55972155 2.42422051 2.29061877\n",
      " 2.49311766 2.48534342 2.49397943 2.52415196 2.57645459 2.49150753\n",
      " 2.5518417  2.70132301 2.58676897 2.5376278  2.46350438 2.69568043\n",
      " 2.48419916 2.38565707 2.54267595 2.56296613 2.44540773 2.63680075\n",
      " 2.61017883 2.63002649 2.54459411 2.44971739 2.37147829 2.57965038\n",
      " 2.59288299 2.48159023 2.38593837 2.69862897 2.71549908 2.4158476\n",
      " 2.42577241 2.42492184 2.43824463 2.35866842 2.57446059 2.30147586\n",
      " 2.49870578 2.43322746 2.25795785 2.57271241 2.50931512 2.44586082\n",
      " 2.49366483 2.51085634 2.61179751 2.47163832 2.52834142 2.47352663\n",
      " 2.32979487 2.53528946 2.383751   2.30258777 2.58597172 2.67463999\n",
      " 2.68625969 2.40673123 2.52389546 2.38975418 2.42714304 2.35703872\n",
      " 2.31662843 2.71670528 2.4387921  2.80642275 2.47728427 2.70821793\n",
      " 2.54224259 2.62593272 2.42603325 2.48511251 2.44438357 2.43721001\n",
      " 2.61781883 2.52639686 2.51604145 2.52890743 2.25621716 2.40022028\n",
      " 2.42733753 2.41903062 2.39267589 2.35483235 2.71461707 2.60799229\n",
      " 2.62568818 2.52783413 2.54168886 2.46539483 2.35416062 2.45112341\n",
      " 2.46097164 2.34287615 2.68004239 2.66812305 2.62030445 2.41795249\n",
      " 2.38015827 2.52638939 2.35110192 2.63540816 2.59691059 2.51816773\n",
      " 2.67249339 2.41827662 2.5658608  2.26750488 2.32246715 2.48207554\n",
      " 2.37102913 2.36396765 2.51774522 2.42410642 2.47521769 2.5419029\n",
      " 2.62824004 2.27583855 2.55410933 2.52299661 2.64633783 2.47559305\n",
      " 2.62586833 2.34176764 2.4743884  2.65351402 2.46878722 2.33027081\n",
      " 2.66777231 2.56488241 2.38934402 2.44105343 2.42763253 2.73043175\n",
      " 2.33563702 2.3308386  2.47750335 2.37211043 2.52671502 2.46732312\n",
      " 2.42484723 2.50084821 2.51352155 2.30621134 2.40168339 2.39710869\n",
      " 2.46282286 2.36408293 2.63088507 2.54317787 2.430827   2.52515905\n",
      " 2.66168273 2.44913967 2.43416534 2.40105705 2.50751638 2.65230449\n",
      " 2.61846637 2.61841968 2.4809281  2.57339083 2.34757766 2.32790123\n",
      " 2.34814782 2.47140045 2.47017026 2.32064115 2.35291819 2.22747716\n",
      " 2.4541534  2.54650196]\n",
      "alerta:  ['bajo' 'medio' 'bajo' 'medio' 'bajo' 'medio' 'bajo' 'medio' 'bajo' 'bajo'\n",
      " 'bajo' 'medio' 'bajo' 'bajo' 'medio' 'medio' 'bajo' 'bajo' 'bajo' 'bajo'\n",
      " 'medio' 'bajo' 'medio' 'medio' 'bajo' 'medio' 'medio' 'medio' 'bajo'\n",
      " 'bajo' 'bajo' 'bajo' 'bajo' 'medio' 'medio' 'bajo' 'medio' 'medio'\n",
      " 'medio' 'medio' 'bajo' 'medio' 'bajo' 'bajo' 'medio' 'medio' 'bajo'\n",
      " 'medio' 'medio' 'medio' 'medio' 'bajo' 'bajo' 'medio' 'medio' 'bajo'\n",
      " 'bajo' 'medio' 'medio' 'bajo' 'bajo' 'bajo' 'bajo' 'bajo' 'medio' 'bajo'\n",
      " 'bajo' 'bajo' 'bajo' 'medio' 'medio' 'bajo' 'bajo' 'medio' 'medio' 'bajo'\n",
      " 'medio' 'bajo' 'bajo' 'medio' 'bajo' 'bajo' 'medio' 'medio' 'medio'\n",
      " 'bajo' 'medio' 'bajo' 'bajo' 'bajo' 'bajo' 'medio' 'bajo' 'medio' 'bajo'\n",
      " 'medio' 'medio' 'medio' 'bajo' 'bajo' 'bajo' 'bajo' 'medio' 'medio'\n",
      " 'medio' 'medio' 'bajo' 'bajo' 'bajo' 'bajo' 'bajo' 'bajo' 'medio' 'medio'\n",
      " 'medio' 'medio' 'medio' 'bajo' 'bajo' 'bajo' 'bajo' 'bajo' 'medio'\n",
      " 'medio' 'medio' 'bajo' 'bajo' 'medio' 'bajo' 'medio' 'medio' 'medio'\n",
      " 'medio' 'bajo' 'medio' 'bajo' 'bajo' 'bajo' 'bajo' 'bajo' 'medio' 'bajo'\n",
      " 'bajo' 'medio' 'medio' 'bajo' 'medio' 'medio' 'medio' 'bajo' 'medio'\n",
      " 'bajo' 'bajo' 'medio' 'bajo' 'bajo' 'medio' 'medio' 'bajo' 'bajo' 'bajo'\n",
      " 'medio' 'bajo' 'bajo' 'bajo' 'bajo' 'medio' 'bajo' 'bajo' 'medio' 'medio'\n",
      " 'bajo' 'bajo' 'bajo' 'bajo' 'bajo' 'medio' 'medio' 'bajo' 'medio' 'medio'\n",
      " 'bajo' 'bajo' 'bajo' 'medio' 'medio' 'medio' 'medio' 'bajo' 'medio'\n",
      " 'bajo' 'bajo' 'bajo' 'bajo' 'bajo' 'bajo' 'bajo' 'bajo' 'bajo' 'medio']\n"
     ]
    }
   ],
   "source": [
    "# ejemplo predecir X_test\n",
    "y_test_predicted, y_test_alert = lr_alerts.predict(X_test)\n",
    "\n",
    "print('data test')\n",
    "print('predicción: ', y_test_predicted)\n",
    "print('alerta: ', y_test_alert)"
   ]
  },
  {
   "cell_type": "code",
   "execution_count": null,
   "id": "af6ae22c",
   "metadata": {},
   "outputs": [],
   "source": []
  },
  {
   "cell_type": "markdown",
   "id": "6b3c3837",
   "metadata": {},
   "source": [
    "### 4. Modificar métodos \"train\" y \"predict\". \n",
    "Se realiza una nueva modificación al ejemplo del punto anterior, modificándose también el método \"train\" para realizar un entrenamiento custom de los modelos.\n",
    "\n",
    "En el ejemplo anterior se modificó el método \"predict\" para realizar la predicción y la clasificación de la alerta de acuerdo a un rango \"bajo\" ]0, 2.5], \"medio\" ]2.5, 4] y \"alto\" ]4, 5] donde estos rangos están pre establecidos. En este ejemplo se realiza una modificación al método \"train\" para que los thresholds de los intervalos también se \"entrenen\" de acuerdo a la distribución de los datos de train.\n",
    "\n",
    "El entrenamiento de los thresholds de los intervalos se realiza de forma simplificada en base a a percentiles. El thresold bajo-medio va a ser en el percentil 50, threshold medio-alto en el percentil 90. \n",
    "\n",
    "Este es un ejemplo simple, solo utilizado para mostrar cómo modificar las clases de los modelos de sckit-learn y tener modelos customizados"
   ]
  },
  {
   "cell_type": "code",
   "execution_count": 13,
   "id": "c8e9ca5a",
   "metadata": {},
   "outputs": [],
   "source": [
    "# parametro\n",
    "y = y_train"
   ]
  },
  {
   "cell_type": "code",
   "execution_count": 14,
   "id": "445813f3",
   "metadata": {},
   "outputs": [
    {
     "data": {
      "text/plain": [
       "count    800.000000\n",
       "mean       2.493488\n",
       "std        1.444844\n",
       "min        0.030919\n",
       "50%        2.444215\n",
       "90%        4.550246\n",
       "max        4.996752\n",
       "Name: target, dtype: float64"
      ]
     },
     "execution_count": 14,
     "metadata": {},
     "output_type": "execute_result"
    }
   ],
   "source": [
    "y.describe(percentiles = [0.5, 0.9])"
   ]
  },
  {
   "cell_type": "code",
   "execution_count": null,
   "id": "95d316cc",
   "metadata": {},
   "outputs": [],
   "source": []
  },
  {
   "cell_type": "code",
   "execution_count": null,
   "id": "914dba3f",
   "metadata": {},
   "outputs": [],
   "source": []
  },
  {
   "cell_type": "code",
   "execution_count": null,
   "id": "4f1b5a4d",
   "metadata": {},
   "outputs": [],
   "source": []
  },
  {
   "cell_type": "code",
   "execution_count": null,
   "id": "bd9a08db",
   "metadata": {},
   "outputs": [],
   "source": []
  },
  {
   "cell_type": "code",
   "execution_count": null,
   "id": "71509ca8",
   "metadata": {},
   "outputs": [],
   "source": []
  },
  {
   "cell_type": "code",
   "execution_count": 15,
   "id": "5351142f",
   "metadata": {},
   "outputs": [],
   "source": [
    "class lr_custom_alerts(LinearRegression):\n",
    "    \"\"\"\n",
    "    Clase Regresión Lineal customizada que retorna la predicción y un grado de alerta\n",
    "    \"\"\"\n",
    "    \n",
    "    def train_custom_thresholds_alerts(self, y):\n",
    "        '''\n",
    "        Método auxiliar. \"Entrenamiento\" custom para obtener thresholds de alertas\n",
    "\n",
    "        Args:\n",
    "            y (array): valores y de entrenamiento para obtener thresholds\n",
    "\n",
    "        Returns:\n",
    "            None: No retorna nada. Guarda los valores obtenidos como parámetros de la clase\n",
    "        '''\n",
    "        # params\n",
    "        percentil_bajo_medio = 0.5\n",
    "        percentil_medio_alto = 0.9\n",
    "\n",
    "        # \"\"train\"\" threshold\n",
    "        self.min_value = np.round(y.min(), 2)\n",
    "        self.max_value = np.round(y.max(), 2)\n",
    "        self.threshold_1 = np.round(y.quantile(percentil_bajo_medio), 2)\n",
    "        self.threshold_2 = np.round(y.quantile(percentil_medio_alto), 2)\n",
    "\n",
    "    def get_interval_alert(self, y):\n",
    "        \"\"\"\n",
    "        Método auxiliar. Obtener intervalo de alerta a partir del valor.\n",
    "\n",
    "        Args:\n",
    "            y (array list): array de numpy con los valores a calcularles el rango. Formato: (shape, )\n",
    "\n",
    "        Returns:\n",
    "            array: array de strings con la clasificación de la alerta. Formato (shape, )\n",
    "        \"\"\"\n",
    "        alerts = pd.cut(\n",
    "            x = y,\n",
    "            bins = [self.min_value, self.threshold_1, self.threshold_2, self.max_value],\n",
    "            labels = ['bajo', 'medio', 'alto']\n",
    "        )\n",
    "        return np.array(alerts)\n",
    "\n",
    "    \n",
    "    def fit(self, X, y):\n",
    "        \"\"\"\n",
    "        Método train custom. Llamar al método train de la clase base y al método auxiliar para entrenar el intervalo de alerta\n",
    "        \"\"\"\n",
    "        super().fit(X, y)\n",
    "        self.train_custom_thresholds_alerts(y)\n",
    "    \n",
    "    \n",
    "    def predict(self, X):\n",
    "        \"\"\"\n",
    "        Método predict custom. Llama al método predict de la clase base y al método auxiliar para obtener el intervalo de alerta\n",
    "        \"\"\"\n",
    "        y_pred = super().predict(X)\n",
    "        y_alert = self.get_interval_alert(y_pred)\n",
    "        \n",
    "        return y_pred, y_alert"
   ]
  },
  {
   "cell_type": "code",
   "execution_count": 16,
   "id": "8eb14ae0",
   "metadata": {},
   "outputs": [],
   "source": [
    "# crear modelo\n",
    "lr_custom = lr_custom_alerts()\n",
    "\n",
    "# entrenar \n",
    "lr_custom.fit(X_train, y_train)"
   ]
  },
  {
   "cell_type": "code",
   "execution_count": 17,
   "id": "88d2fe6d",
   "metadata": {},
   "outputs": [
    {
     "name": "stdout",
     "output_type": "stream",
     "text": [
      "threshold 1:  2.44\n",
      "threshold 2:  4.55\n"
     ]
    }
   ],
   "source": [
    "# ver intervalos obtenidos del entrenamiento\n",
    "print('threshold 1: ', lr_custom.threshold_1)\n",
    "print('threshold 2: ', lr_custom.threshold_2)"
   ]
  },
  {
   "cell_type": "code",
   "execution_count": 18,
   "id": "e56b5ab0",
   "metadata": {},
   "outputs": [
    {
     "name": "stdout",
     "output_type": "stream",
     "text": [
      "Ejemplo instancia\n",
      "predicción:  [2.48152808]\n",
      "alerta:  ['bajo']\n"
     ]
    }
   ],
   "source": [
    "# ejemplo predecir instancia\n",
    "y_instance_predicted, y_alert_predicted = lr_custom.predict(instance_X)\n",
    "\n",
    "print('Ejemplo instancia')\n",
    "print('predicción: ', y_instance_predicted)\n",
    "print('alerta: ', y_instance_alert)"
   ]
  },
  {
   "cell_type": "code",
   "execution_count": 19,
   "id": "5065003e",
   "metadata": {},
   "outputs": [
    {
     "name": "stdout",
     "output_type": "stream",
     "text": [
      "data test\n",
      "predicción:  (200,)\n",
      "alerta:  (200,)\n"
     ]
    }
   ],
   "source": [
    "# ejemplo predecir X_test\n",
    "y_test_predicted_, y_test_alert_ = lr_custom.predict(X_test)\n",
    "\n",
    "print('data test')\n",
    "print('predicción: ', y_test_predicted_.shape)\n",
    "print('alerta: ', y_test_alert_.shape)"
   ]
  },
  {
   "cell_type": "code",
   "execution_count": null,
   "id": "dd4a5d6b",
   "metadata": {},
   "outputs": [],
   "source": []
  },
  {
   "cell_type": "markdown",
   "id": "96dd7d86",
   "metadata": {},
   "source": [
    "### 5. Comparar diferencias\n",
    "Comparar diferencia en predicciones entre modelo con threholds harcodeado (versión 1) y thresholds entrenados (versión 2)"
   ]
  },
  {
   "cell_type": "code",
   "execution_count": 20,
   "id": "d1740803",
   "metadata": {},
   "outputs": [
    {
     "data": {
      "text/html": [
       "<div>\n",
       "<style scoped>\n",
       "    .dataframe tbody tr th:only-of-type {\n",
       "        vertical-align: middle;\n",
       "    }\n",
       "\n",
       "    .dataframe tbody tr th {\n",
       "        vertical-align: top;\n",
       "    }\n",
       "\n",
       "    .dataframe thead th {\n",
       "        text-align: right;\n",
       "    }\n",
       "</style>\n",
       "<table border=\"1\" class=\"dataframe\">\n",
       "  <thead>\n",
       "    <tr style=\"text-align: right;\">\n",
       "      <th></th>\n",
       "      <th>pred_1</th>\n",
       "      <th>pred_2</th>\n",
       "      <th>alerts_1</th>\n",
       "      <th>alerts_2</th>\n",
       "    </tr>\n",
       "  </thead>\n",
       "  <tbody>\n",
       "    <tr>\n",
       "      <th>0</th>\n",
       "      <td>2.481528</td>\n",
       "      <td>2.481528</td>\n",
       "      <td>bajo</td>\n",
       "      <td>medio</td>\n",
       "    </tr>\n",
       "    <tr>\n",
       "      <th>1</th>\n",
       "      <td>2.604781</td>\n",
       "      <td>2.604781</td>\n",
       "      <td>medio</td>\n",
       "      <td>medio</td>\n",
       "    </tr>\n",
       "    <tr>\n",
       "      <th>2</th>\n",
       "      <td>2.467210</td>\n",
       "      <td>2.467210</td>\n",
       "      <td>bajo</td>\n",
       "      <td>medio</td>\n",
       "    </tr>\n",
       "    <tr>\n",
       "      <th>3</th>\n",
       "      <td>2.688910</td>\n",
       "      <td>2.688910</td>\n",
       "      <td>medio</td>\n",
       "      <td>medio</td>\n",
       "    </tr>\n",
       "    <tr>\n",
       "      <th>4</th>\n",
       "      <td>2.394548</td>\n",
       "      <td>2.394548</td>\n",
       "      <td>bajo</td>\n",
       "      <td>bajo</td>\n",
       "    </tr>\n",
       "    <tr>\n",
       "      <th>...</th>\n",
       "      <td>...</td>\n",
       "      <td>...</td>\n",
       "      <td>...</td>\n",
       "      <td>...</td>\n",
       "    </tr>\n",
       "    <tr>\n",
       "      <th>195</th>\n",
       "      <td>2.320641</td>\n",
       "      <td>2.320641</td>\n",
       "      <td>bajo</td>\n",
       "      <td>bajo</td>\n",
       "    </tr>\n",
       "    <tr>\n",
       "      <th>196</th>\n",
       "      <td>2.352918</td>\n",
       "      <td>2.352918</td>\n",
       "      <td>bajo</td>\n",
       "      <td>bajo</td>\n",
       "    </tr>\n",
       "    <tr>\n",
       "      <th>197</th>\n",
       "      <td>2.227477</td>\n",
       "      <td>2.227477</td>\n",
       "      <td>bajo</td>\n",
       "      <td>bajo</td>\n",
       "    </tr>\n",
       "    <tr>\n",
       "      <th>198</th>\n",
       "      <td>2.454153</td>\n",
       "      <td>2.454153</td>\n",
       "      <td>bajo</td>\n",
       "      <td>medio</td>\n",
       "    </tr>\n",
       "    <tr>\n",
       "      <th>199</th>\n",
       "      <td>2.546502</td>\n",
       "      <td>2.546502</td>\n",
       "      <td>medio</td>\n",
       "      <td>medio</td>\n",
       "    </tr>\n",
       "  </tbody>\n",
       "</table>\n",
       "<p>200 rows × 4 columns</p>\n",
       "</div>"
      ],
      "text/plain": [
       "       pred_1    pred_2 alerts_1 alerts_2\n",
       "0    2.481528  2.481528     bajo    medio\n",
       "1    2.604781  2.604781    medio    medio\n",
       "2    2.467210  2.467210     bajo    medio\n",
       "3    2.688910  2.688910    medio    medio\n",
       "4    2.394548  2.394548     bajo     bajo\n",
       "..        ...       ...      ...      ...\n",
       "195  2.320641  2.320641     bajo     bajo\n",
       "196  2.352918  2.352918     bajo     bajo\n",
       "197  2.227477  2.227477     bajo     bajo\n",
       "198  2.454153  2.454153     bajo    medio\n",
       "199  2.546502  2.546502    medio    medio\n",
       "\n",
       "[200 rows x 4 columns]"
      ]
     },
     "execution_count": 20,
     "metadata": {},
     "output_type": "execute_result"
    }
   ],
   "source": [
    "comp = pd.DataFrame()\n",
    "comp['pred_1'] = y_test_predicted\n",
    "comp['pred_2'] = y_test_predicted_\n",
    "comp['alerts_1'] = y_test_alert\n",
    "comp['alerts_2'] = y_test_alert_\n",
    "\n",
    "comp"
   ]
  },
  {
   "cell_type": "code",
   "execution_count": null,
   "id": "fea3d340",
   "metadata": {},
   "outputs": [],
   "source": []
  },
  {
   "cell_type": "code",
   "execution_count": null,
   "id": "822ef09c",
   "metadata": {},
   "outputs": [],
   "source": []
  },
  {
   "cell_type": "markdown",
   "id": "700afd1f",
   "metadata": {},
   "source": [
    "### 6.1 Guardar artefacto modelo custom"
   ]
  },
  {
   "cell_type": "code",
   "execution_count": 21,
   "id": "f4cb227a",
   "metadata": {},
   "outputs": [],
   "source": [
    "import pandas as pd\n",
    "from sklearn.linear_model import LinearRegression"
   ]
  },
  {
   "cell_type": "code",
   "execution_count": 22,
   "id": "925f2b9d",
   "metadata": {},
   "outputs": [],
   "source": [
    "# param model name\n",
    "model_name = 'model.pkl'"
   ]
  },
  {
   "cell_type": "code",
   "execution_count": 23,
   "id": "ea6f98b6",
   "metadata": {},
   "outputs": [],
   "source": [
    "# guardar pickle modelo\n",
    "import pickle\n",
    "\n",
    "with open(model_name, 'wb') as file:\n",
    "    pickle.dump(lr_custom, file)"
   ]
  },
  {
   "cell_type": "markdown",
   "id": "938342e7",
   "metadata": {},
   "source": [
    "### 6.2 Leer artefacto modelo custom\n",
    "Para leer un modelo custom de sklearn no basta con tener el pkl del modelo, ya que este pkl llama a la clase del modelo. Como en este caso la clase es custom se necesita tener un script con el código del modelo (donde este script debe contener todas las librerías que necesita y el código). Luego se debe hacer el import y listo"
   ]
  },
  {
   "cell_type": "code",
   "execution_count": 24,
   "id": "44f65274",
   "metadata": {},
   "outputs": [
    {
     "name": "stdout",
     "output_type": "stream",
     "text": [
      "Writing lr_custom_alerts.py\n"
     ]
    }
   ],
   "source": [
    "%%writefile lr_custom_alerts.py\n",
    "### script con las librerías y la clase del modelo ###\n",
    "\n",
    "from sklearn.linear_model import LinearRegression\n",
    "import pandas as pd\n",
    "import numpy as np\n",
    "\n",
    "class lr_custom_alerts(LinearRegression):\n",
    "    \"\"\"\n",
    "    Clase Regresión Lineal customizada que retorna la predicción y un grado de alerta\n",
    "    \"\"\"\n",
    "    \n",
    "    def train_custom_thresholds_alerts(self, y):\n",
    "        '''\n",
    "        Método auxiliar. \"Entrenamiento\" custom para obtener thresholds de alertas\n",
    "\n",
    "        Args:\n",
    "            y (array): valores y de entrenamiento para obtener thresholds\n",
    "\n",
    "        Returns:\n",
    "            None: No retorna nada. Guarda los valores obtenidos como parámetros de la clase\n",
    "        '''\n",
    "        # params\n",
    "        percentil_bajo_medio = 0.5\n",
    "        percentil_medio_alto = 0.9\n",
    "\n",
    "        # \"\"train\"\" threshold\n",
    "        self.min_value = np.round(y.min(), 2)\n",
    "        self.max_value = np.round(y.max(), 2)\n",
    "        self.threshold_1 = np.round(y.quantile(percentil_bajo_medio), 2)\n",
    "        self.threshold_2 = np.round(y.quantile(percentil_medio_alto), 2)\n",
    "\n",
    "    def get_interval_alert(self, y):\n",
    "        \"\"\"\n",
    "        Método auxiliar. Obtener intervalo de alerta a partir del valor.\n",
    "\n",
    "        Args:\n",
    "            y (array list): array de numpy con los valores a calcularles el rango. Formato: (shape, )\n",
    "\n",
    "        Returns:\n",
    "            array: array de strings con la clasificación de la alerta. Formato (shape, )\n",
    "        \"\"\"\n",
    "        alerts = pd.cut(\n",
    "            x = y,\n",
    "            bins = [self.min_value, self.threshold_1, self.threshold_2, self.max_value],\n",
    "            labels = ['bajo', 'medio', 'alto']\n",
    "        )\n",
    "        return np.array(alerts)\n",
    "\n",
    "    \n",
    "    def fit(self, X, y):\n",
    "        \"\"\"\n",
    "        Método train custom. Llamar al método train de la clase base y al método auxiliar para entrenar el intervalo de alerta\n",
    "        \"\"\"\n",
    "        super().fit(X, y)\n",
    "        self.train_custom_thresholds_alerts(y)\n",
    "    \n",
    "    \n",
    "    def predict(self, X):\n",
    "        \"\"\"\n",
    "        Método predict custom. Llama al método predict de la clase base y al método auxiliar para obtener el intervalo de alerta\n",
    "        \"\"\"\n",
    "        y_pred = super().predict(X)\n",
    "        y_alert = self.get_interval_alert(y_pred)\n",
    "        \n",
    "        return y_pred, y_alert"
   ]
  },
  {
   "cell_type": "code",
   "execution_count": 25,
   "id": "ea753aa2",
   "metadata": {},
   "outputs": [],
   "source": [
    "from lr_custom_alerts import lr_custom_alerts"
   ]
  },
  {
   "cell_type": "code",
   "execution_count": 26,
   "id": "90ff814a",
   "metadata": {},
   "outputs": [],
   "source": [
    "# param model name\n",
    "model_name = 'model.pkl'"
   ]
  },
  {
   "cell_type": "code",
   "execution_count": 27,
   "id": "1aba9b4b",
   "metadata": {},
   "outputs": [
    {
     "data": {
      "text/plain": [
       "(array([2.46608924]), array(['medio'], dtype=object))"
      ]
     },
     "execution_count": 27,
     "metadata": {},
     "output_type": "execute_result"
    }
   ],
   "source": [
    "# read model\n",
    "model_readed = pd.read_pickle(model_name)\n",
    "\n",
    "\n",
    "# instance\n",
    "instance_example = pd.DataFrame(\n",
    "[\n",
    "    [2.667259,  2.750926,  2.446586,  1.030929,  1.330653]\n",
    "])\n",
    "\n",
    "# predict\n",
    "model_readed.predict(instance_example)"
   ]
  },
  {
   "cell_type": "code",
   "execution_count": null,
   "id": "c8fe5b7d",
   "metadata": {},
   "outputs": [],
   "source": []
  },
  {
   "cell_type": "code",
   "execution_count": null,
   "id": "99d45599",
   "metadata": {},
   "outputs": [],
   "source": []
  },
  {
   "cell_type": "code",
   "execution_count": null,
   "id": "1fd9a02b",
   "metadata": {},
   "outputs": [],
   "source": []
  }
 ],
 "metadata": {
  "kernelspec": {
   "display_name": "Python 3 (ipykernel)",
   "language": "python",
   "name": "python3"
  },
  "language_info": {
   "codemirror_mode": {
    "name": "ipython",
    "version": 3
   },
   "file_extension": ".py",
   "mimetype": "text/x-python",
   "name": "python",
   "nbconvert_exporter": "python",
   "pygments_lexer": "ipython3",
   "version": "3.8.13"
  }
 },
 "nbformat": 4,
 "nbformat_minor": 5
}
