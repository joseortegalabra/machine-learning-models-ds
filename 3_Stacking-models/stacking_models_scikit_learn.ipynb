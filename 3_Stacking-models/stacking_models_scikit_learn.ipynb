{
 "cells": [
  {
   "cell_type": "markdown",
   "id": "cc0e711a",
   "metadata": {},
   "source": [
    "# Realizar stacking de modelos en sklearn\n",
    "\n",
    "Hacer stacking de modelos. Combinar múltiples modelos para que estos en su conjunto tengan un rendimiento mejor que los modelos que lo componen.\n",
    "El ejemplo considera un modelo de dos niveles\n",
    "\n",
    "- Nivel 0: Modelos individuales\n",
    "- Nivel 1: Ponderar las predicciones de los modelos individuales\n",
    "\n",
    "Esta metodología permite combinar múltiples modelos, no necesariamente modelos de sklearn sino que se pueden combinar modelos de otras librerías por ejemplo xgb, lgbm, etc\n",
    "\n",
    "\n",
    "#### INFO EXTRA\n",
    "Post con más info: https://blogs.sas.com/content/subconsciousmusings/2017/05/18/stacked-ensemble-models-win-data-science-competitions/"
   ]
  },
  {
   "cell_type": "code",
   "execution_count": 1,
   "id": "b3cf6e57",
   "metadata": {},
   "outputs": [],
   "source": [
    "import warnings\n",
    "warnings.filterwarnings(\"ignore\")\n",
    "\n",
    "import os\n",
    "import pandas as pd\n",
    "import numpy as np\n",
    "import pickle\n",
    "import matplotlib.pyplot as plt\n",
    "\n",
    "from sklearn.ensemble import StackingRegressor\n",
    "from sklearn.model_selection import train_test_split\n",
    "from sklearn.linear_model import LinearRegression\n",
    "from sklearn.ensemble import RandomForestRegressor\n",
    "from sklearn.metrics import mean_squared_error\n",
    "from sklearn.metrics import r2_score\n",
    "\n",
    "from sklearn.metrics import mean_squared_error\n",
    "from sklearn.metrics import mean_absolute_error"
   ]
  },
  {
   "cell_type": "code",
   "execution_count": null,
   "id": "cba2b70c",
   "metadata": {},
   "outputs": [],
   "source": []
  },
  {
   "cell_type": "markdown",
   "id": "3be7575a",
   "metadata": {},
   "source": [
    "### 1. Generar datos\n",
    "Para este ejemplo se utiliza uno de los datasets clásicos: precios de casasa dataset donde el target es el precio de las casas en este caso de california"
   ]
  },
  {
   "cell_type": "code",
   "execution_count": 2,
   "id": "c972495f",
   "metadata": {},
   "outputs": [
    {
     "name": "stdout",
     "output_type": "stream",
     "text": [
      "TRAIN\n",
      "X_train (16512, 8)\n",
      "y_train (16512,)\n",
      "\n",
      "TEST\n",
      "X_test (4128, 8)\n",
      "y_test (4128,)\n"
     ]
    }
   ],
   "source": [
    "#### generar datos ###\n",
    "\n",
    "from sklearn.datasets import fetch_california_housing\n",
    "housing = fetch_california_housing()\n",
    "X_train, X_test, y_train, y_test = train_test_split(housing['data'], housing['target'], test_size = 0.2, random_state=42)\n",
    "\n",
    "#PRINT INFO\n",
    "print('TRAIN')\n",
    "print('X_train', X_train.shape)\n",
    "print('y_train', y_train.shape)\n",
    "\n",
    "print('\\nTEST')\n",
    "print('X_test', X_test.shape)\n",
    "print('y_test', y_test.shape)"
   ]
  },
  {
   "cell_type": "code",
   "execution_count": 3,
   "id": "78305a70",
   "metadata": {},
   "outputs": [
    {
     "data": {
      "image/png": "[encoded data removed]",
      "text/plain": [
       "<Figure size 432x288 with 1 Axes>"
      ]
     },
     "metadata": {
      "needs_background": "light"
     },
     "output_type": "display_data"
    }
   ],
   "source": [
    "# histograma target (precios)\n",
    "plt.hist(housing['target'])\n",
    "plt.show()"
   ]
  },
  {
   "cell_type": "code",
   "execution_count": null,
   "id": "6e75ec4b",
   "metadata": {},
   "outputs": [],
   "source": []
  },
  {
   "cell_type": "code",
   "execution_count": null,
   "id": "25128398",
   "metadata": {},
   "outputs": [],
   "source": []
  },
  {
   "cell_type": "markdown",
   "id": "1388df46",
   "metadata": {},
   "source": [
    "### 2. Generar funciones para entrenar diferentes modelos individuales y evaluarlos"
   ]
  },
  {
   "cell_type": "code",
   "execution_count": 4,
   "id": "f71792c9",
   "metadata": {},
   "outputs": [],
   "source": [
    "def train_model(model, X, y):\n",
    "    \"\"\"\n",
    "    Entrenar modelo\n",
    "    \"\"\"\n",
    "    model.fit(X, y)\n",
    "    return model"
   ]
  },
  {
   "cell_type": "code",
   "execution_count": 5,
   "id": "5350f7da",
   "metadata": {},
   "outputs": [],
   "source": [
    "def evaluate_metrics(model, X, y_true, info = False):\n",
    "    \"\"\"\n",
    "    Evaluate rmse, mae, mean of rmse+mae.\n",
    "    \n",
    "    OBS: \n",
    "     - Inside the functions is called the method model.predict()\n",
    "     - Calculate the metrics (using y_true vs y_predict) and save it in a dataframe\n",
    "    \"\"\"\n",
    "    # predict\n",
    "    prediction = model.predict(X)\n",
    "    \n",
    "    # create a dataframe where the metrics are saved\n",
    "    df_metrics = pd.DataFrame([], columns = ['metric_value'])\n",
    "    \n",
    "    \n",
    "    #### rmse ####\n",
    "    # calculate\n",
    "    rmse = mean_squared_error(y_true = y_true,\n",
    "                  y_pred = prediction,\n",
    "                  squared = False)\n",
    "    # save df\n",
    "    df_metrics = df_metrics.append(pd.DataFrame([rmse], index = ['RMSE'], columns = ['metric_value']))\n",
    "    \n",
    "    \n",
    "    \n",
    "    #### mae ####\n",
    "    # calculate\n",
    "    mae = mean_absolute_error(y_true = y_true,\n",
    "                         y_pred = prediction)\n",
    "    \n",
    "    # save df\n",
    "    df_metrics = df_metrics.append(pd.DataFrame([mae], index = ['MAE'], columns = ['metric_value']))\n",
    "    \n",
    "    \n",
    "    \n",
    "    #### (rmse + mae) / 2 ####\n",
    "    # calculate\n",
    "    rmse_mae = (rmse + mae) / 2\n",
    "    \n",
    "    # save df\n",
    "    df_metrics = df_metrics.append(pd.DataFrame([rmse_mae], index = ['RMSE_MAE'], columns = ['metric_value']))\n",
    "    \n",
    "    \n",
    "    \n",
    "    #### PRINT INFO ####\n",
    "    if info:\n",
    "        print('RMSE: ', rmse)\n",
    "        print('MAE: ', mae)\n",
    "        print('MEAN_RMSE_MAE: ', rmse_mae)\n",
    "    \n",
    "    \n",
    "    return df_metrics"
   ]
  },
  {
   "cell_type": "code",
   "execution_count": null,
   "id": "dddcc3f4",
   "metadata": {},
   "outputs": [],
   "source": []
  },
  {
   "cell_type": "markdown",
   "id": "392c7ab8",
   "metadata": {},
   "source": [
    "### 3. Entrenar y Evaluar Regresión Lineal"
   ]
  },
  {
   "cell_type": "code",
   "execution_count": 6,
   "id": "0884ea06",
   "metadata": {},
   "outputs": [],
   "source": [
    "model_lr = LinearRegression()"
   ]
  },
  {
   "cell_type": "code",
   "execution_count": 7,
   "id": "5483d2b2",
   "metadata": {},
   "outputs": [
    {
     "data": {
      "text/plain": [
       "LinearRegression()"
      ]
     },
     "execution_count": 7,
     "metadata": {},
     "output_type": "execute_result"
    }
   ],
   "source": [
    "# train\n",
    "train_model(model = model_lr, \n",
    "            X = X_train, \n",
    "            y = y_train\n",
    "           )"
   ]
  },
  {
   "cell_type": "code",
   "execution_count": 8,
   "id": "87930918",
   "metadata": {},
   "outputs": [
    {
     "data": {
      "text/html": [
       "<div>\n",
       "<style scoped>\n",
       "    .dataframe tbody tr th:only-of-type {\n",
       "        vertical-align: middle;\n",
       "    }\n",
       "\n",
       "    .dataframe tbody tr th {\n",
       "        vertical-align: top;\n",
       "    }\n",
       "\n",
       "    .dataframe thead th {\n",
       "        text-align: right;\n",
       "    }\n",
       "</style>\n",
       "<table border=\"1\" class=\"dataframe\">\n",
       "  <thead>\n",
       "    <tr style=\"text-align: right;\">\n",
       "      <th></th>\n",
       "      <th>metric_value</th>\n",
       "    </tr>\n",
       "  </thead>\n",
       "  <tbody>\n",
       "    <tr>\n",
       "      <th>RMSE</th>\n",
       "      <td>0.745581</td>\n",
       "    </tr>\n",
       "    <tr>\n",
       "      <th>MAE</th>\n",
       "      <td>0.533200</td>\n",
       "    </tr>\n",
       "    <tr>\n",
       "      <th>RMSE_MAE</th>\n",
       "      <td>0.639391</td>\n",
       "    </tr>\n",
       "  </tbody>\n",
       "</table>\n",
       "</div>"
      ],
      "text/plain": [
       "          metric_value\n",
       "RMSE          0.745581\n",
       "MAE           0.533200\n",
       "RMSE_MAE      0.639391"
      ]
     },
     "execution_count": 8,
     "metadata": {},
     "output_type": "execute_result"
    }
   ],
   "source": [
    "# evaluar\n",
    "df_metrics_lr = evaluate_metrics(model = model_lr, \n",
    "                                 X = X_test, \n",
    "                                 y_true = y_test\n",
    "                                )\n",
    "\n",
    "df_metrics_lr"
   ]
  },
  {
   "cell_type": "code",
   "execution_count": null,
   "id": "b862235e",
   "metadata": {},
   "outputs": [],
   "source": []
  },
  {
   "cell_type": "markdown",
   "id": "91c04fa1",
   "metadata": {},
   "source": [
    "### 4. Entrenar Random Forest"
   ]
  },
  {
   "cell_type": "code",
   "execution_count": 9,
   "id": "358b8bcd",
   "metadata": {},
   "outputs": [],
   "source": [
    "model_rf = RandomForestRegressor(5, random_state = 42)"
   ]
  },
  {
   "cell_type": "code",
   "execution_count": 10,
   "id": "25601b4d",
   "metadata": {},
   "outputs": [
    {
     "data": {
      "text/plain": [
       "RandomForestRegressor(n_estimators=5, random_state=42)"
      ]
     },
     "execution_count": 10,
     "metadata": {},
     "output_type": "execute_result"
    }
   ],
   "source": [
    "# train\n",
    "train_model(model = model_rf, \n",
    "            X = X_train, \n",
    "            y = y_train\n",
    "           )"
   ]
  },
  {
   "cell_type": "code",
   "execution_count": 11,
   "id": "4de93faa",
   "metadata": {},
   "outputs": [
    {
     "data": {
      "text/html": [
       "<div>\n",
       "<style scoped>\n",
       "    .dataframe tbody tr th:only-of-type {\n",
       "        vertical-align: middle;\n",
       "    }\n",
       "\n",
       "    .dataframe tbody tr th {\n",
       "        vertical-align: top;\n",
       "    }\n",
       "\n",
       "    .dataframe thead th {\n",
       "        text-align: right;\n",
       "    }\n",
       "</style>\n",
       "<table border=\"1\" class=\"dataframe\">\n",
       "  <thead>\n",
       "    <tr style=\"text-align: right;\">\n",
       "      <th></th>\n",
       "      <th>metric_value</th>\n",
       "    </tr>\n",
       "  </thead>\n",
       "  <tbody>\n",
       "    <tr>\n",
       "      <th>RMSE</th>\n",
       "      <td>0.552773</td>\n",
       "    </tr>\n",
       "    <tr>\n",
       "      <th>MAE</th>\n",
       "      <td>0.364361</td>\n",
       "    </tr>\n",
       "    <tr>\n",
       "      <th>RMSE_MAE</th>\n",
       "      <td>0.458567</td>\n",
       "    </tr>\n",
       "  </tbody>\n",
       "</table>\n",
       "</div>"
      ],
      "text/plain": [
       "          metric_value\n",
       "RMSE          0.552773\n",
       "MAE           0.364361\n",
       "RMSE_MAE      0.458567"
      ]
     },
     "execution_count": 11,
     "metadata": {},
     "output_type": "execute_result"
    }
   ],
   "source": [
    "# evaluar\n",
    "df_metrics_rf = evaluate_metrics(model = model_rf, \n",
    "                                 X = X_test, \n",
    "                                 y_true = y_test\n",
    "                                )\n",
    "\n",
    "df_metrics_rf"
   ]
  },
  {
   "cell_type": "code",
   "execution_count": null,
   "id": "7ae29ec4",
   "metadata": {},
   "outputs": [],
   "source": []
  },
  {
   "cell_type": "markdown",
   "id": "f34321a2",
   "metadata": {},
   "source": [
    "### 5. Entrenar XGB"
   ]
  },
  {
   "cell_type": "code",
   "execution_count": 12,
   "id": "27f9077a",
   "metadata": {},
   "outputs": [],
   "source": [
    "from xgboost import XGBRegressor"
   ]
  },
  {
   "cell_type": "code",
   "execution_count": 13,
   "id": "cbf3f4ab",
   "metadata": {},
   "outputs": [],
   "source": [
    "model_xgb = XGBRegressor(random_state = 42, objective = \"reg:squarederror\")"
   ]
  },
  {
   "cell_type": "code",
   "execution_count": 14,
   "id": "b993db64",
   "metadata": {},
   "outputs": [
    {
     "data": {
      "text/plain": [
       "XGBRegressor(base_score=None, booster=None, callbacks=None,\n",
       "             colsample_bylevel=None, colsample_bynode=None,\n",
       "             colsample_bytree=None, early_stopping_rounds=None,\n",
       "             enable_categorical=False, eval_metric=None, feature_types=None,\n",
       "             gamma=None, gpu_id=None, grow_policy=None, importance_type=None,\n",
       "             interaction_constraints=None, learning_rate=None, max_bin=None,\n",
       "             max_cat_threshold=None, max_cat_to_onehot=None,\n",
       "             max_delta_step=None, max_depth=None, max_leaves=None,\n",
       "             min_child_weight=None, missing=nan, monotone_constraints=None,\n",
       "             n_estimators=100, n_jobs=None, num_parallel_tree=None,\n",
       "             predictor=None, random_state=42, ...)"
      ]
     },
     "execution_count": 14,
     "metadata": {},
     "output_type": "execute_result"
    }
   ],
   "source": [
    "# train\n",
    "train_model(model = model_xgb, \n",
    "            X = X_train, \n",
    "            y = y_train\n",
    "           )"
   ]
  },
  {
   "cell_type": "code",
   "execution_count": 15,
   "id": "d7de6769",
   "metadata": {},
   "outputs": [
    {
     "data": {
      "text/html": [
       "<div>\n",
       "<style scoped>\n",
       "    .dataframe tbody tr th:only-of-type {\n",
       "        vertical-align: middle;\n",
       "    }\n",
       "\n",
       "    .dataframe tbody tr th {\n",
       "        vertical-align: top;\n",
       "    }\n",
       "\n",
       "    .dataframe thead th {\n",
       "        text-align: right;\n",
       "    }\n",
       "</style>\n",
       "<table border=\"1\" class=\"dataframe\">\n",
       "  <thead>\n",
       "    <tr style=\"text-align: right;\">\n",
       "      <th></th>\n",
       "      <th>metric_value</th>\n",
       "    </tr>\n",
       "  </thead>\n",
       "  <tbody>\n",
       "    <tr>\n",
       "      <th>RMSE</th>\n",
       "      <td>0.473902</td>\n",
       "    </tr>\n",
       "    <tr>\n",
       "      <th>MAE</th>\n",
       "      <td>0.311302</td>\n",
       "    </tr>\n",
       "    <tr>\n",
       "      <th>RMSE_MAE</th>\n",
       "      <td>0.392602</td>\n",
       "    </tr>\n",
       "  </tbody>\n",
       "</table>\n",
       "</div>"
      ],
      "text/plain": [
       "          metric_value\n",
       "RMSE          0.473902\n",
       "MAE           0.311302\n",
       "RMSE_MAE      0.392602"
      ]
     },
     "execution_count": 15,
     "metadata": {},
     "output_type": "execute_result"
    }
   ],
   "source": [
    "# evaluar\n",
    "df_metrics_xgb = evaluate_metrics(model = model_xgb, \n",
    "                                 X = X_test, \n",
    "                                 y_true = y_test\n",
    "                                )\n",
    "\n",
    "df_metrics_xgb"
   ]
  },
  {
   "cell_type": "code",
   "execution_count": null,
   "id": "3874099d",
   "metadata": {},
   "outputs": [],
   "source": []
  },
  {
   "cell_type": "markdown",
   "id": "e669ae51",
   "metadata": {},
   "source": [
    "### 6. Stacking models"
   ]
  },
  {
   "cell_type": "code",
   "execution_count": 16,
   "id": "19fa62b2",
   "metadata": {},
   "outputs": [],
   "source": [
    "def stacking():\n",
    "    # define the base models level.append(('name_model', model))\n",
    "    level0 = []\n",
    "    \n",
    "    level0.append(\n",
    "        ('lr', LinearRegression())\n",
    "    )\n",
    "    \n",
    "    level0.append(\n",
    "        ('rf', RandomForestRegressor(100, random_state = 42))\n",
    "    )\n",
    "    \n",
    "    level0.append(\n",
    "        ('xgb', XGBRegressor(random_state = 42, objective = \"reg:squarederror\"))\n",
    "    )\n",
    "    \n",
    "    \n",
    "    # define meta learner model\n",
    "    level1 = LinearRegression()\n",
    "    \n",
    "    \n",
    "    # define the stacking ensemble\n",
    "    model = StackingRegressor(estimators = level0, final_estimator = level1, cv=5)\n",
    "    \n",
    "    return model"
   ]
  },
  {
   "cell_type": "code",
   "execution_count": 17,
   "id": "cea4596b",
   "metadata": {},
   "outputs": [],
   "source": [
    "model_stacking = stacking()"
   ]
  },
  {
   "cell_type": "code",
   "execution_count": 18,
   "id": "107f6aea",
   "metadata": {},
   "outputs": [
    {
     "data": {
      "text/plain": [
       "StackingRegressor(cv=5,\n",
       "                  estimators=[('lr', LinearRegression()),\n",
       "                              ('rf', RandomForestRegressor(random_state=42)),\n",
       "                              ('xgb',\n",
       "                               XGBRegressor(base_score=None, booster=None,\n",
       "                                            callbacks=None,\n",
       "                                            colsample_bylevel=None,\n",
       "                                            colsample_bynode=None,\n",
       "                                            colsample_bytree=None,\n",
       "                                            early_stopping_rounds=None,\n",
       "                                            enable_categorical=False,\n",
       "                                            eval_metric=None,\n",
       "                                            feature_types=None, gamma=None,\n",
       "                                            gpu_id=None, g...\n",
       "                                            importance_type=None,\n",
       "                                            interaction_constraints=None,\n",
       "                                            learning_rate=None, max_bin=None,\n",
       "                                            max_cat_threshold=None,\n",
       "                                            max_cat_to_onehot=None,\n",
       "                                            max_delta_step=None, max_depth=None,\n",
       "                                            max_leaves=None,\n",
       "                                            min_child_weight=None, missing=nan,\n",
       "                                            monotone_constraints=None,\n",
       "                                            n_estimators=100, n_jobs=None,\n",
       "                                            num_parallel_tree=None,\n",
       "                                            predictor=None, random_state=42, ...))],\n",
       "                  final_estimator=LinearRegression())"
      ]
     },
     "execution_count": 18,
     "metadata": {},
     "output_type": "execute_result"
    }
   ],
   "source": [
    "# train\n",
    "train_model(model = model_stacking, \n",
    "            X = X_train, \n",
    "            y = y_train\n",
    "           )"
   ]
  },
  {
   "cell_type": "code",
   "execution_count": 19,
   "id": "ab8a1cb0",
   "metadata": {},
   "outputs": [
    {
     "data": {
      "text/html": [
       "<div>\n",
       "<style scoped>\n",
       "    .dataframe tbody tr th:only-of-type {\n",
       "        vertical-align: middle;\n",
       "    }\n",
       "\n",
       "    .dataframe tbody tr th {\n",
       "        vertical-align: top;\n",
       "    }\n",
       "\n",
       "    .dataframe thead th {\n",
       "        text-align: right;\n",
       "    }\n",
       "</style>\n",
       "<table border=\"1\" class=\"dataframe\">\n",
       "  <thead>\n",
       "    <tr style=\"text-align: right;\">\n",
       "      <th></th>\n",
       "      <th>metric_value</th>\n",
       "    </tr>\n",
       "  </thead>\n",
       "  <tbody>\n",
       "    <tr>\n",
       "      <th>RMSE</th>\n",
       "      <td>0.469241</td>\n",
       "    </tr>\n",
       "    <tr>\n",
       "      <th>MAE</th>\n",
       "      <td>0.304173</td>\n",
       "    </tr>\n",
       "    <tr>\n",
       "      <th>RMSE_MAE</th>\n",
       "      <td>0.386707</td>\n",
       "    </tr>\n",
       "  </tbody>\n",
       "</table>\n",
       "</div>"
      ],
      "text/plain": [
       "          metric_value\n",
       "RMSE          0.469241\n",
       "MAE           0.304173\n",
       "RMSE_MAE      0.386707"
      ]
     },
     "execution_count": 19,
     "metadata": {},
     "output_type": "execute_result"
    }
   ],
   "source": [
    "# evaluar\n",
    "df_metrics_stacking = evaluate_metrics(model = model_stacking, \n",
    "                                 X = X_test, \n",
    "                                 y_true = y_test\n",
    "                                )\n",
    "\n",
    "df_metrics_stacking"
   ]
  },
  {
   "cell_type": "code",
   "execution_count": null,
   "id": "f1455ceb",
   "metadata": {},
   "outputs": [],
   "source": []
  },
  {
   "cell_type": "markdown",
   "id": "c3409fbb",
   "metadata": {},
   "source": [
    "### Comparar resultados. Métrica RMSE\n",
    "Se puede observar que bajo la métrica RMSE en los datos de test se obtienen los mejores valores de métricas utilizando el modelo stacking"
   ]
  },
  {
   "cell_type": "code",
   "execution_count": 20,
   "id": "25c1cc0e",
   "metadata": {},
   "outputs": [
    {
     "data": {
      "text/html": [
       "<div>\n",
       "<style scoped>\n",
       "    .dataframe tbody tr th:only-of-type {\n",
       "        vertical-align: middle;\n",
       "    }\n",
       "\n",
       "    .dataframe tbody tr th {\n",
       "        vertical-align: top;\n",
       "    }\n",
       "\n",
       "    .dataframe thead th {\n",
       "        text-align: right;\n",
       "    }\n",
       "</style>\n",
       "<table border=\"1\" class=\"dataframe\">\n",
       "  <thead>\n",
       "    <tr style=\"text-align: right;\">\n",
       "      <th></th>\n",
       "      <th>lr</th>\n",
       "      <th>rf</th>\n",
       "      <th>xgb</th>\n",
       "      <th>stacking</th>\n",
       "    </tr>\n",
       "  </thead>\n",
       "  <tbody>\n",
       "    <tr>\n",
       "      <th>0</th>\n",
       "      <td>0.7456</td>\n",
       "      <td>0.5528</td>\n",
       "      <td>0.4739</td>\n",
       "      <td>0.4692</td>\n",
       "    </tr>\n",
       "  </tbody>\n",
       "</table>\n",
       "</div>"
      ],
      "text/plain": [
       "       lr      rf     xgb  stacking\n",
       "0  0.7456  0.5528  0.4739    0.4692"
      ]
     },
     "execution_count": 20,
     "metadata": {},
     "output_type": "execute_result"
    }
   ],
   "source": [
    "output = pd.DataFrame(columns = ['lr', 'rf', 'xgb', 'stacking'])\n",
    "\n",
    "output['lr'] = [np.round(df_metrics_lr.T['RMSE'].values[0], 4)]\n",
    "output['rf'] = [np.round(df_metrics_rf.T['RMSE'].values[0], 4)]\n",
    "output['xgb'] = [np.round(df_metrics_xgb.T['RMSE'].values[0], 4)]\n",
    "output['stacking'] = [np.round(df_metrics_stacking.T['RMSE'].values[0], 4)]\n",
    "\n",
    "output"
   ]
  },
  {
   "cell_type": "code",
   "execution_count": null,
   "id": "6961d946",
   "metadata": {},
   "outputs": [],
   "source": []
  },
  {
   "cell_type": "code",
   "execution_count": null,
   "id": "367c3d27",
   "metadata": {},
   "outputs": [],
   "source": []
  },
  {
   "cell_type": "markdown",
   "id": "52331cfb",
   "metadata": {},
   "source": [
    "### 7.1. Guardar pkl mejor modelo"
   ]
  },
  {
   "cell_type": "code",
   "execution_count": 21,
   "id": "6334885f",
   "metadata": {},
   "outputs": [],
   "source": [
    "# guardar pickle modelo\n",
    "import pickle\n",
    "\n",
    "model_name = 'model.pkl'\n",
    "with open(model_name, 'wb') as file:\n",
    "    pickle.dump(model_stacking, file)"
   ]
  },
  {
   "cell_type": "code",
   "execution_count": null,
   "id": "b71ff32a",
   "metadata": {},
   "outputs": [],
   "source": []
  },
  {
   "cell_type": "markdown",
   "id": "818a0e8e",
   "metadata": {},
   "source": [
    "### 7.2 Cargar modelo guardado"
   ]
  },
  {
   "cell_type": "code",
   "execution_count": 22,
   "id": "91e15673",
   "metadata": {},
   "outputs": [],
   "source": [
    "import pandas as pd\n",
    "model_name = 'model.pkl'\n",
    "model = pd.read_pickle(model_name)"
   ]
  },
  {
   "cell_type": "code",
   "execution_count": null,
   "id": "5c193c2b",
   "metadata": {},
   "outputs": [],
   "source": []
  }
 ],
 "metadata": {
  "kernelspec": {
   "display_name": "Python 3 (ipykernel)",
   "language": "python",
   "name": "python3"
  },
  "language_info": {
   "codemirror_mode": {
    "name": "ipython",
    "version": 3
   },
   "file_extension": ".py",
   "mimetype": "text/x-python",
   "name": "python",
   "nbconvert_exporter": "python",
   "pygments_lexer": "ipython3",
   "version": "3.8.13"
  }
 },
 "nbformat": 4,
 "nbformat_minor": 5
}
