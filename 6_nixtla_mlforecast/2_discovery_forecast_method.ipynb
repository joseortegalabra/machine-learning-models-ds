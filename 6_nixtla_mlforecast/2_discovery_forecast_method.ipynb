{
 "cells": [
  {
   "cell_type": "markdown",
   "id": "57efd4ef-52ff-4421-a7f3-0dfe84f9a7dd",
   "metadata": {},
   "source": [
    "# Entendiendo modelos\n",
    "- Entender cómo se utilizan los modelos de ML para hacer el forecast\n",
    "- Entender qué features ve el modelo para hacer el forecast"
   ]
  },
  {
   "cell_type": "code",
   "execution_count": 1,
   "id": "8e7b7c57-b32e-44cd-9438-ba45ef782f75",
   "metadata": {},
   "outputs": [],
   "source": [
    "import random\n",
    "import tempfile\n",
    "from pathlib import Path\n",
    "\n",
    "import pandas as pd\n",
    "from datasetsforecast.m4 import M4\n",
    "from utilsforecast.plotting import plot_series\n",
    "\n",
    "from sklearn.linear_model import LinearRegression\n",
    "from mlforecast import MLForecast\n",
    "\n",
    "import numpy as np"
   ]
  },
  {
   "cell_type": "markdown",
   "id": "a5987946-f10c-446c-8c72-d2e24825444d",
   "metadata": {},
   "source": [
    "### 0. Data"
   ]
  },
  {
   "cell_type": "code",
   "execution_count": 2,
   "id": "50cf750a-3ee4-48ea-a53b-5174bcad13f7",
   "metadata": {},
   "outputs": [],
   "source": [
    "await M4.async_download('data', group='Hourly')\n",
    "df, *_ = M4.load('data', 'Hourly')\n",
    "uids = df['unique_id'].unique()\n",
    "random.seed(0)\n",
    "sample_uids = random.choices(uids, k=4)\n",
    "df = df[df['unique_id'].isin(sample_uids)].reset_index(drop=True)\n",
    "df['ds'] = df['ds'].astype('int64')"
   ]
  },
  {
   "cell_type": "code",
   "execution_count": 3,
   "id": "5eeed026-86af-4e08-8753-2075bf370674",
   "metadata": {},
   "outputs": [
    {
     "data": {
      "text/html": [
       "<div>\n",
       "<style scoped>\n",
       "    .dataframe tbody tr th:only-of-type {\n",
       "        vertical-align: middle;\n",
       "    }\n",
       "\n",
       "    .dataframe tbody tr th {\n",
       "        vertical-align: top;\n",
       "    }\n",
       "\n",
       "    .dataframe thead th {\n",
       "        text-align: right;\n",
       "    }\n",
       "</style>\n",
       "<table border=\"1\" class=\"dataframe\">\n",
       "  <thead>\n",
       "    <tr style=\"text-align: right;\">\n",
       "      <th></th>\n",
       "      <th>unique_id</th>\n",
       "      <th>ds</th>\n",
       "      <th>y</th>\n",
       "    </tr>\n",
       "  </thead>\n",
       "  <tbody>\n",
       "    <tr>\n",
       "      <th>0</th>\n",
       "      <td>H196</td>\n",
       "      <td>1</td>\n",
       "      <td>11.8</td>\n",
       "    </tr>\n",
       "    <tr>\n",
       "      <th>1</th>\n",
       "      <td>H196</td>\n",
       "      <td>2</td>\n",
       "      <td>11.4</td>\n",
       "    </tr>\n",
       "    <tr>\n",
       "      <th>2</th>\n",
       "      <td>H196</td>\n",
       "      <td>3</td>\n",
       "      <td>11.1</td>\n",
       "    </tr>\n",
       "    <tr>\n",
       "      <th>3</th>\n",
       "      <td>H196</td>\n",
       "      <td>4</td>\n",
       "      <td>10.8</td>\n",
       "    </tr>\n",
       "    <tr>\n",
       "      <th>4</th>\n",
       "      <td>H196</td>\n",
       "      <td>5</td>\n",
       "      <td>10.6</td>\n",
       "    </tr>\n",
       "  </tbody>\n",
       "</table>\n",
       "</div>"
      ],
      "text/plain": [
       "  unique_id  ds     y\n",
       "0      H196   1  11.8\n",
       "1      H196   2  11.4\n",
       "2      H196   3  11.1\n",
       "3      H196   4  10.8\n",
       "4      H196   5  10.6"
      ]
     },
     "execution_count": 3,
     "metadata": {},
     "output_type": "execute_result"
    }
   ],
   "source": [
    "df.head()"
   ]
  },
  {
   "cell_type": "code",
   "execution_count": null,
   "id": "66341941-4a6b-4e18-af78-bc51de682c16",
   "metadata": {},
   "outputs": [],
   "source": []
  },
  {
   "cell_type": "markdown",
   "id": "2c60a523-3762-4a54-aee6-7e35ab4bfb08",
   "metadata": {},
   "source": [
    "### 1. Entrenar modelos\n",
    "- Entrenar modelo que ve 4 series de tiempo\n",
    "- Entrenar modelo que ve 1 serie de tiempo"
   ]
  },
  {
   "cell_type": "code",
   "execution_count": 4,
   "id": "48c6c2ad-a2a1-42b7-8bed-8854c5b8529e",
   "metadata": {},
   "outputs": [],
   "source": [
    "# obtener dataset con 4 series\n",
    "df_4series = df.copy()"
   ]
  },
  {
   "cell_type": "code",
   "execution_count": 5,
   "id": "f9df4271-3453-4c06-b0f3-d303c8cb9b33",
   "metadata": {},
   "outputs": [],
   "source": [
    "# crear modelo que ve 4 series\n",
    "fcst_4series = MLForecast(\n",
    "    models=[LinearRegression()],\n",
    "    freq=1,\n",
    "    lags=[1, 2, 3],\n",
    ")"
   ]
  },
  {
   "cell_type": "code",
   "execution_count": 6,
   "id": "4ddef382-490c-4daa-8418-4c6951bca874",
   "metadata": {},
   "outputs": [
    {
     "data": {
      "text/plain": [
       "MLForecast(models=[LinearRegression], freq=1, lag_features=['lag1', 'lag2', 'lag3'], date_features=[], num_threads=1)"
      ]
     },
     "execution_count": 6,
     "metadata": {},
     "output_type": "execute_result"
    }
   ],
   "source": [
    "fcst_4series.fit(df_4series)"
   ]
  },
  {
   "cell_type": "code",
   "execution_count": 7,
   "id": "a09dd0f7-482c-4fec-90ae-d38d431db053",
   "metadata": {},
   "outputs": [
    {
     "data": {
      "text/html": [
       "<div>\n",
       "<style scoped>\n",
       "    .dataframe tbody tr th:only-of-type {\n",
       "        vertical-align: middle;\n",
       "    }\n",
       "\n",
       "    .dataframe tbody tr th {\n",
       "        vertical-align: top;\n",
       "    }\n",
       "\n",
       "    .dataframe thead th {\n",
       "        text-align: right;\n",
       "    }\n",
       "</style>\n",
       "<table border=\"1\" class=\"dataframe\">\n",
       "  <thead>\n",
       "    <tr style=\"text-align: right;\">\n",
       "      <th></th>\n",
       "      <th>unique_id</th>\n",
       "      <th>ds</th>\n",
       "      <th>y</th>\n",
       "    </tr>\n",
       "  </thead>\n",
       "  <tbody>\n",
       "    <tr>\n",
       "      <th>1007</th>\n",
       "      <td>H196</td>\n",
       "      <td>1008</td>\n",
       "      <td>16.8</td>\n",
       "    </tr>\n",
       "    <tr>\n",
       "      <th>2015</th>\n",
       "      <td>H256</td>\n",
       "      <td>1008</td>\n",
       "      <td>13.4</td>\n",
       "    </tr>\n",
       "    <tr>\n",
       "      <th>3023</th>\n",
       "      <td>H381</td>\n",
       "      <td>1008</td>\n",
       "      <td>207.0</td>\n",
       "    </tr>\n",
       "    <tr>\n",
       "      <th>4031</th>\n",
       "      <td>H413</td>\n",
       "      <td>1008</td>\n",
       "      <td>34.0</td>\n",
       "    </tr>\n",
       "  </tbody>\n",
       "</table>\n",
       "</div>"
      ],
      "text/plain": [
       "     unique_id    ds      y\n",
       "1007      H196  1008   16.8\n",
       "2015      H256  1008   13.4\n",
       "3023      H381  1008  207.0\n",
       "4031      H413  1008   34.0"
      ]
     },
     "execution_count": 7,
     "metadata": {},
     "output_type": "execute_result"
    }
   ],
   "source": [
    "# obtener el ultimo valor real\n",
    "df_4series.groupby('unique_id').tail(1)"
   ]
  },
  {
   "cell_type": "code",
   "execution_count": 8,
   "id": "73286599-c193-453c-b5be-13f0c2bce82b",
   "metadata": {},
   "outputs": [
    {
     "data": {
      "text/html": [
       "<div>\n",
       "<style scoped>\n",
       "    .dataframe tbody tr th:only-of-type {\n",
       "        vertical-align: middle;\n",
       "    }\n",
       "\n",
       "    .dataframe tbody tr th {\n",
       "        vertical-align: top;\n",
       "    }\n",
       "\n",
       "    .dataframe thead th {\n",
       "        text-align: right;\n",
       "    }\n",
       "</style>\n",
       "<table border=\"1\" class=\"dataframe\">\n",
       "  <thead>\n",
       "    <tr style=\"text-align: right;\">\n",
       "      <th></th>\n",
       "      <th>unique_id</th>\n",
       "      <th>ds</th>\n",
       "      <th>LinearRegression</th>\n",
       "    </tr>\n",
       "  </thead>\n",
       "  <tbody>\n",
       "    <tr>\n",
       "      <th>0</th>\n",
       "      <td>H196</td>\n",
       "      <td>1009</td>\n",
       "      <td>18.830526</td>\n",
       "    </tr>\n",
       "    <tr>\n",
       "      <th>1</th>\n",
       "      <td>H256</td>\n",
       "      <td>1009</td>\n",
       "      <td>15.671004</td>\n",
       "    </tr>\n",
       "    <tr>\n",
       "      <th>2</th>\n",
       "      <td>H381</td>\n",
       "      <td>1009</td>\n",
       "      <td>209.659443</td>\n",
       "    </tr>\n",
       "    <tr>\n",
       "      <th>3</th>\n",
       "      <td>H413</td>\n",
       "      <td>1009</td>\n",
       "      <td>32.658524</td>\n",
       "    </tr>\n",
       "  </tbody>\n",
       "</table>\n",
       "</div>"
      ],
      "text/plain": [
       "  unique_id    ds  LinearRegression\n",
       "0      H196  1009         18.830526\n",
       "1      H256  1009         15.671004\n",
       "2      H381  1009        209.659443\n",
       "3      H413  1009         32.658524"
      ]
     },
     "execution_count": 8,
     "metadata": {},
     "output_type": "execute_result"
    }
   ],
   "source": [
    "# fcst un horizonte de tiempo\n",
    "fcst_4series.predict(1)"
   ]
  },
  {
   "cell_type": "code",
   "execution_count": 9,
   "id": "0244388a-f611-453d-8c7e-e50fd220039b",
   "metadata": {},
   "outputs": [
    {
     "data": {
      "text/html": [
       "<div>\n",
       "<style scoped>\n",
       "    .dataframe tbody tr th:only-of-type {\n",
       "        vertical-align: middle;\n",
       "    }\n",
       "\n",
       "    .dataframe tbody tr th {\n",
       "        vertical-align: top;\n",
       "    }\n",
       "\n",
       "    .dataframe thead th {\n",
       "        text-align: right;\n",
       "    }\n",
       "</style>\n",
       "<table border=\"1\" class=\"dataframe\">\n",
       "  <thead>\n",
       "    <tr style=\"text-align: right;\">\n",
       "      <th></th>\n",
       "      <th>unique_id</th>\n",
       "      <th>ds</th>\n",
       "      <th>y</th>\n",
       "      <th>lag1</th>\n",
       "      <th>lag2</th>\n",
       "      <th>lag3</th>\n",
       "    </tr>\n",
       "  </thead>\n",
       "  <tbody>\n",
       "    <tr>\n",
       "      <th>1007</th>\n",
       "      <td>H196</td>\n",
       "      <td>1008</td>\n",
       "      <td>16.8</td>\n",
       "      <td>17.3</td>\n",
       "      <td>17.8</td>\n",
       "      <td>18.6</td>\n",
       "    </tr>\n",
       "    <tr>\n",
       "      <th>2015</th>\n",
       "      <td>H256</td>\n",
       "      <td>1008</td>\n",
       "      <td>13.4</td>\n",
       "      <td>13.8</td>\n",
       "      <td>14.3</td>\n",
       "      <td>14.8</td>\n",
       "    </tr>\n",
       "    <tr>\n",
       "      <th>3023</th>\n",
       "      <td>H381</td>\n",
       "      <td>1008</td>\n",
       "      <td>207.0</td>\n",
       "      <td>169.0</td>\n",
       "      <td>148.0</td>\n",
       "      <td>176.0</td>\n",
       "    </tr>\n",
       "    <tr>\n",
       "      <th>4031</th>\n",
       "      <td>H413</td>\n",
       "      <td>1008</td>\n",
       "      <td>34.0</td>\n",
       "      <td>41.0</td>\n",
       "      <td>47.0</td>\n",
       "      <td>88.0</td>\n",
       "    </tr>\n",
       "  </tbody>\n",
       "</table>\n",
       "</div>"
      ],
      "text/plain": [
       "     unique_id    ds      y   lag1   lag2   lag3\n",
       "1007      H196  1008   16.8   17.3   17.8   18.6\n",
       "2015      H256  1008   13.4   13.8   14.3   14.8\n",
       "3023      H381  1008  207.0  169.0  148.0  176.0\n",
       "4031      H413  1008   34.0   41.0   47.0   88.0"
      ]
     },
     "execution_count": 9,
     "metadata": {},
     "output_type": "execute_result"
    }
   ],
   "source": [
    "# obtener la ultima instancia X con los datos transformados. De cada serie\n",
    "fcst_4series.preprocess(df_4series).groupby('unique_id').tail(1)"
   ]
  },
  {
   "cell_type": "code",
   "execution_count": 10,
   "id": "97b2ade7-0400-49ef-bc5e-bcb0cd464426",
   "metadata": {},
   "outputs": [],
   "source": [
    "# guardar modelo\n",
    "\n",
    "# path folder: # solo es necesario indicar folder donde guardar. Internamente se guardan 2 pkl (modelos de ml y arquitectura de nixtla)\n",
    "folder_path_4series = 'models/fcst_4series' \n",
    "# save\n",
    "fcst_4series.save(folder_path_4series)"
   ]
  },
  {
   "cell_type": "code",
   "execution_count": null,
   "id": "f379f89a-0e7c-46da-b542-cd8321e080e0",
   "metadata": {},
   "outputs": [],
   "source": []
  },
  {
   "cell_type": "markdown",
   "id": "1340a441-da09-4425-be5e-5308a25db669",
   "metadata": {},
   "source": [
    "#### 1.2 entrenar modelo que ve solo 1 serie"
   ]
  },
  {
   "cell_type": "code",
   "execution_count": 11,
   "id": "99e153cb-a857-45b5-bfdd-5effb5aa1f4d",
   "metadata": {},
   "outputs": [
    {
     "data": {
      "text/html": [
       "<div>\n",
       "<style scoped>\n",
       "    .dataframe tbody tr th:only-of-type {\n",
       "        vertical-align: middle;\n",
       "    }\n",
       "\n",
       "    .dataframe tbody tr th {\n",
       "        vertical-align: top;\n",
       "    }\n",
       "\n",
       "    .dataframe thead th {\n",
       "        text-align: right;\n",
       "    }\n",
       "</style>\n",
       "<table border=\"1\" class=\"dataframe\">\n",
       "  <thead>\n",
       "    <tr style=\"text-align: right;\">\n",
       "      <th></th>\n",
       "      <th>unique_id</th>\n",
       "      <th>ds</th>\n",
       "      <th>y</th>\n",
       "    </tr>\n",
       "  </thead>\n",
       "  <tbody>\n",
       "    <tr>\n",
       "      <th>0</th>\n",
       "      <td>H196</td>\n",
       "      <td>1</td>\n",
       "      <td>11.8</td>\n",
       "    </tr>\n",
       "    <tr>\n",
       "      <th>1</th>\n",
       "      <td>H196</td>\n",
       "      <td>2</td>\n",
       "      <td>11.4</td>\n",
       "    </tr>\n",
       "    <tr>\n",
       "      <th>2</th>\n",
       "      <td>H196</td>\n",
       "      <td>3</td>\n",
       "      <td>11.1</td>\n",
       "    </tr>\n",
       "  </tbody>\n",
       "</table>\n",
       "</div>"
      ],
      "text/plain": [
       "  unique_id  ds     y\n",
       "0      H196   1  11.8\n",
       "1      H196   2  11.4\n",
       "2      H196   3  11.1"
      ]
     },
     "execution_count": 11,
     "metadata": {},
     "output_type": "execute_result"
    }
   ],
   "source": [
    "# crear df que tiene solo una serie\n",
    "df_1series = df[df['unique_id'] == 'H196']\n",
    "df_1series.head(3)"
   ]
  },
  {
   "cell_type": "code",
   "execution_count": 12,
   "id": "b44fb0b0-b819-477f-a52b-9a13d5af833f",
   "metadata": {},
   "outputs": [
    {
     "data": {
      "text/plain": [
       "MLForecast(models=[LinearRegression], freq=1, lag_features=['lag1', 'lag2', 'lag3'], date_features=[], num_threads=1)"
      ]
     },
     "execution_count": 12,
     "metadata": {},
     "output_type": "execute_result"
    }
   ],
   "source": [
    "# crear modelo - misma arquitectura que modelo que ve 4 series\n",
    "fcst_1series = MLForecast(\n",
    "    models=[LinearRegression()],\n",
    "    freq=1,\n",
    "    lags=[1, 2, 3],\n",
    ")\n",
    "fcst_1series"
   ]
  },
  {
   "cell_type": "code",
   "execution_count": 13,
   "id": "241cb74b-d511-4f05-9c71-e4031450d09a",
   "metadata": {},
   "outputs": [
    {
     "data": {
      "text/plain": [
       "MLForecast(models=[LinearRegression], freq=1, lag_features=['lag1', 'lag2', 'lag3'], date_features=[], num_threads=1)"
      ]
     },
     "execution_count": 13,
     "metadata": {},
     "output_type": "execute_result"
    }
   ],
   "source": [
    "fcst_1series.fit(df_1series)"
   ]
  },
  {
   "cell_type": "code",
   "execution_count": 14,
   "id": "a3f444a8-0e6a-4f70-9643-f9685b624c9c",
   "metadata": {},
   "outputs": [
    {
     "data": {
      "text/html": [
       "<div>\n",
       "<style scoped>\n",
       "    .dataframe tbody tr th:only-of-type {\n",
       "        vertical-align: middle;\n",
       "    }\n",
       "\n",
       "    .dataframe tbody tr th {\n",
       "        vertical-align: top;\n",
       "    }\n",
       "\n",
       "    .dataframe thead th {\n",
       "        text-align: right;\n",
       "    }\n",
       "</style>\n",
       "<table border=\"1\" class=\"dataframe\">\n",
       "  <thead>\n",
       "    <tr style=\"text-align: right;\">\n",
       "      <th></th>\n",
       "      <th>unique_id</th>\n",
       "      <th>ds</th>\n",
       "      <th>LinearRegression</th>\n",
       "    </tr>\n",
       "  </thead>\n",
       "  <tbody>\n",
       "    <tr>\n",
       "      <th>0</th>\n",
       "      <td>H196</td>\n",
       "      <td>1009</td>\n",
       "      <td>16.36245</td>\n",
       "    </tr>\n",
       "  </tbody>\n",
       "</table>\n",
       "</div>"
      ],
      "text/plain": [
       "  unique_id    ds  LinearRegression\n",
       "0      H196  1009          16.36245"
      ]
     },
     "execution_count": 14,
     "metadata": {},
     "output_type": "execute_result"
    }
   ],
   "source": [
    "# fcst un horizonte de tiempo\n",
    "fcst_1series.predict(1)"
   ]
  },
  {
   "cell_type": "code",
   "execution_count": 15,
   "id": "58456c24-845d-4f03-ba2c-7504bb0ee68b",
   "metadata": {},
   "outputs": [
    {
     "data": {
      "text/html": [
       "<div>\n",
       "<style scoped>\n",
       "    .dataframe tbody tr th:only-of-type {\n",
       "        vertical-align: middle;\n",
       "    }\n",
       "\n",
       "    .dataframe tbody tr th {\n",
       "        vertical-align: top;\n",
       "    }\n",
       "\n",
       "    .dataframe thead th {\n",
       "        text-align: right;\n",
       "    }\n",
       "</style>\n",
       "<table border=\"1\" class=\"dataframe\">\n",
       "  <thead>\n",
       "    <tr style=\"text-align: right;\">\n",
       "      <th></th>\n",
       "      <th>unique_id</th>\n",
       "      <th>ds</th>\n",
       "      <th>y</th>\n",
       "      <th>lag1</th>\n",
       "      <th>lag2</th>\n",
       "      <th>lag3</th>\n",
       "    </tr>\n",
       "  </thead>\n",
       "  <tbody>\n",
       "    <tr>\n",
       "      <th>1007</th>\n",
       "      <td>H196</td>\n",
       "      <td>1008</td>\n",
       "      <td>16.8</td>\n",
       "      <td>17.3</td>\n",
       "      <td>17.8</td>\n",
       "      <td>18.6</td>\n",
       "    </tr>\n",
       "  </tbody>\n",
       "</table>\n",
       "</div>"
      ],
      "text/plain": [
       "     unique_id    ds     y  lag1  lag2  lag3\n",
       "1007      H196  1008  16.8  17.3  17.8  18.6"
      ]
     },
     "execution_count": 15,
     "metadata": {},
     "output_type": "execute_result"
    }
   ],
   "source": [
    "# obtener la ultima instancia con los datos transformados\n",
    "fcst_1series.preprocess(df_1series).groupby('unique_id').tail(1)"
   ]
  },
  {
   "cell_type": "code",
   "execution_count": 16,
   "id": "4293ca38-5537-4d10-af32-172935170712",
   "metadata": {},
   "outputs": [],
   "source": [
    "# guardar modelo\n",
    "folder_path_1series = 'models/fcst_1series' \n",
    "fcst_1series.save(folder_path_1series)"
   ]
  },
  {
   "cell_type": "code",
   "execution_count": null,
   "id": "5cb4f554-47ec-4abc-aaba-7ddf5b1cfba0",
   "metadata": {},
   "outputs": [],
   "source": []
  },
  {
   "cell_type": "markdown",
   "id": "c29e2727-688e-496e-9e5b-7995b5bae98e",
   "metadata": {},
   "source": [
    "#### 1.3 Modelo Random Forecast sklearn 4 series de tiempo"
   ]
  },
  {
   "cell_type": "code",
   "execution_count": 17,
   "id": "8555cb9f-cf95-4b67-a2e7-8dff4a431795",
   "metadata": {},
   "outputs": [],
   "source": [
    "from sklearn.ensemble import RandomForestRegressor"
   ]
  },
  {
   "cell_type": "code",
   "execution_count": 18,
   "id": "e8ae2486-6dd5-4917-b579-88cc55bc499e",
   "metadata": {},
   "outputs": [],
   "source": [
    "# obtener dataset con 4 series\n",
    "df_4series = df.copy()"
   ]
  },
  {
   "cell_type": "code",
   "execution_count": 19,
   "id": "c41b0b20-9e10-4036-a198-51ee229a199d",
   "metadata": {},
   "outputs": [],
   "source": [
    "# crear modelo que ve 4 series\n",
    "fcst_4series_rf = MLForecast(\n",
    "    models=[RandomForestRegressor(random_state = 42, n_estimators = 10)],\n",
    "    freq=1,\n",
    "    lags=[1, 2, 3],\n",
    ")"
   ]
  },
  {
   "cell_type": "code",
   "execution_count": 20,
   "id": "0129ffc4-3328-44c6-a67e-fd5541248f3a",
   "metadata": {},
   "outputs": [
    {
     "data": {
      "text/plain": [
       "MLForecast(models=[RandomForestRegressor], freq=1, lag_features=['lag1', 'lag2', 'lag3'], date_features=[], num_threads=1)"
      ]
     },
     "execution_count": 20,
     "metadata": {},
     "output_type": "execute_result"
    }
   ],
   "source": [
    "fcst_4series_rf.fit(df_4series)"
   ]
  },
  {
   "cell_type": "code",
   "execution_count": 21,
   "id": "43472021-da55-4605-9532-f9a1fd226369",
   "metadata": {},
   "outputs": [
    {
     "data": {
      "text/html": [
       "<div>\n",
       "<style scoped>\n",
       "    .dataframe tbody tr th:only-of-type {\n",
       "        vertical-align: middle;\n",
       "    }\n",
       "\n",
       "    .dataframe tbody tr th {\n",
       "        vertical-align: top;\n",
       "    }\n",
       "\n",
       "    .dataframe thead th {\n",
       "        text-align: right;\n",
       "    }\n",
       "</style>\n",
       "<table border=\"1\" class=\"dataframe\">\n",
       "  <thead>\n",
       "    <tr style=\"text-align: right;\">\n",
       "      <th></th>\n",
       "      <th>unique_id</th>\n",
       "      <th>ds</th>\n",
       "      <th>y</th>\n",
       "    </tr>\n",
       "  </thead>\n",
       "  <tbody>\n",
       "    <tr>\n",
       "      <th>1007</th>\n",
       "      <td>H196</td>\n",
       "      <td>1008</td>\n",
       "      <td>16.8</td>\n",
       "    </tr>\n",
       "    <tr>\n",
       "      <th>2015</th>\n",
       "      <td>H256</td>\n",
       "      <td>1008</td>\n",
       "      <td>13.4</td>\n",
       "    </tr>\n",
       "    <tr>\n",
       "      <th>3023</th>\n",
       "      <td>H381</td>\n",
       "      <td>1008</td>\n",
       "      <td>207.0</td>\n",
       "    </tr>\n",
       "    <tr>\n",
       "      <th>4031</th>\n",
       "      <td>H413</td>\n",
       "      <td>1008</td>\n",
       "      <td>34.0</td>\n",
       "    </tr>\n",
       "  </tbody>\n",
       "</table>\n",
       "</div>"
      ],
      "text/plain": [
       "     unique_id    ds      y\n",
       "1007      H196  1008   16.8\n",
       "2015      H256  1008   13.4\n",
       "3023      H381  1008  207.0\n",
       "4031      H413  1008   34.0"
      ]
     },
     "execution_count": 21,
     "metadata": {},
     "output_type": "execute_result"
    }
   ],
   "source": [
    "# obtener el ultimo valor real\n",
    "df_4series.groupby('unique_id').tail(1)"
   ]
  },
  {
   "cell_type": "code",
   "execution_count": 22,
   "id": "8907300f-aef1-442d-a98e-262f3f8a883a",
   "metadata": {},
   "outputs": [
    {
     "data": {
      "text/html": [
       "<div>\n",
       "<style scoped>\n",
       "    .dataframe tbody tr th:only-of-type {\n",
       "        vertical-align: middle;\n",
       "    }\n",
       "\n",
       "    .dataframe tbody tr th {\n",
       "        vertical-align: top;\n",
       "    }\n",
       "\n",
       "    .dataframe thead th {\n",
       "        text-align: right;\n",
       "    }\n",
       "</style>\n",
       "<table border=\"1\" class=\"dataframe\">\n",
       "  <thead>\n",
       "    <tr style=\"text-align: right;\">\n",
       "      <th></th>\n",
       "      <th>unique_id</th>\n",
       "      <th>ds</th>\n",
       "      <th>RandomForestRegressor</th>\n",
       "    </tr>\n",
       "  </thead>\n",
       "  <tbody>\n",
       "    <tr>\n",
       "      <th>0</th>\n",
       "      <td>H196</td>\n",
       "      <td>1009</td>\n",
       "      <td>16.340000</td>\n",
       "    </tr>\n",
       "    <tr>\n",
       "      <th>1</th>\n",
       "      <td>H256</td>\n",
       "      <td>1009</td>\n",
       "      <td>13.038139</td>\n",
       "    </tr>\n",
       "    <tr>\n",
       "      <th>2</th>\n",
       "      <td>H381</td>\n",
       "      <td>1009</td>\n",
       "      <td>185.400000</td>\n",
       "    </tr>\n",
       "    <tr>\n",
       "      <th>3</th>\n",
       "      <td>H413</td>\n",
       "      <td>1009</td>\n",
       "      <td>30.400000</td>\n",
       "    </tr>\n",
       "  </tbody>\n",
       "</table>\n",
       "</div>"
      ],
      "text/plain": [
       "  unique_id    ds  RandomForestRegressor\n",
       "0      H196  1009              16.340000\n",
       "1      H256  1009              13.038139\n",
       "2      H381  1009             185.400000\n",
       "3      H413  1009              30.400000"
      ]
     },
     "execution_count": 22,
     "metadata": {},
     "output_type": "execute_result"
    }
   ],
   "source": [
    "# fcst un horizonte de tiempo\n",
    "fcst_4series_rf.predict(1)"
   ]
  },
  {
   "cell_type": "code",
   "execution_count": 23,
   "id": "0fc0b632-50f0-47a2-aa32-e4dc7c115b6c",
   "metadata": {},
   "outputs": [],
   "source": [
    "# guardar modelo\n",
    "folder_path_4series_rf = 'models/fcst_4series_rf' \n",
    "fcst_4series_rf.save(folder_path_4series_rf)"
   ]
  },
  {
   "cell_type": "code",
   "execution_count": null,
   "id": "2c9123c5-ff1b-46b7-bfa3-5d74f7e1c8ef",
   "metadata": {},
   "outputs": [],
   "source": []
  },
  {
   "cell_type": "code",
   "execution_count": null,
   "id": "6cd0adcd-1859-4982-a00d-c274da255d03",
   "metadata": {},
   "outputs": [],
   "source": []
  },
  {
   "cell_type": "markdown",
   "id": "a6f5d3c0-b483-47df-ab82-06ef1d8628d1",
   "metadata": {},
   "source": [
    "### 2. Obtener la clase con el modelo y hacer predicción con el modelo individual"
   ]
  },
  {
   "cell_type": "markdown",
   "id": "a4393432-26ba-4ea9-be5a-3e788d4f93e8",
   "metadata": {},
   "source": [
    "#### 2.1 Leer Modelo sklearn entrenado con una serie de tiempo - LECTURA DIRECTA"
   ]
  },
  {
   "cell_type": "code",
   "execution_count": 24,
   "id": "65f6c27f-e11e-4ea2-9139-0a3906b443ac",
   "metadata": {},
   "outputs": [
    {
     "data": {
      "text/html": [
       "<style>#sk-container-id-1 {color: black;}#sk-container-id-1 pre{padding: 0;}#sk-container-id-1 div.sk-toggleable {background-color: white;}#sk-container-id-1 label.sk-toggleable__label {cursor: pointer;display: block;width: 100%;margin-bottom: 0;padding: 0.3em;box-sizing: border-box;text-align: center;}#sk-container-id-1 label.sk-toggleable__label-arrow:before {content: \"▸\";float: left;margin-right: 0.25em;color: #696969;}#sk-container-id-1 label.sk-toggleable__label-arrow:hover:before {color: black;}#sk-container-id-1 div.sk-estimator:hover label.sk-toggleable__label-arrow:before {color: black;}#sk-container-id-1 div.sk-toggleable__content {max-height: 0;max-width: 0;overflow: hidden;text-align: left;background-color: #f0f8ff;}#sk-container-id-1 div.sk-toggleable__content pre {margin: 0.2em;color: black;border-radius: 0.25em;background-color: #f0f8ff;}#sk-container-id-1 input.sk-toggleable__control:checked~div.sk-toggleable__content {max-height: 200px;max-width: 100%;overflow: auto;}#sk-container-id-1 input.sk-toggleable__control:checked~label.sk-toggleable__label-arrow:before {content: \"▾\";}#sk-container-id-1 div.sk-estimator input.sk-toggleable__control:checked~label.sk-toggleable__label {background-color: #d4ebff;}#sk-container-id-1 div.sk-label input.sk-toggleable__control:checked~label.sk-toggleable__label {background-color: #d4ebff;}#sk-container-id-1 input.sk-hidden--visually {border: 0;clip: rect(1px 1px 1px 1px);clip: rect(1px, 1px, 1px, 1px);height: 1px;margin: -1px;overflow: hidden;padding: 0;position: absolute;width: 1px;}#sk-container-id-1 div.sk-estimator {font-family: monospace;background-color: #f0f8ff;border: 1px dotted black;border-radius: 0.25em;box-sizing: border-box;margin-bottom: 0.5em;}#sk-container-id-1 div.sk-estimator:hover {background-color: #d4ebff;}#sk-container-id-1 div.sk-parallel-item::after {content: \"\";width: 100%;border-bottom: 1px solid gray;flex-grow: 1;}#sk-container-id-1 div.sk-label:hover label.sk-toggleable__label {background-color: #d4ebff;}#sk-container-id-1 div.sk-serial::before {content: \"\";position: absolute;border-left: 1px solid gray;box-sizing: border-box;top: 0;bottom: 0;left: 50%;z-index: 0;}#sk-container-id-1 div.sk-serial {display: flex;flex-direction: column;align-items: center;background-color: white;padding-right: 0.2em;padding-left: 0.2em;position: relative;}#sk-container-id-1 div.sk-item {position: relative;z-index: 1;}#sk-container-id-1 div.sk-parallel {display: flex;align-items: stretch;justify-content: center;background-color: white;position: relative;}#sk-container-id-1 div.sk-item::before, #sk-container-id-1 div.sk-parallel-item::before {content: \"\";position: absolute;border-left: 1px solid gray;box-sizing: border-box;top: 0;bottom: 0;left: 50%;z-index: -1;}#sk-container-id-1 div.sk-parallel-item {display: flex;flex-direction: column;z-index: 1;position: relative;background-color: white;}#sk-container-id-1 div.sk-parallel-item:first-child::after {align-self: flex-end;width: 50%;}#sk-container-id-1 div.sk-parallel-item:last-child::after {align-self: flex-start;width: 50%;}#sk-container-id-1 div.sk-parallel-item:only-child::after {width: 0;}#sk-container-id-1 div.sk-dashed-wrapped {border: 1px dashed gray;margin: 0 0.4em 0.5em 0.4em;box-sizing: border-box;padding-bottom: 0.4em;background-color: white;}#sk-container-id-1 div.sk-label label {font-family: monospace;font-weight: bold;display: inline-block;line-height: 1.2em;}#sk-container-id-1 div.sk-label-container {text-align: center;}#sk-container-id-1 div.sk-container {/* jupyter's `normalize.less` sets `[hidden] { display: none; }` but bootstrap.min.css set `[hidden] { display: none !important; }` so we also need the `!important` here to be able to override the default hidden behavior on the sphinx rendered scikit-learn.org. See: https://github.com/scikit-learn/scikit-learn/issues/21755 */display: inline-block !important;position: relative;}#sk-container-id-1 div.sk-text-repr-fallback {display: none;}</style><div id=\"sk-container-id-1\" class=\"sk-top-container\"><div class=\"sk-text-repr-fallback\"><pre>LinearRegression()</pre><b>In a Jupyter environment, please rerun this cell to show the HTML representation or trust the notebook. <br />On GitHub, the HTML representation is unable to render, please try loading this page with nbviewer.org.</b></div><div class=\"sk-container\" hidden><div class=\"sk-item\"><div class=\"sk-estimator sk-toggleable\"><input class=\"sk-toggleable__control sk-hidden--visually\" id=\"sk-estimator-id-1\" type=\"checkbox\" checked><label for=\"sk-estimator-id-1\" class=\"sk-toggleable__label sk-toggleable__label-arrow\">LinearRegression</label><div class=\"sk-toggleable__content\"><pre>LinearRegression()</pre></div></div></div></div></div>"
      ],
      "text/plain": [
       "LinearRegression()"
      ]
     },
     "execution_count": 24,
     "metadata": {},
     "output_type": "execute_result"
    }
   ],
   "source": [
    "# leer artefacto con el modelo\n",
    "dict_model = pd.read_pickle('models/fcst_1series/models.pkl')\n",
    "model_lr_1series = dict_model['LinearRegression']\n",
    "model_lr_1series"
   ]
  },
  {
   "cell_type": "code",
   "execution_count": 25,
   "id": "b8a82557-5ad5-4432-adb1-45eef2e27380",
   "metadata": {},
   "outputs": [
    {
     "data": {
      "text/html": [
       "<div>\n",
       "<style scoped>\n",
       "    .dataframe tbody tr th:only-of-type {\n",
       "        vertical-align: middle;\n",
       "    }\n",
       "\n",
       "    .dataframe tbody tr th {\n",
       "        vertical-align: top;\n",
       "    }\n",
       "\n",
       "    .dataframe thead th {\n",
       "        text-align: right;\n",
       "    }\n",
       "</style>\n",
       "<table border=\"1\" class=\"dataframe\">\n",
       "  <thead>\n",
       "    <tr style=\"text-align: right;\">\n",
       "      <th></th>\n",
       "      <th>unique_id</th>\n",
       "      <th>ds</th>\n",
       "      <th>y</th>\n",
       "    </tr>\n",
       "  </thead>\n",
       "  <tbody>\n",
       "    <tr>\n",
       "      <th>1007</th>\n",
       "      <td>H196</td>\n",
       "      <td>1008</td>\n",
       "      <td>16.8</td>\n",
       "    </tr>\n",
       "  </tbody>\n",
       "</table>\n",
       "</div>"
      ],
      "text/plain": [
       "     unique_id    ds     y\n",
       "1007      H196  1008  16.8"
      ]
     },
     "execution_count": 25,
     "metadata": {},
     "output_type": "execute_result"
    }
   ],
   "source": [
    "# obtener istancia - ultima observacion en los datos\n",
    "df_1series.tail(1)"
   ]
  },
  {
   "cell_type": "code",
   "execution_count": 26,
   "id": "db25de1a-fa44-4881-b327-8c6c9cd7ba36",
   "metadata": {},
   "outputs": [
    {
     "data": {
      "text/html": [
       "<div>\n",
       "<style scoped>\n",
       "    .dataframe tbody tr th:only-of-type {\n",
       "        vertical-align: middle;\n",
       "    }\n",
       "\n",
       "    .dataframe tbody tr th {\n",
       "        vertical-align: top;\n",
       "    }\n",
       "\n",
       "    .dataframe thead th {\n",
       "        text-align: right;\n",
       "    }\n",
       "</style>\n",
       "<table border=\"1\" class=\"dataframe\">\n",
       "  <thead>\n",
       "    <tr style=\"text-align: right;\">\n",
       "      <th></th>\n",
       "      <th>unique_id</th>\n",
       "      <th>ds</th>\n",
       "      <th>y</th>\n",
       "      <th>lag1</th>\n",
       "      <th>lag2</th>\n",
       "      <th>lag3</th>\n",
       "    </tr>\n",
       "  </thead>\n",
       "  <tbody>\n",
       "    <tr>\n",
       "      <th>1007</th>\n",
       "      <td>H196</td>\n",
       "      <td>1008</td>\n",
       "      <td>16.8</td>\n",
       "      <td>17.3</td>\n",
       "      <td>17.8</td>\n",
       "      <td>18.6</td>\n",
       "    </tr>\n",
       "  </tbody>\n",
       "</table>\n",
       "</div>"
      ],
      "text/plain": [
       "     unique_id    ds     y  lag1  lag2  lag3\n",
       "1007      H196  1008  16.8  17.3  17.8  18.6"
      ]
     },
     "execution_count": 26,
     "metadata": {},
     "output_type": "execute_result"
    }
   ],
   "source": [
    "# obtener instancia con el procesamiento\n",
    "instance_1series = fcst_1series.preprocess(df_1series).tail(1)\n",
    "instance_1series"
   ]
  },
  {
   "cell_type": "code",
   "execution_count": 27,
   "id": "069fd0ba-da40-4c9d-a97b-d1237ac9a409",
   "metadata": {},
   "outputs": [],
   "source": [
    "# hacer predicción con el artefacto leido sin considerar clase se nixtla - ml forecast\n",
    "# IMPORTANTE ESTO DA ERROR PORQUE EL MODELO NO VE TODAS LAS FEATURES DEL DATAFRAME INPUT\n",
    "# model.predict(instance_aux)"
   ]
  },
  {
   "cell_type": "markdown",
   "id": "6731b2b2-7aa9-46a7-bb27-586c1581121b",
   "metadata": {},
   "source": [
    "## IMPORTANTE:\n",
    "- Para entrenar el modelo, SOLO ALGUNAS alguna variable se debe de pasar\n",
    "- Esto porque el modelo no ve el target (y). Sino que ve alguna variable lageada\n",
    "- El modelo **NO VE LAS SIGUIENTES VARIABLES: ds, unique_id, y**\n",
    "\n",
    "CONCLUSIÓN IMPORTANTE:\n",
    "- Cuando un modelo se entrena con multiples series de tiempo, se pasa el índice de la serie, pero este NO es utilizado para entrenar el modelo. Los datos de cada serie se pasan como una única feature, entonces el modelo tiene que se capaz de identificar los patrones y poder hacer el forecast"
   ]
  },
  {
   "cell_type": "code",
   "execution_count": 28,
   "id": "4fe606d8-5400-4482-8fb6-f0cdda7ade4a",
   "metadata": {},
   "outputs": [
    {
     "data": {
      "text/html": [
       "<div>\n",
       "<style scoped>\n",
       "    .dataframe tbody tr th:only-of-type {\n",
       "        vertical-align: middle;\n",
       "    }\n",
       "\n",
       "    .dataframe tbody tr th {\n",
       "        vertical-align: top;\n",
       "    }\n",
       "\n",
       "    .dataframe thead th {\n",
       "        text-align: right;\n",
       "    }\n",
       "</style>\n",
       "<table border=\"1\" class=\"dataframe\">\n",
       "  <thead>\n",
       "    <tr style=\"text-align: right;\">\n",
       "      <th></th>\n",
       "      <th>lag1</th>\n",
       "      <th>lag2</th>\n",
       "      <th>lag3</th>\n",
       "    </tr>\n",
       "  </thead>\n",
       "  <tbody>\n",
       "    <tr>\n",
       "      <th>1007</th>\n",
       "      <td>17.3</td>\n",
       "      <td>17.8</td>\n",
       "      <td>18.6</td>\n",
       "    </tr>\n",
       "  </tbody>\n",
       "</table>\n",
       "</div>"
      ],
      "text/plain": [
       "      lag1  lag2  lag3\n",
       "1007  17.3  17.8  18.6"
      ]
     },
     "execution_count": 28,
     "metadata": {},
     "output_type": "execute_result"
    }
   ],
   "source": [
    "# generar la instancia haciendo el drop de las columnas que no se utilizan para entrenar el modelo\n",
    "list_feature_not_used = ['unique_id', 'ds', 'y']\n",
    "instance_1series = instance_1series.drop(columns = list_feature_not_used)\n",
    "instance_1series"
   ]
  },
  {
   "cell_type": "code",
   "execution_count": 29,
   "id": "e20136db-7b01-4c20-88dc-7c1233dac453",
   "metadata": {},
   "outputs": [
    {
     "data": {
      "text/plain": [
       "array([16.93344762])"
      ]
     },
     "execution_count": 29,
     "metadata": {},
     "output_type": "execute_result"
    }
   ],
   "source": [
    "model_lr_1series.predict(instance_1series)"
   ]
  },
  {
   "cell_type": "code",
   "execution_count": null,
   "id": "da2b8994-048b-4c9f-be04-09c9aa27fbe9",
   "metadata": {},
   "outputs": [],
   "source": []
  },
  {
   "cell_type": "markdown",
   "id": "40346a9f-ed3b-4771-9778-8ef7925082b4",
   "metadata": {},
   "source": [
    "#### 2.2 Generar observación para forecast 1 horizonte. Modelo directo\n",
    "En el paso anterior se hizo el predict de la última observación. Ahora generar el input para el forecast h+1"
   ]
  },
  {
   "cell_type": "code",
   "execution_count": 30,
   "id": "35e396ce-9190-4595-bd6b-71025bf80c9e",
   "metadata": {},
   "outputs": [
    {
     "data": {
      "text/html": [
       "<div>\n",
       "<style scoped>\n",
       "    .dataframe tbody tr th:only-of-type {\n",
       "        vertical-align: middle;\n",
       "    }\n",
       "\n",
       "    .dataframe tbody tr th {\n",
       "        vertical-align: top;\n",
       "    }\n",
       "\n",
       "    .dataframe thead th {\n",
       "        text-align: right;\n",
       "    }\n",
       "</style>\n",
       "<table border=\"1\" class=\"dataframe\">\n",
       "  <thead>\n",
       "    <tr style=\"text-align: right;\">\n",
       "      <th></th>\n",
       "      <th>unique_id</th>\n",
       "      <th>ds</th>\n",
       "      <th>y</th>\n",
       "    </tr>\n",
       "  </thead>\n",
       "  <tbody>\n",
       "    <tr>\n",
       "      <th>1003</th>\n",
       "      <td>H196</td>\n",
       "      <td>1004</td>\n",
       "      <td>19.7</td>\n",
       "    </tr>\n",
       "    <tr>\n",
       "      <th>1004</th>\n",
       "      <td>H196</td>\n",
       "      <td>1005</td>\n",
       "      <td>18.6</td>\n",
       "    </tr>\n",
       "    <tr>\n",
       "      <th>1005</th>\n",
       "      <td>H196</td>\n",
       "      <td>1006</td>\n",
       "      <td>17.8</td>\n",
       "    </tr>\n",
       "    <tr>\n",
       "      <th>1006</th>\n",
       "      <td>H196</td>\n",
       "      <td>1007</td>\n",
       "      <td>17.3</td>\n",
       "    </tr>\n",
       "    <tr>\n",
       "      <th>1007</th>\n",
       "      <td>H196</td>\n",
       "      <td>1008</td>\n",
       "      <td>16.8</td>\n",
       "    </tr>\n",
       "  </tbody>\n",
       "</table>\n",
       "</div>"
      ],
      "text/plain": [
       "     unique_id    ds     y\n",
       "1003      H196  1004  19.7\n",
       "1004      H196  1005  18.6\n",
       "1005      H196  1006  17.8\n",
       "1006      H196  1007  17.3\n",
       "1007      H196  1008  16.8"
      ]
     },
     "execution_count": 30,
     "metadata": {},
     "output_type": "execute_result"
    }
   ],
   "source": [
    "df_1series.tail()"
   ]
  },
  {
   "cell_type": "code",
   "execution_count": 31,
   "id": "34e5f043-b8db-4a8f-ac11-356698e22e7b",
   "metadata": {},
   "outputs": [
    {
     "data": {
      "text/html": [
       "<div>\n",
       "<style scoped>\n",
       "    .dataframe tbody tr th:only-of-type {\n",
       "        vertical-align: middle;\n",
       "    }\n",
       "\n",
       "    .dataframe tbody tr th {\n",
       "        vertical-align: top;\n",
       "    }\n",
       "\n",
       "    .dataframe thead th {\n",
       "        text-align: right;\n",
       "    }\n",
       "</style>\n",
       "<table border=\"1\" class=\"dataframe\">\n",
       "  <thead>\n",
       "    <tr style=\"text-align: right;\">\n",
       "      <th></th>\n",
       "      <th>lag1</th>\n",
       "      <th>lag2</th>\n",
       "      <th>lag3</th>\n",
       "    </tr>\n",
       "  </thead>\n",
       "  <tbody>\n",
       "    <tr>\n",
       "      <th>0</th>\n",
       "      <td>16.8</td>\n",
       "      <td>17.3</td>\n",
       "      <td>17.8</td>\n",
       "    </tr>\n",
       "  </tbody>\n",
       "</table>\n",
       "</div>"
      ],
      "text/plain": [
       "   lag1  lag2  lag3\n",
       "0  16.8  17.3  17.8"
      ]
     },
     "execution_count": 31,
     "metadata": {},
     "output_type": "execute_result"
    }
   ],
   "source": [
    "# generar manualmente el input lag 1, lag 2, lag 3\n",
    "array_values_instance_fcst = df_1series.tail(3)['y'].values\n",
    "array_values_instance_fcst = np.flip(array_values_instance_fcst)\n",
    "\n",
    "df_instance_fcst = pd.DataFrame(array_values_instance_fcst.reshape(1, array_values_instance_fcst.shape[0]),\n",
    "                                columns = ['lag1', 'lag2', 'lag3']\n",
    "                               )\n",
    "\n",
    "df_instance_fcst"
   ]
  },
  {
   "cell_type": "code",
   "execution_count": 32,
   "id": "67acf6c9-3fec-495f-a027-6a8a4a0544f7",
   "metadata": {},
   "outputs": [
    {
     "data": {
      "text/plain": [
       "array([16.36245009])"
      ]
     },
     "execution_count": 32,
     "metadata": {},
     "output_type": "execute_result"
    }
   ],
   "source": [
    "# luego de generar el input que SERIA PARA FORECAST H+1\n",
    "# predecir con el modelo leido directamente\n",
    "model_lr_1series.predict(df_instance_fcst)"
   ]
  },
  {
   "cell_type": "markdown",
   "id": "1e634f07-d130-487f-8cde-62626e131299",
   "metadata": {},
   "source": [
    "#### Luego para predecir las siguientes observaciones, se hace de forma recursiva utilizando las predicciones de las etapas previas"
   ]
  },
  {
   "cell_type": "code",
   "execution_count": null,
   "id": "cec0c33c-3866-47d7-a39a-8bc7f5de2297",
   "metadata": {},
   "outputs": [],
   "source": []
  },
  {
   "cell_type": "code",
   "execution_count": null,
   "id": "a3db4567-c597-4066-ae8a-24b5817167a3",
   "metadata": {},
   "outputs": [],
   "source": []
  },
  {
   "cell_type": "markdown",
   "id": "4c2c16dd-29f8-43a4-84c8-5441cec56ec7",
   "metadata": {},
   "source": [
    "#### 2.3 Leer modelo de nixtla que se entrenó usando una serie de tiempo"
   ]
  },
  {
   "cell_type": "code",
   "execution_count": 33,
   "id": "8afc50ee-21ad-4c7d-af14-a05913556c32",
   "metadata": {},
   "outputs": [
    {
     "data": {
      "text/plain": [
       "MLForecast(models=[LinearRegression], freq=1, lag_features=['lag1', 'lag2', 'lag3'], date_features=[], num_threads=1)"
      ]
     },
     "execution_count": 33,
     "metadata": {},
     "output_type": "execute_result"
    }
   ],
   "source": [
    "# leer modelo de nixtla, que contiene solo el modelo leido de forma DIRECTA en el paso anterior\n",
    "path_folder_nixtla_1serie = 'models/fcst_1series/'\n",
    "model_nixtla_1series = MLForecast.load(path_folder_nixtla_1serie)\n",
    "model_nixtla_1series"
   ]
  },
  {
   "cell_type": "code",
   "execution_count": 34,
   "id": "c0ca756b-71aa-4f41-9055-6a5abce8ac12",
   "metadata": {},
   "outputs": [
    {
     "data": {
      "text/html": [
       "<div>\n",
       "<style scoped>\n",
       "    .dataframe tbody tr th:only-of-type {\n",
       "        vertical-align: middle;\n",
       "    }\n",
       "\n",
       "    .dataframe tbody tr th {\n",
       "        vertical-align: top;\n",
       "    }\n",
       "\n",
       "    .dataframe thead th {\n",
       "        text-align: right;\n",
       "    }\n",
       "</style>\n",
       "<table border=\"1\" class=\"dataframe\">\n",
       "  <thead>\n",
       "    <tr style=\"text-align: right;\">\n",
       "      <th></th>\n",
       "      <th>unique_id</th>\n",
       "      <th>ds</th>\n",
       "      <th>LinearRegression</th>\n",
       "    </tr>\n",
       "  </thead>\n",
       "  <tbody>\n",
       "    <tr>\n",
       "      <th>0</th>\n",
       "      <td>H196</td>\n",
       "      <td>1009</td>\n",
       "      <td>16.36245</td>\n",
       "    </tr>\n",
       "  </tbody>\n",
       "</table>\n",
       "</div>"
      ],
      "text/plain": [
       "  unique_id    ds  LinearRegression\n",
       "0      H196  1009          16.36245"
      ]
     },
     "execution_count": 34,
     "metadata": {},
     "output_type": "execute_result"
    }
   ],
   "source": [
    "# predecir 1 observación futuro\n",
    "model_nixtla_1series.predict(1)"
   ]
  },
  {
   "cell_type": "markdown",
   "id": "77edb722-4d00-4cc8-b066-e1fac400e5e5",
   "metadata": {},
   "source": [
    "#### 2.3 SE OBSERVA QUE LAS PREDICCIONES PARA FORECAST 1 HORIZONTE FUTURE SON IGUALES ENTRE LECTURA DIRECTA Y LECTURA CON NIXTLA\n",
    "- Esto es lo que debería de pasar, todo ok\n",
    "- La siguiente prueba es la última, entrenar modelo que ve más de una serie de tiempo. Validar que se sigue funcionando la lógica de recursividad y por lo tanto reforzar la idea que se pasan todas las series de tiempo juntas"
   ]
  },
  {
   "cell_type": "code",
   "execution_count": 35,
   "id": "863f5bf2-c931-4458-90ae-240c178b009c",
   "metadata": {},
   "outputs": [
    {
     "data": {
      "text/plain": [
       "array([16.36245009])"
      ]
     },
     "execution_count": 35,
     "metadata": {},
     "output_type": "execute_result"
    }
   ],
   "source": [
    "# lectura directa modelo\n",
    "model_lr_1series.predict(df_instance_fcst)"
   ]
  },
  {
   "cell_type": "code",
   "execution_count": 36,
   "id": "9cbaa3f9-5c89-4f6b-9288-ac06788fe753",
   "metadata": {},
   "outputs": [
    {
     "data": {
      "text/html": [
       "<div>\n",
       "<style scoped>\n",
       "    .dataframe tbody tr th:only-of-type {\n",
       "        vertical-align: middle;\n",
       "    }\n",
       "\n",
       "    .dataframe tbody tr th {\n",
       "        vertical-align: top;\n",
       "    }\n",
       "\n",
       "    .dataframe thead th {\n",
       "        text-align: right;\n",
       "    }\n",
       "</style>\n",
       "<table border=\"1\" class=\"dataframe\">\n",
       "  <thead>\n",
       "    <tr style=\"text-align: right;\">\n",
       "      <th></th>\n",
       "      <th>unique_id</th>\n",
       "      <th>ds</th>\n",
       "      <th>LinearRegression</th>\n",
       "    </tr>\n",
       "  </thead>\n",
       "  <tbody>\n",
       "    <tr>\n",
       "      <th>0</th>\n",
       "      <td>H196</td>\n",
       "      <td>1009</td>\n",
       "      <td>16.36245</td>\n",
       "    </tr>\n",
       "  </tbody>\n",
       "</table>\n",
       "</div>"
      ],
      "text/plain": [
       "  unique_id    ds  LinearRegression\n",
       "0      H196  1009          16.36245"
      ]
     },
     "execution_count": 36,
     "metadata": {},
     "output_type": "execute_result"
    }
   ],
   "source": [
    "# lectura modelo nixtla\n",
    "model_nixtla_1series.predict(1)"
   ]
  },
  {
   "cell_type": "code",
   "execution_count": null,
   "id": "77d5424a-6153-4763-927e-0ebfa8e04d69",
   "metadata": {},
   "outputs": [],
   "source": []
  },
  {
   "cell_type": "markdown",
   "id": "a961a801-6b0b-4f67-9d7e-8ce5a1124138",
   "metadata": {},
   "source": [
    "#### 2.4 Qué pasa si se entrena el modelo utilizando sklearn en lugar de nixtla\n",
    "Hacer el mismo procesamiento de datos, solo que entrenar directamente en sklarn"
   ]
  },
  {
   "cell_type": "code",
   "execution_count": 37,
   "id": "aab8f893-57ad-4966-98a7-e15288d73da3",
   "metadata": {},
   "outputs": [
    {
     "data": {
      "text/html": [
       "<div>\n",
       "<style scoped>\n",
       "    .dataframe tbody tr th:only-of-type {\n",
       "        vertical-align: middle;\n",
       "    }\n",
       "\n",
       "    .dataframe tbody tr th {\n",
       "        vertical-align: top;\n",
       "    }\n",
       "\n",
       "    .dataframe thead th {\n",
       "        text-align: right;\n",
       "    }\n",
       "</style>\n",
       "<table border=\"1\" class=\"dataframe\">\n",
       "  <thead>\n",
       "    <tr style=\"text-align: right;\">\n",
       "      <th></th>\n",
       "      <th>lag1</th>\n",
       "      <th>lag2</th>\n",
       "      <th>lag3</th>\n",
       "    </tr>\n",
       "  </thead>\n",
       "  <tbody>\n",
       "    <tr>\n",
       "      <th>3</th>\n",
       "      <td>11.1</td>\n",
       "      <td>11.4</td>\n",
       "      <td>11.8</td>\n",
       "    </tr>\n",
       "    <tr>\n",
       "      <th>4</th>\n",
       "      <td>10.8</td>\n",
       "      <td>11.1</td>\n",
       "      <td>11.4</td>\n",
       "    </tr>\n",
       "    <tr>\n",
       "      <th>5</th>\n",
       "      <td>10.6</td>\n",
       "      <td>10.8</td>\n",
       "      <td>11.1</td>\n",
       "    </tr>\n",
       "  </tbody>\n",
       "</table>\n",
       "</div>"
      ],
      "text/plain": [
       "   lag1  lag2  lag3\n",
       "3  11.1  11.4  11.8\n",
       "4  10.8  11.1  11.4\n",
       "5  10.6  10.8  11.1"
      ]
     },
     "execution_count": 37,
     "metadata": {},
     "output_type": "execute_result"
    }
   ],
   "source": [
    "# obtener dataframe para entrenamiento\n",
    "df_X_train = model_nixtla_1series.preprocess(df_1series)\n",
    "df_X_train = df_X_train.drop(columns = ['unique_id', 'ds', 'y'])\n",
    "df_X_train.head(3)"
   ]
  },
  {
   "cell_type": "code",
   "execution_count": 38,
   "id": "206f2552-5b35-4b35-8cdf-a57237894c41",
   "metadata": {},
   "outputs": [
    {
     "data": {
      "text/html": [
       "<div>\n",
       "<style scoped>\n",
       "    .dataframe tbody tr th:only-of-type {\n",
       "        vertical-align: middle;\n",
       "    }\n",
       "\n",
       "    .dataframe tbody tr th {\n",
       "        vertical-align: top;\n",
       "    }\n",
       "\n",
       "    .dataframe thead th {\n",
       "        text-align: right;\n",
       "    }\n",
       "</style>\n",
       "<table border=\"1\" class=\"dataframe\">\n",
       "  <thead>\n",
       "    <tr style=\"text-align: right;\">\n",
       "      <th></th>\n",
       "      <th>y</th>\n",
       "    </tr>\n",
       "  </thead>\n",
       "  <tbody>\n",
       "    <tr>\n",
       "      <th>3</th>\n",
       "      <td>10.8</td>\n",
       "    </tr>\n",
       "    <tr>\n",
       "      <th>4</th>\n",
       "      <td>10.6</td>\n",
       "    </tr>\n",
       "    <tr>\n",
       "      <th>5</th>\n",
       "      <td>10.3</td>\n",
       "    </tr>\n",
       "  </tbody>\n",
       "</table>\n",
       "</div>"
      ],
      "text/plain": [
       "      y\n",
       "3  10.8\n",
       "4  10.6\n",
       "5  10.3"
      ]
     },
     "execution_count": 38,
     "metadata": {},
     "output_type": "execute_result"
    }
   ],
   "source": [
    "df_y_train = model_nixtla_1series.preprocess(df_1series)[['y']]\n",
    "df_y_train.head(3)"
   ]
  },
  {
   "cell_type": "code",
   "execution_count": 39,
   "id": "2c375b36-6caf-4d64-b45b-db1ebc117fc7",
   "metadata": {},
   "outputs": [
    {
     "name": "stdout",
     "output_type": "stream",
     "text": [
      "shape\n",
      "X:  (1005, 3)\n",
      "y:  (1005, 1)\n"
     ]
    }
   ],
   "source": [
    "print('shape')\n",
    "print('X: ', df_X_train.shape)\n",
    "print('y: ', df_y_train.shape)"
   ]
  },
  {
   "cell_type": "code",
   "execution_count": 40,
   "id": "4c9eaa3d-ff08-4e92-82d0-0dd63096b929",
   "metadata": {},
   "outputs": [
    {
     "data": {
      "text/html": [
       "<style>#sk-container-id-2 {color: black;}#sk-container-id-2 pre{padding: 0;}#sk-container-id-2 div.sk-toggleable {background-color: white;}#sk-container-id-2 label.sk-toggleable__label {cursor: pointer;display: block;width: 100%;margin-bottom: 0;padding: 0.3em;box-sizing: border-box;text-align: center;}#sk-container-id-2 label.sk-toggleable__label-arrow:before {content: \"▸\";float: left;margin-right: 0.25em;color: #696969;}#sk-container-id-2 label.sk-toggleable__label-arrow:hover:before {color: black;}#sk-container-id-2 div.sk-estimator:hover label.sk-toggleable__label-arrow:before {color: black;}#sk-container-id-2 div.sk-toggleable__content {max-height: 0;max-width: 0;overflow: hidden;text-align: left;background-color: #f0f8ff;}#sk-container-id-2 div.sk-toggleable__content pre {margin: 0.2em;color: black;border-radius: 0.25em;background-color: #f0f8ff;}#sk-container-id-2 input.sk-toggleable__control:checked~div.sk-toggleable__content {max-height: 200px;max-width: 100%;overflow: auto;}#sk-container-id-2 input.sk-toggleable__control:checked~label.sk-toggleable__label-arrow:before {content: \"▾\";}#sk-container-id-2 div.sk-estimator input.sk-toggleable__control:checked~label.sk-toggleable__label {background-color: #d4ebff;}#sk-container-id-2 div.sk-label input.sk-toggleable__control:checked~label.sk-toggleable__label {background-color: #d4ebff;}#sk-container-id-2 input.sk-hidden--visually {border: 0;clip: rect(1px 1px 1px 1px);clip: rect(1px, 1px, 1px, 1px);height: 1px;margin: -1px;overflow: hidden;padding: 0;position: absolute;width: 1px;}#sk-container-id-2 div.sk-estimator {font-family: monospace;background-color: #f0f8ff;border: 1px dotted black;border-radius: 0.25em;box-sizing: border-box;margin-bottom: 0.5em;}#sk-container-id-2 div.sk-estimator:hover {background-color: #d4ebff;}#sk-container-id-2 div.sk-parallel-item::after {content: \"\";width: 100%;border-bottom: 1px solid gray;flex-grow: 1;}#sk-container-id-2 div.sk-label:hover label.sk-toggleable__label {background-color: #d4ebff;}#sk-container-id-2 div.sk-serial::before {content: \"\";position: absolute;border-left: 1px solid gray;box-sizing: border-box;top: 0;bottom: 0;left: 50%;z-index: 0;}#sk-container-id-2 div.sk-serial {display: flex;flex-direction: column;align-items: center;background-color: white;padding-right: 0.2em;padding-left: 0.2em;position: relative;}#sk-container-id-2 div.sk-item {position: relative;z-index: 1;}#sk-container-id-2 div.sk-parallel {display: flex;align-items: stretch;justify-content: center;background-color: white;position: relative;}#sk-container-id-2 div.sk-item::before, #sk-container-id-2 div.sk-parallel-item::before {content: \"\";position: absolute;border-left: 1px solid gray;box-sizing: border-box;top: 0;bottom: 0;left: 50%;z-index: -1;}#sk-container-id-2 div.sk-parallel-item {display: flex;flex-direction: column;z-index: 1;position: relative;background-color: white;}#sk-container-id-2 div.sk-parallel-item:first-child::after {align-self: flex-end;width: 50%;}#sk-container-id-2 div.sk-parallel-item:last-child::after {align-self: flex-start;width: 50%;}#sk-container-id-2 div.sk-parallel-item:only-child::after {width: 0;}#sk-container-id-2 div.sk-dashed-wrapped {border: 1px dashed gray;margin: 0 0.4em 0.5em 0.4em;box-sizing: border-box;padding-bottom: 0.4em;background-color: white;}#sk-container-id-2 div.sk-label label {font-family: monospace;font-weight: bold;display: inline-block;line-height: 1.2em;}#sk-container-id-2 div.sk-label-container {text-align: center;}#sk-container-id-2 div.sk-container {/* jupyter's `normalize.less` sets `[hidden] { display: none; }` but bootstrap.min.css set `[hidden] { display: none !important; }` so we also need the `!important` here to be able to override the default hidden behavior on the sphinx rendered scikit-learn.org. See: https://github.com/scikit-learn/scikit-learn/issues/21755 */display: inline-block !important;position: relative;}#sk-container-id-2 div.sk-text-repr-fallback {display: none;}</style><div id=\"sk-container-id-2\" class=\"sk-top-container\"><div class=\"sk-text-repr-fallback\"><pre>LinearRegression()</pre><b>In a Jupyter environment, please rerun this cell to show the HTML representation or trust the notebook. <br />On GitHub, the HTML representation is unable to render, please try loading this page with nbviewer.org.</b></div><div class=\"sk-container\" hidden><div class=\"sk-item\"><div class=\"sk-estimator sk-toggleable\"><input class=\"sk-toggleable__control sk-hidden--visually\" id=\"sk-estimator-id-2\" type=\"checkbox\" checked><label for=\"sk-estimator-id-2\" class=\"sk-toggleable__label sk-toggleable__label-arrow\">LinearRegression</label><div class=\"sk-toggleable__content\"><pre>LinearRegression()</pre></div></div></div></div></div>"
      ],
      "text/plain": [
       "LinearRegression()"
      ]
     },
     "execution_count": 40,
     "metadata": {},
     "output_type": "execute_result"
    }
   ],
   "source": [
    "# entrenar modelo\n",
    "from sklearn.linear_model import LinearRegression\n",
    "model_scratch = LinearRegression()\n",
    "model_scratch.fit(df_X_train, df_y_train)"
   ]
  },
  {
   "cell_type": "code",
   "execution_count": 41,
   "id": "9af3d7bf-0c40-405d-ad31-b38577dbb961",
   "metadata": {},
   "outputs": [
    {
     "data": {
      "text/plain": [
       "array([[16.36245009]])"
      ]
     },
     "execution_count": 41,
     "metadata": {},
     "output_type": "execute_result"
    }
   ],
   "source": [
    "# realizar inferencia forecast h+1 y comparar resultados\n",
    "model_scratch.predict(df_instance_fcst)"
   ]
  },
  {
   "cell_type": "markdown",
   "id": "222e931e-6de4-40e9-aa87-d9f180c90066",
   "metadata": {},
   "source": [
    "### CONCLUSION\n",
    "- SE PUEDE OBSERVAR QUE LOS RESULTADOS SON LOS MISMOS ENTRENANDO EL MODELO DESDE NIXTLA O ENTRENANDO EL MODELO DIRECTAMENTE DESDE SKLEARN\n",
    "- LA ÚNICA DIFERENCIA ES QUE NIXTLA PERMITE EL FORECAST DE FORMA RECURSIVA DE FORMA MUCHO MÁS FÁCIL MIENTRAS QUE EN OTROS PACKAGES SE DEBE DE HACER MANUALMENTE"
   ]
  },
  {
   "cell_type": "code",
   "execution_count": 42,
   "id": "63c4f3dd-e5c2-46b1-9388-fa268f73e26a",
   "metadata": {},
   "outputs": [
    {
     "data": {
      "text/plain": [
       "array([16.36245009])"
      ]
     },
     "execution_count": 42,
     "metadata": {},
     "output_type": "execute_result"
    }
   ],
   "source": [
    "# resultado leer modelo directamente\n",
    "model_lr_1series.predict(df_instance_fcst)"
   ]
  },
  {
   "cell_type": "code",
   "execution_count": 43,
   "id": "ac33c9af-3854-46d1-a4a0-056f8b721630",
   "metadata": {},
   "outputs": [
    {
     "data": {
      "text/html": [
       "<div>\n",
       "<style scoped>\n",
       "    .dataframe tbody tr th:only-of-type {\n",
       "        vertical-align: middle;\n",
       "    }\n",
       "\n",
       "    .dataframe tbody tr th {\n",
       "        vertical-align: top;\n",
       "    }\n",
       "\n",
       "    .dataframe thead th {\n",
       "        text-align: right;\n",
       "    }\n",
       "</style>\n",
       "<table border=\"1\" class=\"dataframe\">\n",
       "  <thead>\n",
       "    <tr style=\"text-align: right;\">\n",
       "      <th></th>\n",
       "      <th>unique_id</th>\n",
       "      <th>ds</th>\n",
       "      <th>LinearRegression</th>\n",
       "    </tr>\n",
       "  </thead>\n",
       "  <tbody>\n",
       "    <tr>\n",
       "      <th>0</th>\n",
       "      <td>H196</td>\n",
       "      <td>1009</td>\n",
       "      <td>16.36245</td>\n",
       "    </tr>\n",
       "  </tbody>\n",
       "</table>\n",
       "</div>"
      ],
      "text/plain": [
       "  unique_id    ds  LinearRegression\n",
       "0      H196  1009          16.36245"
      ]
     },
     "execution_count": 43,
     "metadata": {},
     "output_type": "execute_result"
    }
   ],
   "source": [
    "# resultado leer modelo nixtla\n",
    "model_nixtla_1series.predict(1)"
   ]
  },
  {
   "cell_type": "code",
   "execution_count": 44,
   "id": "d17a5548-955e-4fc3-9d81-be5ea72ef24c",
   "metadata": {},
   "outputs": [
    {
     "data": {
      "text/plain": [
       "array([[16.36245009]])"
      ]
     },
     "execution_count": 44,
     "metadata": {},
     "output_type": "execute_result"
    }
   ],
   "source": [
    "# resultado entrenar modelo\n",
    "model_scratch.predict(df_instance_fcst)"
   ]
  },
  {
   "cell_type": "code",
   "execution_count": null,
   "id": "578bcbd1-3cb5-4c4d-828e-c90308d08aa5",
   "metadata": {},
   "outputs": [],
   "source": []
  },
  {
   "cell_type": "markdown",
   "id": "7b92bd75-e0d5-45c7-b024-32f1f0835b4a",
   "metadata": {},
   "source": [
    "## MULTIPLE SERIES"
   ]
  },
  {
   "cell_type": "markdown",
   "id": "55bf3ed2-8d85-46cd-90ff-e3509b928400",
   "metadata": {},
   "source": [
    "#### 2.5 Ahora si cargo un modelo entrenado con más series de tiempo"
   ]
  },
  {
   "cell_type": "code",
   "execution_count": 45,
   "id": "fdf95610-cb39-495d-a174-599fe1c9a7d6",
   "metadata": {},
   "outputs": [
    {
     "data": {
      "text/html": [
       "<style>#sk-container-id-3 {color: black;}#sk-container-id-3 pre{padding: 0;}#sk-container-id-3 div.sk-toggleable {background-color: white;}#sk-container-id-3 label.sk-toggleable__label {cursor: pointer;display: block;width: 100%;margin-bottom: 0;padding: 0.3em;box-sizing: border-box;text-align: center;}#sk-container-id-3 label.sk-toggleable__label-arrow:before {content: \"▸\";float: left;margin-right: 0.25em;color: #696969;}#sk-container-id-3 label.sk-toggleable__label-arrow:hover:before {color: black;}#sk-container-id-3 div.sk-estimator:hover label.sk-toggleable__label-arrow:before {color: black;}#sk-container-id-3 div.sk-toggleable__content {max-height: 0;max-width: 0;overflow: hidden;text-align: left;background-color: #f0f8ff;}#sk-container-id-3 div.sk-toggleable__content pre {margin: 0.2em;color: black;border-radius: 0.25em;background-color: #f0f8ff;}#sk-container-id-3 input.sk-toggleable__control:checked~div.sk-toggleable__content {max-height: 200px;max-width: 100%;overflow: auto;}#sk-container-id-3 input.sk-toggleable__control:checked~label.sk-toggleable__label-arrow:before {content: \"▾\";}#sk-container-id-3 div.sk-estimator input.sk-toggleable__control:checked~label.sk-toggleable__label {background-color: #d4ebff;}#sk-container-id-3 div.sk-label input.sk-toggleable__control:checked~label.sk-toggleable__label {background-color: #d4ebff;}#sk-container-id-3 input.sk-hidden--visually {border: 0;clip: rect(1px 1px 1px 1px);clip: rect(1px, 1px, 1px, 1px);height: 1px;margin: -1px;overflow: hidden;padding: 0;position: absolute;width: 1px;}#sk-container-id-3 div.sk-estimator {font-family: monospace;background-color: #f0f8ff;border: 1px dotted black;border-radius: 0.25em;box-sizing: border-box;margin-bottom: 0.5em;}#sk-container-id-3 div.sk-estimator:hover {background-color: #d4ebff;}#sk-container-id-3 div.sk-parallel-item::after {content: \"\";width: 100%;border-bottom: 1px solid gray;flex-grow: 1;}#sk-container-id-3 div.sk-label:hover label.sk-toggleable__label {background-color: #d4ebff;}#sk-container-id-3 div.sk-serial::before {content: \"\";position: absolute;border-left: 1px solid gray;box-sizing: border-box;top: 0;bottom: 0;left: 50%;z-index: 0;}#sk-container-id-3 div.sk-serial {display: flex;flex-direction: column;align-items: center;background-color: white;padding-right: 0.2em;padding-left: 0.2em;position: relative;}#sk-container-id-3 div.sk-item {position: relative;z-index: 1;}#sk-container-id-3 div.sk-parallel {display: flex;align-items: stretch;justify-content: center;background-color: white;position: relative;}#sk-container-id-3 div.sk-item::before, #sk-container-id-3 div.sk-parallel-item::before {content: \"\";position: absolute;border-left: 1px solid gray;box-sizing: border-box;top: 0;bottom: 0;left: 50%;z-index: -1;}#sk-container-id-3 div.sk-parallel-item {display: flex;flex-direction: column;z-index: 1;position: relative;background-color: white;}#sk-container-id-3 div.sk-parallel-item:first-child::after {align-self: flex-end;width: 50%;}#sk-container-id-3 div.sk-parallel-item:last-child::after {align-self: flex-start;width: 50%;}#sk-container-id-3 div.sk-parallel-item:only-child::after {width: 0;}#sk-container-id-3 div.sk-dashed-wrapped {border: 1px dashed gray;margin: 0 0.4em 0.5em 0.4em;box-sizing: border-box;padding-bottom: 0.4em;background-color: white;}#sk-container-id-3 div.sk-label label {font-family: monospace;font-weight: bold;display: inline-block;line-height: 1.2em;}#sk-container-id-3 div.sk-label-container {text-align: center;}#sk-container-id-3 div.sk-container {/* jupyter's `normalize.less` sets `[hidden] { display: none; }` but bootstrap.min.css set `[hidden] { display: none !important; }` so we also need the `!important` here to be able to override the default hidden behavior on the sphinx rendered scikit-learn.org. See: https://github.com/scikit-learn/scikit-learn/issues/21755 */display: inline-block !important;position: relative;}#sk-container-id-3 div.sk-text-repr-fallback {display: none;}</style><div id=\"sk-container-id-3\" class=\"sk-top-container\"><div class=\"sk-text-repr-fallback\"><pre>LinearRegression()</pre><b>In a Jupyter environment, please rerun this cell to show the HTML representation or trust the notebook. <br />On GitHub, the HTML representation is unable to render, please try loading this page with nbviewer.org.</b></div><div class=\"sk-container\" hidden><div class=\"sk-item\"><div class=\"sk-estimator sk-toggleable\"><input class=\"sk-toggleable__control sk-hidden--visually\" id=\"sk-estimator-id-3\" type=\"checkbox\" checked><label for=\"sk-estimator-id-3\" class=\"sk-toggleable__label sk-toggleable__label-arrow\">LinearRegression</label><div class=\"sk-toggleable__content\"><pre>LinearRegression()</pre></div></div></div></div></div>"
      ],
      "text/plain": [
       "LinearRegression()"
      ]
     },
     "execution_count": 45,
     "metadata": {},
     "output_type": "execute_result"
    }
   ],
   "source": [
    "# leer artefacto con el modelo\n",
    "dict_model = pd.read_pickle('models/fcst_4series/models.pkl')\n",
    "model_lr_4series = dict_model['LinearRegression']\n",
    "model_lr_4series"
   ]
  },
  {
   "cell_type": "code",
   "execution_count": 46,
   "id": "cb72da36-d086-4203-9175-d7f0b37158e6",
   "metadata": {},
   "outputs": [
    {
     "data": {
      "text/html": [
       "<div>\n",
       "<style scoped>\n",
       "    .dataframe tbody tr th:only-of-type {\n",
       "        vertical-align: middle;\n",
       "    }\n",
       "\n",
       "    .dataframe tbody tr th {\n",
       "        vertical-align: top;\n",
       "    }\n",
       "\n",
       "    .dataframe thead th {\n",
       "        text-align: right;\n",
       "    }\n",
       "</style>\n",
       "<table border=\"1\" class=\"dataframe\">\n",
       "  <thead>\n",
       "    <tr style=\"text-align: right;\">\n",
       "      <th></th>\n",
       "      <th>unique_id</th>\n",
       "      <th>ds</th>\n",
       "      <th>y</th>\n",
       "    </tr>\n",
       "  </thead>\n",
       "  <tbody>\n",
       "    <tr>\n",
       "      <th>4027</th>\n",
       "      <td>H413</td>\n",
       "      <td>1004</td>\n",
       "      <td>99.0</td>\n",
       "    </tr>\n",
       "    <tr>\n",
       "      <th>4028</th>\n",
       "      <td>H413</td>\n",
       "      <td>1005</td>\n",
       "      <td>88.0</td>\n",
       "    </tr>\n",
       "    <tr>\n",
       "      <th>4029</th>\n",
       "      <td>H413</td>\n",
       "      <td>1006</td>\n",
       "      <td>47.0</td>\n",
       "    </tr>\n",
       "    <tr>\n",
       "      <th>4030</th>\n",
       "      <td>H413</td>\n",
       "      <td>1007</td>\n",
       "      <td>41.0</td>\n",
       "    </tr>\n",
       "    <tr>\n",
       "      <th>4031</th>\n",
       "      <td>H413</td>\n",
       "      <td>1008</td>\n",
       "      <td>34.0</td>\n",
       "    </tr>\n",
       "  </tbody>\n",
       "</table>\n",
       "</div>"
      ],
      "text/plain": [
       "     unique_id    ds     y\n",
       "4027      H413  1004  99.0\n",
       "4028      H413  1005  88.0\n",
       "4029      H413  1006  47.0\n",
       "4030      H413  1007  41.0\n",
       "4031      H413  1008  34.0"
      ]
     },
     "execution_count": 46,
     "metadata": {},
     "output_type": "execute_result"
    }
   ],
   "source": [
    "df_4series.tail()"
   ]
  },
  {
   "cell_type": "code",
   "execution_count": 47,
   "id": "eca39853-c0f6-485c-9df7-c0311f6a5432",
   "metadata": {},
   "outputs": [
    {
     "data": {
      "text/html": [
       "<div>\n",
       "<style scoped>\n",
       "    .dataframe tbody tr th:only-of-type {\n",
       "        vertical-align: middle;\n",
       "    }\n",
       "\n",
       "    .dataframe tbody tr th {\n",
       "        vertical-align: top;\n",
       "    }\n",
       "\n",
       "    .dataframe thead th {\n",
       "        text-align: right;\n",
       "    }\n",
       "</style>\n",
       "<table border=\"1\" class=\"dataframe\">\n",
       "  <thead>\n",
       "    <tr style=\"text-align: right;\">\n",
       "      <th></th>\n",
       "      <th>lag1</th>\n",
       "      <th>lag2</th>\n",
       "      <th>lag3</th>\n",
       "    </tr>\n",
       "  </thead>\n",
       "  <tbody>\n",
       "    <tr>\n",
       "      <th>0</th>\n",
       "      <td>34.0</td>\n",
       "      <td>41.0</td>\n",
       "      <td>47.0</td>\n",
       "    </tr>\n",
       "  </tbody>\n",
       "</table>\n",
       "</div>"
      ],
      "text/plain": [
       "   lag1  lag2  lag3\n",
       "0  34.0  41.0  47.0"
      ]
     },
     "execution_count": 47,
     "metadata": {},
     "output_type": "execute_result"
    }
   ],
   "source": [
    "# generar manualmente el input lag 1, lag 2, lag 3. DE LA ÚLTIMA SERIE DE TIEMPO\n",
    "array_values_instance_fcst = df_4series.tail(3)['y'].values\n",
    "array_values_instance_fcst = np.flip(array_values_instance_fcst)\n",
    "\n",
    "df_instance_fcst = pd.DataFrame(array_values_instance_fcst.reshape(1, array_values_instance_fcst.shape[0]),\n",
    "                                columns = ['lag1', 'lag2', 'lag3']\n",
    "                               )\n",
    "\n",
    "df_instance_fcst"
   ]
  },
  {
   "cell_type": "code",
   "execution_count": 48,
   "id": "05a7636b-d9b2-47a3-86aa-958f2bf5e8fd",
   "metadata": {},
   "outputs": [
    {
     "data": {
      "text/plain": [
       "array([32.6585243])"
      ]
     },
     "execution_count": 48,
     "metadata": {},
     "output_type": "execute_result"
    }
   ],
   "source": [
    "# PREDECIR\n",
    "model_lr_4series.predict(df_instance_fcst)"
   ]
  },
  {
   "cell_type": "markdown",
   "id": "dca4e19c-a134-4d59-ab36-4d09bc97f29d",
   "metadata": {},
   "source": [
    "#### 2.6 Leer modelo de nixtla y hacer forecast 1 horizonte de tiempo"
   ]
  },
  {
   "cell_type": "code",
   "execution_count": 49,
   "id": "49601153-564e-4370-9b7d-dcf29f6397ee",
   "metadata": {},
   "outputs": [
    {
     "data": {
      "text/plain": [
       "MLForecast(models=[LinearRegression], freq=1, lag_features=['lag1', 'lag2', 'lag3'], date_features=[], num_threads=1)"
      ]
     },
     "execution_count": 49,
     "metadata": {},
     "output_type": "execute_result"
    }
   ],
   "source": [
    "# leer modelo de nixtla, que contiene solo el modelo leido de forma DIRECTA en el paso anterior\n",
    "path_folder_nixtla_1serie = 'models/fcst_4series/'\n",
    "model_nixtla_4series = MLForecast.load(path_folder_nixtla_1serie)\n",
    "model_nixtla_4series"
   ]
  },
  {
   "cell_type": "code",
   "execution_count": 50,
   "id": "41df90f5-6f35-4a8e-9fac-7eeafb933682",
   "metadata": {},
   "outputs": [
    {
     "data": {
      "text/html": [
       "<div>\n",
       "<style scoped>\n",
       "    .dataframe tbody tr th:only-of-type {\n",
       "        vertical-align: middle;\n",
       "    }\n",
       "\n",
       "    .dataframe tbody tr th {\n",
       "        vertical-align: top;\n",
       "    }\n",
       "\n",
       "    .dataframe thead th {\n",
       "        text-align: right;\n",
       "    }\n",
       "</style>\n",
       "<table border=\"1\" class=\"dataframe\">\n",
       "  <thead>\n",
       "    <tr style=\"text-align: right;\">\n",
       "      <th></th>\n",
       "      <th>unique_id</th>\n",
       "      <th>ds</th>\n",
       "      <th>LinearRegression</th>\n",
       "    </tr>\n",
       "  </thead>\n",
       "  <tbody>\n",
       "    <tr>\n",
       "      <th>0</th>\n",
       "      <td>H196</td>\n",
       "      <td>1009</td>\n",
       "      <td>18.830526</td>\n",
       "    </tr>\n",
       "    <tr>\n",
       "      <th>1</th>\n",
       "      <td>H256</td>\n",
       "      <td>1009</td>\n",
       "      <td>15.671004</td>\n",
       "    </tr>\n",
       "    <tr>\n",
       "      <th>2</th>\n",
       "      <td>H381</td>\n",
       "      <td>1009</td>\n",
       "      <td>209.659443</td>\n",
       "    </tr>\n",
       "    <tr>\n",
       "      <th>3</th>\n",
       "      <td>H413</td>\n",
       "      <td>1009</td>\n",
       "      <td>32.658524</td>\n",
       "    </tr>\n",
       "  </tbody>\n",
       "</table>\n",
       "</div>"
      ],
      "text/plain": [
       "  unique_id    ds  LinearRegression\n",
       "0      H196  1009         18.830526\n",
       "1      H256  1009         15.671004\n",
       "2      H381  1009        209.659443\n",
       "3      H413  1009         32.658524"
      ]
     },
     "execution_count": 50,
     "metadata": {},
     "output_type": "execute_result"
    }
   ],
   "source": [
    "# predecir 1 observación futuro\n",
    "model_nixtla_4series.predict(1)"
   ]
  },
  {
   "cell_type": "code",
   "execution_count": null,
   "id": "d193bc58-2c54-4bb3-a1b3-78c0794bad2a",
   "metadata": {},
   "outputs": [],
   "source": []
  },
  {
   "cell_type": "markdown",
   "id": "6879b1d0-b1ae-4a6a-b1e2-86dad05461f5",
   "metadata": {},
   "source": [
    "#### 2.7 Entrenar modelo pasando todas las series juntas sin identifcar el tipo de serie"
   ]
  },
  {
   "cell_type": "code",
   "execution_count": 51,
   "id": "142e4d62-cc87-4356-8253-670ec32e8570",
   "metadata": {},
   "outputs": [
    {
     "data": {
      "text/html": [
       "<div>\n",
       "<style scoped>\n",
       "    .dataframe tbody tr th:only-of-type {\n",
       "        vertical-align: middle;\n",
       "    }\n",
       "\n",
       "    .dataframe tbody tr th {\n",
       "        vertical-align: top;\n",
       "    }\n",
       "\n",
       "    .dataframe thead th {\n",
       "        text-align: right;\n",
       "    }\n",
       "</style>\n",
       "<table border=\"1\" class=\"dataframe\">\n",
       "  <thead>\n",
       "    <tr style=\"text-align: right;\">\n",
       "      <th></th>\n",
       "      <th>lag1</th>\n",
       "      <th>lag2</th>\n",
       "      <th>lag3</th>\n",
       "    </tr>\n",
       "  </thead>\n",
       "  <tbody>\n",
       "    <tr>\n",
       "      <th>3</th>\n",
       "      <td>11.1</td>\n",
       "      <td>11.4</td>\n",
       "      <td>11.8</td>\n",
       "    </tr>\n",
       "    <tr>\n",
       "      <th>4</th>\n",
       "      <td>10.8</td>\n",
       "      <td>11.1</td>\n",
       "      <td>11.4</td>\n",
       "    </tr>\n",
       "    <tr>\n",
       "      <th>5</th>\n",
       "      <td>10.6</td>\n",
       "      <td>10.8</td>\n",
       "      <td>11.1</td>\n",
       "    </tr>\n",
       "  </tbody>\n",
       "</table>\n",
       "</div>"
      ],
      "text/plain": [
       "   lag1  lag2  lag3\n",
       "3  11.1  11.4  11.8\n",
       "4  10.8  11.1  11.4\n",
       "5  10.6  10.8  11.1"
      ]
     },
     "execution_count": 51,
     "metadata": {},
     "output_type": "execute_result"
    }
   ],
   "source": [
    "# obtener dataframe para entrenamiento\n",
    "df_X_train = model_nixtla_4series.preprocess(df_4series)\n",
    "df_X_train = df_X_train.drop(columns = ['unique_id', 'ds', 'y'])\n",
    "df_X_train.head(3)"
   ]
  },
  {
   "cell_type": "code",
   "execution_count": 52,
   "id": "07302b57-fda8-489c-a7ae-fb0b4f226f55",
   "metadata": {},
   "outputs": [
    {
     "data": {
      "text/html": [
       "<div>\n",
       "<style scoped>\n",
       "    .dataframe tbody tr th:only-of-type {\n",
       "        vertical-align: middle;\n",
       "    }\n",
       "\n",
       "    .dataframe tbody tr th {\n",
       "        vertical-align: top;\n",
       "    }\n",
       "\n",
       "    .dataframe thead th {\n",
       "        text-align: right;\n",
       "    }\n",
       "</style>\n",
       "<table border=\"1\" class=\"dataframe\">\n",
       "  <thead>\n",
       "    <tr style=\"text-align: right;\">\n",
       "      <th></th>\n",
       "      <th>y</th>\n",
       "    </tr>\n",
       "  </thead>\n",
       "  <tbody>\n",
       "    <tr>\n",
       "      <th>3</th>\n",
       "      <td>10.8</td>\n",
       "    </tr>\n",
       "    <tr>\n",
       "      <th>4</th>\n",
       "      <td>10.6</td>\n",
       "    </tr>\n",
       "    <tr>\n",
       "      <th>5</th>\n",
       "      <td>10.3</td>\n",
       "    </tr>\n",
       "  </tbody>\n",
       "</table>\n",
       "</div>"
      ],
      "text/plain": [
       "      y\n",
       "3  10.8\n",
       "4  10.6\n",
       "5  10.3"
      ]
     },
     "execution_count": 52,
     "metadata": {},
     "output_type": "execute_result"
    }
   ],
   "source": [
    "df_y_train = model_nixtla_4series.preprocess(df_4series)[['y']]\n",
    "df_y_train.head(3)"
   ]
  },
  {
   "cell_type": "code",
   "execution_count": 53,
   "id": "6e283758-6faf-4c9d-b4cf-889f55c6df39",
   "metadata": {},
   "outputs": [
    {
     "name": "stdout",
     "output_type": "stream",
     "text": [
      "shape\n",
      "X:  (4020, 3)\n",
      "y:  (4020, 1)\n"
     ]
    }
   ],
   "source": [
    "print('shape')\n",
    "print('X: ', df_X_train.shape)\n",
    "print('y: ', df_y_train.shape)"
   ]
  },
  {
   "cell_type": "code",
   "execution_count": 54,
   "id": "3f67183a-c448-410d-9d28-a3a7076a1b94",
   "metadata": {},
   "outputs": [
    {
     "data": {
      "text/html": [
       "<style>#sk-container-id-4 {color: black;}#sk-container-id-4 pre{padding: 0;}#sk-container-id-4 div.sk-toggleable {background-color: white;}#sk-container-id-4 label.sk-toggleable__label {cursor: pointer;display: block;width: 100%;margin-bottom: 0;padding: 0.3em;box-sizing: border-box;text-align: center;}#sk-container-id-4 label.sk-toggleable__label-arrow:before {content: \"▸\";float: left;margin-right: 0.25em;color: #696969;}#sk-container-id-4 label.sk-toggleable__label-arrow:hover:before {color: black;}#sk-container-id-4 div.sk-estimator:hover label.sk-toggleable__label-arrow:before {color: black;}#sk-container-id-4 div.sk-toggleable__content {max-height: 0;max-width: 0;overflow: hidden;text-align: left;background-color: #f0f8ff;}#sk-container-id-4 div.sk-toggleable__content pre {margin: 0.2em;color: black;border-radius: 0.25em;background-color: #f0f8ff;}#sk-container-id-4 input.sk-toggleable__control:checked~div.sk-toggleable__content {max-height: 200px;max-width: 100%;overflow: auto;}#sk-container-id-4 input.sk-toggleable__control:checked~label.sk-toggleable__label-arrow:before {content: \"▾\";}#sk-container-id-4 div.sk-estimator input.sk-toggleable__control:checked~label.sk-toggleable__label {background-color: #d4ebff;}#sk-container-id-4 div.sk-label input.sk-toggleable__control:checked~label.sk-toggleable__label {background-color: #d4ebff;}#sk-container-id-4 input.sk-hidden--visually {border: 0;clip: rect(1px 1px 1px 1px);clip: rect(1px, 1px, 1px, 1px);height: 1px;margin: -1px;overflow: hidden;padding: 0;position: absolute;width: 1px;}#sk-container-id-4 div.sk-estimator {font-family: monospace;background-color: #f0f8ff;border: 1px dotted black;border-radius: 0.25em;box-sizing: border-box;margin-bottom: 0.5em;}#sk-container-id-4 div.sk-estimator:hover {background-color: #d4ebff;}#sk-container-id-4 div.sk-parallel-item::after {content: \"\";width: 100%;border-bottom: 1px solid gray;flex-grow: 1;}#sk-container-id-4 div.sk-label:hover label.sk-toggleable__label {background-color: #d4ebff;}#sk-container-id-4 div.sk-serial::before {content: \"\";position: absolute;border-left: 1px solid gray;box-sizing: border-box;top: 0;bottom: 0;left: 50%;z-index: 0;}#sk-container-id-4 div.sk-serial {display: flex;flex-direction: column;align-items: center;background-color: white;padding-right: 0.2em;padding-left: 0.2em;position: relative;}#sk-container-id-4 div.sk-item {position: relative;z-index: 1;}#sk-container-id-4 div.sk-parallel {display: flex;align-items: stretch;justify-content: center;background-color: white;position: relative;}#sk-container-id-4 div.sk-item::before, #sk-container-id-4 div.sk-parallel-item::before {content: \"\";position: absolute;border-left: 1px solid gray;box-sizing: border-box;top: 0;bottom: 0;left: 50%;z-index: -1;}#sk-container-id-4 div.sk-parallel-item {display: flex;flex-direction: column;z-index: 1;position: relative;background-color: white;}#sk-container-id-4 div.sk-parallel-item:first-child::after {align-self: flex-end;width: 50%;}#sk-container-id-4 div.sk-parallel-item:last-child::after {align-self: flex-start;width: 50%;}#sk-container-id-4 div.sk-parallel-item:only-child::after {width: 0;}#sk-container-id-4 div.sk-dashed-wrapped {border: 1px dashed gray;margin: 0 0.4em 0.5em 0.4em;box-sizing: border-box;padding-bottom: 0.4em;background-color: white;}#sk-container-id-4 div.sk-label label {font-family: monospace;font-weight: bold;display: inline-block;line-height: 1.2em;}#sk-container-id-4 div.sk-label-container {text-align: center;}#sk-container-id-4 div.sk-container {/* jupyter's `normalize.less` sets `[hidden] { display: none; }` but bootstrap.min.css set `[hidden] { display: none !important; }` so we also need the `!important` here to be able to override the default hidden behavior on the sphinx rendered scikit-learn.org. See: https://github.com/scikit-learn/scikit-learn/issues/21755 */display: inline-block !important;position: relative;}#sk-container-id-4 div.sk-text-repr-fallback {display: none;}</style><div id=\"sk-container-id-4\" class=\"sk-top-container\"><div class=\"sk-text-repr-fallback\"><pre>LinearRegression()</pre><b>In a Jupyter environment, please rerun this cell to show the HTML representation or trust the notebook. <br />On GitHub, the HTML representation is unable to render, please try loading this page with nbviewer.org.</b></div><div class=\"sk-container\" hidden><div class=\"sk-item\"><div class=\"sk-estimator sk-toggleable\"><input class=\"sk-toggleable__control sk-hidden--visually\" id=\"sk-estimator-id-4\" type=\"checkbox\" checked><label for=\"sk-estimator-id-4\" class=\"sk-toggleable__label sk-toggleable__label-arrow\">LinearRegression</label><div class=\"sk-toggleable__content\"><pre>LinearRegression()</pre></div></div></div></div></div>"
      ],
      "text/plain": [
       "LinearRegression()"
      ]
     },
     "execution_count": 54,
     "metadata": {},
     "output_type": "execute_result"
    }
   ],
   "source": [
    "# entrenar modelo\n",
    "from sklearn.linear_model import LinearRegression\n",
    "model_scratch = LinearRegression()\n",
    "model_scratch.fit(df_X_train, df_y_train)"
   ]
  },
  {
   "cell_type": "code",
   "execution_count": 55,
   "id": "25e07113-6d93-4a7d-bc40-36abdda88690",
   "metadata": {},
   "outputs": [
    {
     "data": {
      "text/html": [
       "<div>\n",
       "<style scoped>\n",
       "    .dataframe tbody tr th:only-of-type {\n",
       "        vertical-align: middle;\n",
       "    }\n",
       "\n",
       "    .dataframe tbody tr th {\n",
       "        vertical-align: top;\n",
       "    }\n",
       "\n",
       "    .dataframe thead th {\n",
       "        text-align: right;\n",
       "    }\n",
       "</style>\n",
       "<table border=\"1\" class=\"dataframe\">\n",
       "  <thead>\n",
       "    <tr style=\"text-align: right;\">\n",
       "      <th></th>\n",
       "      <th>lag1</th>\n",
       "      <th>lag2</th>\n",
       "      <th>lag3</th>\n",
       "    </tr>\n",
       "  </thead>\n",
       "  <tbody>\n",
       "    <tr>\n",
       "      <th>0</th>\n",
       "      <td>34.0</td>\n",
       "      <td>41.0</td>\n",
       "      <td>47.0</td>\n",
       "    </tr>\n",
       "  </tbody>\n",
       "</table>\n",
       "</div>"
      ],
      "text/plain": [
       "   lag1  lag2  lag3\n",
       "0  34.0  41.0  47.0"
      ]
     },
     "execution_count": 55,
     "metadata": {},
     "output_type": "execute_result"
    }
   ],
   "source": [
    "df_instance_fcst # intancia ultima observacion"
   ]
  },
  {
   "cell_type": "code",
   "execution_count": 56,
   "id": "70505aee-2328-4969-a3ce-dccf9f4c0aa4",
   "metadata": {},
   "outputs": [
    {
     "data": {
      "text/plain": [
       "array([[32.6585243]])"
      ]
     },
     "execution_count": 56,
     "metadata": {},
     "output_type": "execute_result"
    }
   ],
   "source": [
    "# realizar inferencia forecast h+1 y comparar resultados\n",
    "model_scratch.predict(df_instance_fcst)"
   ]
  },
  {
   "cell_type": "code",
   "execution_count": null,
   "id": "917ca985-dd4e-46b7-9b35-ca160f75fe9b",
   "metadata": {},
   "outputs": [],
   "source": []
  },
  {
   "cell_type": "markdown",
   "id": "485387da-7f8a-417d-ba5d-e17d36f8726e",
   "metadata": {},
   "source": [
    "### CONCLUSIÓN FINAL: El valor predicho para la serie es el mismo\n",
    "- Esto refuerza que las series se pasan al modelo todas juntas, sin hacer diferencia en el tipo de serie y es el modelo el que debe de hacer el forecast reconociendo los patrones en los datos\n",
    "- No se pasa el ID de la serie. Se pasan todas las series y que el modelo entienda los patrones. Esto podría mejorar si se entrenan 2 modelos y cada uno recibe distintas series. Hay que entrar a probar, quizas series muy correlacionadas entre sí es mejor pasarlas juntas y se obtienen mejores resultados ¿?\n",
    "- Al modelo se le pasan todos los datos y se entrena para predecir h+1. Luego con recursividad se obtienen prediciones h horizontes a futuro."
   ]
  },
  {
   "cell_type": "code",
   "execution_count": 57,
   "id": "24079ff5-8aff-4984-91af-29fa8b04dcf3",
   "metadata": {},
   "outputs": [
    {
     "data": {
      "text/plain": [
       "array([[32.6585243]])"
      ]
     },
     "execution_count": 57,
     "metadata": {},
     "output_type": "execute_result"
    }
   ],
   "source": [
    "# inferencia ENTRENANDO modelo con las 4 series juntas sin identificar el tipo de serie\n",
    "model_scratch.predict(df_instance_fcst)"
   ]
  },
  {
   "cell_type": "code",
   "execution_count": 58,
   "id": "775992fd-6fd7-41bc-a193-f48a6f30705a",
   "metadata": {},
   "outputs": [
    {
     "data": {
      "text/plain": [
       "array([32.6585243])"
      ]
     },
     "execution_count": 58,
     "metadata": {},
     "output_type": "execute_result"
    }
   ],
   "source": [
    "# inferencia leyendo el modelo directametne\n",
    "model_lr_4series.predict(df_instance_fcst)"
   ]
  },
  {
   "cell_type": "code",
   "execution_count": 59,
   "id": "0c8cae6e-1f86-49eb-9734-f249946d1b47",
   "metadata": {},
   "outputs": [
    {
     "data": {
      "text/html": [
       "<div>\n",
       "<style scoped>\n",
       "    .dataframe tbody tr th:only-of-type {\n",
       "        vertical-align: middle;\n",
       "    }\n",
       "\n",
       "    .dataframe tbody tr th {\n",
       "        vertical-align: top;\n",
       "    }\n",
       "\n",
       "    .dataframe thead th {\n",
       "        text-align: right;\n",
       "    }\n",
       "</style>\n",
       "<table border=\"1\" class=\"dataframe\">\n",
       "  <thead>\n",
       "    <tr style=\"text-align: right;\">\n",
       "      <th></th>\n",
       "      <th>unique_id</th>\n",
       "      <th>ds</th>\n",
       "      <th>LinearRegression</th>\n",
       "    </tr>\n",
       "  </thead>\n",
       "  <tbody>\n",
       "    <tr>\n",
       "      <th>0</th>\n",
       "      <td>H196</td>\n",
       "      <td>1009</td>\n",
       "      <td>18.830526</td>\n",
       "    </tr>\n",
       "    <tr>\n",
       "      <th>1</th>\n",
       "      <td>H256</td>\n",
       "      <td>1009</td>\n",
       "      <td>15.671004</td>\n",
       "    </tr>\n",
       "    <tr>\n",
       "      <th>2</th>\n",
       "      <td>H381</td>\n",
       "      <td>1009</td>\n",
       "      <td>209.659443</td>\n",
       "    </tr>\n",
       "    <tr>\n",
       "      <th>3</th>\n",
       "      <td>H413</td>\n",
       "      <td>1009</td>\n",
       "      <td>32.658524</td>\n",
       "    </tr>\n",
       "  </tbody>\n",
       "</table>\n",
       "</div>"
      ],
      "text/plain": [
       "  unique_id    ds  LinearRegression\n",
       "0      H196  1009         18.830526\n",
       "1      H256  1009         15.671004\n",
       "2      H381  1009        209.659443\n",
       "3      H413  1009         32.658524"
      ]
     },
     "execution_count": 59,
     "metadata": {},
     "output_type": "execute_result"
    }
   ],
   "source": [
    "# leyendo modelo nixtla y haciendo forecast\n",
    "model_nixtla_4series.predict(1)"
   ]
  },
  {
   "cell_type": "code",
   "execution_count": null,
   "id": "412399a1-9fa0-4d37-a460-ad9b87f370a7",
   "metadata": {},
   "outputs": [],
   "source": []
  },
  {
   "cell_type": "code",
   "execution_count": null,
   "id": "2e059405-66e9-46ae-b53c-8496c9e10ada",
   "metadata": {},
   "outputs": [],
   "source": []
  },
  {
   "cell_type": "markdown",
   "id": "b1207886-d1df-4b79-a3c2-b2c9cb266889",
   "metadata": {},
   "source": [
    "#### IMPORTANTE:\n",
    "- Se puede observar que el modelo es entrenado sin pasar el timestamp, y, unique_id\n",
    "\n",
    "- AL MODELO se le pasan TODOS los datos. Por lo tanto el ID de la serie solo sirve para darle un nombre a la serie en el output, pero el modelo de por si no hace nada\n",
    "  \n",
    "- Me imagino que no sabe, solo ve los datos de entrada y decide qué hacer. Al final si los datos son parecidos, los modelos entrenados van a ser los mismos\n",
    "\n",
    "- Como el modelo es el mismo directamente o a través de nixtla, se pueden hacer todos los análisis que se harían siempre. Nixtla solamente actual para facilitar la recursividad en el forecast"
   ]
  },
  {
   "cell_type": "code",
   "execution_count": 60,
   "id": "6ccf4254-dc92-4c96-9096-753dfaac1ec4",
   "metadata": {},
   "outputs": [
    {
     "data": {
      "text/plain": [
       "array([ 1.21103453, -0.18011296, -0.09359996])"
      ]
     },
     "execution_count": 60,
     "metadata": {},
     "output_type": "execute_result"
    }
   ],
   "source": [
    "# obtener coeficientes de la serie. Si fuera un arima, el coeficiente no podría ser mayor a 1\n",
    "model_lr_4series.coef_"
   ]
  },
  {
   "cell_type": "code",
   "execution_count": 61,
   "id": "dbb90d75-e41b-428b-917b-741aa6c54092",
   "metadata": {},
   "outputs": [
    {
     "data": {
      "text/plain": [
       "array([ 1.21103453, -0.18011296, -0.09359996])"
      ]
     },
     "execution_count": 61,
     "metadata": {},
     "output_type": "execute_result"
    }
   ],
   "source": [
    "# se puede obtener el modelo directamente desde la clase de nixtla\n",
    "model_nixtla_4series.models['LinearRegression'].coef_"
   ]
  },
  {
   "cell_type": "code",
   "execution_count": null,
   "id": "0ac22c71-a5a0-493b-b278-97194e8fa461",
   "metadata": {},
   "outputs": [],
   "source": []
  },
  {
   "cell_type": "code",
   "execution_count": null,
   "id": "8debe226-045e-4bee-9121-bd5571917481",
   "metadata": {},
   "outputs": [],
   "source": []
  },
  {
   "cell_type": "code",
   "execution_count": 64,
   "id": "3013de6f-13ea-4dc2-82a3-0c79abe290cf",
   "metadata": {},
   "outputs": [
    {
     "data": {
      "text/plain": [
       "{'LinearRegression': LinearRegression()}"
      ]
     },
     "execution_count": 64,
     "metadata": {},
     "output_type": "execute_result"
    }
   ],
   "source": [
    "model_nixtla_4series.models"
   ]
  },
  {
   "cell_type": "code",
   "execution_count": 67,
   "id": "ebfabea0-e9c7-4b9e-87f0-17bf61d73a59",
   "metadata": {},
   "outputs": [
    {
     "data": {
      "text/plain": [
       "{'LinearRegression': LinearRegression()}"
      ]
     },
     "execution_count": 67,
     "metadata": {},
     "output_type": "execute_result"
    }
   ],
   "source": [
    "# consultar los modelos cuando se utiliza el método directo para hacer forecast H horizontes de tiempo definidos\n",
    "model_nixtla_4series.models_"
   ]
  },
  {
   "cell_type": "code",
   "execution_count": null,
   "id": "5ab99068-384f-4b0b-9f5d-adef388331e4",
   "metadata": {},
   "outputs": [],
   "source": []
  },
  {
   "cell_type": "code",
   "execution_count": null,
   "id": "6119b6cc-9603-4744-acec-206c2f2991e4",
   "metadata": {},
   "outputs": [],
   "source": []
  }
 ],
 "metadata": {
  "kernelspec": {
   "display_name": "Python 3 (ipykernel)",
   "language": "python",
   "name": "python3"
  },
  "language_info": {
   "codemirror_mode": {
    "name": "ipython",
    "version": 3
   },
   "file_extension": ".py",
   "mimetype": "text/x-python",
   "name": "python",
   "nbconvert_exporter": "python",
   "pygments_lexer": "ipython3",
   "version": "3.10.14"
  }
 },
 "nbformat": 4,
 "nbformat_minor": 5
}
