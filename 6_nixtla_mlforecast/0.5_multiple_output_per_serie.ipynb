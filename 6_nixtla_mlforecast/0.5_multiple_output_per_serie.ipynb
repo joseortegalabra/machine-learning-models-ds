{
 "cells": [
  {
   "cell_type": "markdown",
   "id": "5ca30dc6-452e-41c4-ac5a-fac3956c693d",
   "metadata": {},
   "source": [
    "### Entrenar un modelo por serie\n",
    "Lo que se hace actualmente es PASAR TODAS LAS SERIES COMO DIFERENTES OBSERVACIONES y que el modelo detecte los patrones y prediga (un único modelo) (con la opción de hacer fcst de forma recursiva o un modelo por step, pero se siguen pasando todas las series como una sola)\n",
    "\n",
    "A continuación, La idea es que el **modelo vea todas las series pero que genere un OUTPUT DISTINTO POR CADA SERIE**. Buscar replicar los outputs de las NN donde se tiene un output. Un solo modelo, multiple series de inputs, multiple output por cada serie. Y luego, hacer el fcst de forma recursiva\n",
    "\n",
    "Esto genera más problemas porque de forma rápida cada SERIE SE VUELVE UNA FEATURE (donde antes era solo una feature). Y con las transformaciones en la serie, la cantidad de features crece de forma exponecial"
   ]
  },
  {
   "cell_type": "code",
   "execution_count": null,
   "id": "702b9a49-0cb0-4b77-829b-20b4cd550f28",
   "metadata": {},
   "outputs": [],
   "source": []
  },
  {
   "cell_type": "code",
   "execution_count": null,
   "id": "2a09f144-477d-4cd0-ae29-e151606d50e5",
   "metadata": {},
   "outputs": [],
   "source": []
  },
  {
   "cell_type": "code",
   "execution_count": null,
   "id": "f9b0b92a-a610-409b-9ef1-4a4d2fbaba31",
   "metadata": {},
   "outputs": [],
   "source": []
  },
  {
   "cell_type": "code",
   "execution_count": null,
   "id": "0687909f-ea05-4122-9b1d-852cf09edacf",
   "metadata": {},
   "outputs": [],
   "source": []
  }
 ],
 "metadata": {
  "kernelspec": {
   "display_name": "Python 3 (ipykernel)",
   "language": "python",
   "name": "python3"
  },
  "language_info": {
   "codemirror_mode": {
    "name": "ipython",
    "version": 3
   },
   "file_extension": ".py",
   "mimetype": "text/x-python",
   "name": "python",
   "nbconvert_exporter": "python",
   "pygments_lexer": "ipython3",
   "version": "3.10.14"
  }
 },
 "nbformat": 4,
 "nbformat_minor": 5
}
