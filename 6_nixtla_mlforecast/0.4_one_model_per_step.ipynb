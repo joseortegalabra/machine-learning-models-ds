{
 "cells": [
  {
   "cell_type": "markdown",
   "id": "6215bb27-c9af-454a-b851-c4a2f4937a52",
   "metadata": {},
   "source": [
    "# Multiple models forecast h horizon\n",
    "Por defecto se utiliza el mismo modelo para predecir un step a futuro y luego de forma recursiva se generan los features para predecir a h horizonte de tiempo a futuro.\n",
    "\n",
    "Sin embargo, también es posible predecir a h horizonte de tiempo a futuro utilizando un modelo distinto para precedir un horizonte distinto. Por ejemplo h=3, se entrena un modelo que prediga t+1, otro que prediga t+2 y por último otro que prediga t+3.\n",
    "\n",
    "Esto podría generar mejores resultados, pero toma mucho más tiempo de entrenamiento\n",
    "\n",
    "SOURCE: https://nixtlaverse.nixtla.io/mlforecast/docs/how-to-guides/one_model_per_horizon.html"
   ]
  },
  {
   "cell_type": "code",
   "execution_count": null,
   "id": "6e23632c-be23-432f-81ff-9f2a37476a0c",
   "metadata": {},
   "outputs": [],
   "source": []
  },
  {
   "cell_type": "markdown",
   "id": "f656e434-4a59-4754-9757-e380a511d561",
   "metadata": {},
   "source": [
    "By default mlforecast uses the recursive strategy, i.e. a model is trained to predict the next value and if we’re predicting several values we do it one at a time and then use the model’s predictions as the new target, recompute the features and predict the next step.\n",
    "\n",
    "There’s another approach where if we want to predict 10 steps ahead we train 10 different models, where each model is trained to predict the value at each specific step, i.e. one model predicts the next value, another one predicts the value two steps ahead and so on. This can be very time consuming but can also provide better results. If you want to use this approach you can specify max_horizon in MLForecast.fit, which will train that many models and each model will predict its corresponding horizon when you call MLForecast.predict."
   ]
  },
  {
   "cell_type": "code",
   "execution_count": 1,
   "id": "70b6f0cc-844e-4a7f-ab5b-06e658b31b67",
   "metadata": {},
   "outputs": [],
   "source": [
    "import random\n",
    "import lightgbm as lgb\n",
    "import pandas as pd\n",
    "from datasetsforecast.m4 import M4, M4Info\n",
    "from utilsforecast.evaluation import evaluate\n",
    "from utilsforecast.losses import smape\n",
    "\n",
    "from mlforecast import MLForecast\n",
    "from mlforecast.lag_transforms import ExponentiallyWeightedMean, RollingMean\n",
    "from mlforecast.target_transforms import Differences"
   ]
  },
  {
   "cell_type": "code",
   "execution_count": null,
   "id": "abadbf7b-773f-4cfb-ab30-a66dc7eb2ca1",
   "metadata": {},
   "outputs": [],
   "source": []
  },
  {
   "cell_type": "markdown",
   "id": "c639343c-ad39-406d-8c37-5b22ae73d357",
   "metadata": {},
   "source": [
    "### 0. Data"
   ]
  },
  {
   "cell_type": "code",
   "execution_count": 2,
   "id": "bcb510a2-e66b-4617-9b1c-414049d653cc",
   "metadata": {},
   "outputs": [],
   "source": [
    "group = 'Hourly'\n",
    "await M4.async_download('data', group=group)\n",
    "df, *_ = M4.load(directory='data', group=group)\n",
    "df['ds'] = df['ds'].astype('int')\n",
    "ids = df['unique_id'].unique()\n",
    "random.seed(0)\n",
    "sample_ids = random.choices(ids, k=4)\n",
    "sample_df = df[df['unique_id'].isin(sample_ids)]\n",
    "info = M4Info[group]\n",
    "horizon = info.horizon\n",
    "valid = sample_df.groupby('unique_id').tail(horizon)\n",
    "train = sample_df.drop(valid.index)"
   ]
  },
  {
   "cell_type": "code",
   "execution_count": 3,
   "id": "f04706be-c8d1-417c-923b-6b3fee85fa0b",
   "metadata": {},
   "outputs": [],
   "source": [
    "def avg_smape(df):\n",
    "    \"\"\"Computes the SMAPE by serie and then averages it across all series.\"\"\"\n",
    "    full = df.merge(valid)\n",
    "    return (\n",
    "        evaluate(full, metrics=[smape])\n",
    "        .drop(columns='metric')\n",
    "        .set_index('unique_id')\n",
    "        .squeeze()\n",
    "    )"
   ]
  },
  {
   "cell_type": "code",
   "execution_count": 4,
   "id": "2ea3eb97-609c-4996-b5d5-56a262ea1e10",
   "metadata": {},
   "outputs": [
    {
     "data": {
      "text/plain": [
       "48"
      ]
     },
     "execution_count": 4,
     "metadata": {},
     "output_type": "execute_result"
    }
   ],
   "source": [
    "horizon"
   ]
  },
  {
   "cell_type": "code",
   "execution_count": null,
   "id": "f419a123-84cb-40f9-8bf1-c8c5b89fe2a3",
   "metadata": {},
   "outputs": [],
   "source": []
  },
  {
   "cell_type": "markdown",
   "id": "f3fb5187-c92f-458a-bde2-af41f52d9118",
   "metadata": {},
   "source": [
    "### 1. Train"
   ]
  },
  {
   "cell_type": "code",
   "execution_count": 7,
   "id": "e0a89095-8578-4615-9b89-4d9de835dfb0",
   "metadata": {},
   "outputs": [],
   "source": [
    "fcst = MLForecast(\n",
    "    models=lgb.LGBMRegressor(random_state=0, verbosity=-1),\n",
    "    freq=1,\n",
    "    lags=[24 * (i+1) for i in range(7)],\n",
    "    lag_transforms={\n",
    "        1: [RollingMean(window_size=24)],\n",
    "        24: [RollingMean(window_size=24)],\n",
    "        48: [ExponentiallyWeightedMean(alpha=0.3)],\n",
    "    },\n",
    "    num_threads=1,\n",
    "    target_transforms=[Differences([24])],\n",
    ")"
   ]
  },
  {
   "cell_type": "code",
   "execution_count": 8,
   "id": "0d22b0dc-a464-4975-9e11-c783594ce5b0",
   "metadata": {},
   "outputs": [
    {
     "data": {
      "text/plain": [
       "MLForecast(models=[LGBMRegressor], freq=1, lag_features=['lag24', 'lag48', 'lag72', 'lag96', 'lag120', 'lag144', 'lag168', 'rolling_mean_lag1_window_size24', 'rolling_mean_lag24_window_size24', 'exponentially_weighted_mean_lag48_alpha0.3'], date_features=[], num_threads=1)"
      ]
     },
     "execution_count": 8,
     "metadata": {},
     "output_type": "execute_result"
    }
   ],
   "source": [
    "fcst"
   ]
  },
  {
   "cell_type": "code",
   "execution_count": 9,
   "id": "20469d1a-2d7f-4f49-8599-812a9dde9eef",
   "metadata": {},
   "outputs": [],
   "source": [
    "horizon = 24"
   ]
  },
  {
   "cell_type": "code",
   "execution_count": 10,
   "id": "c51f4cf7-b30e-452a-8da8-eb7e895cf895",
   "metadata": {},
   "outputs": [],
   "source": [
    "# the following will train 24 models, one for each horizon\n",
    "individual_fcst = fcst.fit(train, max_horizon=horizon) #### AL DEFINIR EL PARAM MAX_HORIZON EN EL ENTRENAMIENTO SE ENTRENA UN MODELO POR STEP\n",
    "individual_preds = individual_fcst.predict(horizon)\n",
    "avg_smape_individual = avg_smape(individual_preds).rename('individual')"
   ]
  },
  {
   "cell_type": "code",
   "execution_count": 11,
   "id": "521ddb1c-81fb-47a7-b7f1-3a68c93bb38c",
   "metadata": {},
   "outputs": [],
   "source": [
    "# the following will train a single model and use the recursive strategy\n",
    "recursive_fcst = fcst.fit(train)\n",
    "recursive_preds = recursive_fcst.predict(horizon)\n",
    "avg_smape_recursive = avg_smape(recursive_preds).rename('recursive')"
   ]
  },
  {
   "cell_type": "code",
   "execution_count": 12,
   "id": "590f15fd-a66a-4c09-8651-9b79c2d72490",
   "metadata": {},
   "outputs": [
    {
     "name": "stdout",
     "output_type": "stream",
     "text": [
      "Average SMAPE per method and serie\n"
     ]
    },
    {
     "data": {
      "text/html": [
       "<div>\n",
       "<style scoped>\n",
       "    .dataframe tbody tr th:only-of-type {\n",
       "        vertical-align: middle;\n",
       "    }\n",
       "\n",
       "    .dataframe tbody tr th {\n",
       "        vertical-align: top;\n",
       "    }\n",
       "\n",
       "    .dataframe thead th {\n",
       "        text-align: right;\n",
       "    }\n",
       "</style>\n",
       "<table border=\"1\" class=\"dataframe\">\n",
       "  <thead>\n",
       "    <tr style=\"text-align: right;\">\n",
       "      <th></th>\n",
       "      <th>individual</th>\n",
       "      <th>recursive</th>\n",
       "    </tr>\n",
       "    <tr>\n",
       "      <th>unique_id</th>\n",
       "      <th></th>\n",
       "      <th></th>\n",
       "    </tr>\n",
       "  </thead>\n",
       "  <tbody>\n",
       "    <tr>\n",
       "      <th>H196</th>\n",
       "      <td>0.3%</td>\n",
       "      <td>0.3%</td>\n",
       "    </tr>\n",
       "    <tr>\n",
       "      <th>H256</th>\n",
       "      <td>0.4%</td>\n",
       "      <td>0.3%</td>\n",
       "    </tr>\n",
       "    <tr>\n",
       "      <th>H381</th>\n",
       "      <td>20.9%</td>\n",
       "      <td>9.5%</td>\n",
       "    </tr>\n",
       "    <tr>\n",
       "      <th>H413</th>\n",
       "      <td>11.9%</td>\n",
       "      <td>13.6%</td>\n",
       "    </tr>\n",
       "  </tbody>\n",
       "</table>\n",
       "</div>"
      ],
      "text/plain": [
       "          individual recursive\n",
       "unique_id                     \n",
       "H196            0.3%      0.3%\n",
       "H256            0.4%      0.3%\n",
       "H381           20.9%      9.5%\n",
       "H413           11.9%     13.6%"
      ]
     },
     "execution_count": 12,
     "metadata": {},
     "output_type": "execute_result"
    }
   ],
   "source": [
    "# results\n",
    "print('Average SMAPE per method and serie')\n",
    "avg_smape_individual.to_frame().join(avg_smape_recursive).applymap('{:.1%}'.format)"
   ]
  },
  {
   "cell_type": "markdown",
   "id": "3a0cc1f4-303c-4355-a76c-b147fafb1c49",
   "metadata": {},
   "source": [
    "### En el output se puede observar, que no necesariamente es mejor entrenar un modelo por step"
   ]
  },
  {
   "cell_type": "code",
   "execution_count": null,
   "id": "e193510d-8155-4110-b607-b9cfe1bf19ce",
   "metadata": {},
   "outputs": [],
   "source": []
  },
  {
   "cell_type": "code",
   "execution_count": null,
   "id": "dc09982b-5513-4d0d-9bc5-1974d21e2eeb",
   "metadata": {},
   "outputs": [],
   "source": []
  },
  {
   "cell_type": "code",
   "execution_count": null,
   "id": "e1f6cb5b-5ad0-4427-8b95-5a312848e5c6",
   "metadata": {},
   "outputs": [],
   "source": []
  }
 ],
 "metadata": {
  "kernelspec": {
   "display_name": "Python 3 (ipykernel)",
   "language": "python",
   "name": "python3"
  },
  "language_info": {
   "codemirror_mode": {
    "name": "ipython",
    "version": 3
   },
   "file_extension": ".py",
   "mimetype": "text/x-python",
   "name": "python",
   "nbconvert_exporter": "python",
   "pygments_lexer": "ipython3",
   "version": "3.10.14"
  }
 },
 "nbformat": 4,
 "nbformat_minor": 5
}
