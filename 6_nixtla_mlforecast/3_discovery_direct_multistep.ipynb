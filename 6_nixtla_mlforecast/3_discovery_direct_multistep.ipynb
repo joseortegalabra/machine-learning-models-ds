{
 "cells": [
  {
   "cell_type": "markdown",
   "id": "6a4399bd-7e66-4387-9d27-39b5cbd0d307",
   "metadata": {},
   "source": [
    "# Entendiendo direct step multistep\n",
    "Que para cada horizonte de forecast se entrene un modelo distinto. \n",
    "\n",
    "En lugar de utilizar la recursividad para hacer predicciones h horizonte de tiempo a futuro"
   ]
  },
  {
   "cell_type": "code",
   "execution_count": null,
   "id": "0b495f8a-2814-43da-adac-82f6f7fc6510",
   "metadata": {},
   "outputs": [],
   "source": []
  },
  {
   "cell_type": "code",
   "execution_count": 2,
   "id": "9ee0c12b-aa04-4dec-9691-93a19ff09024",
   "metadata": {},
   "outputs": [],
   "source": [
    "import random\n",
    "import lightgbm as lgb\n",
    "import pandas as pd\n",
    "from datasetsforecast.m4 import M4, M4Info\n",
    "from utilsforecast.evaluation import evaluate\n",
    "from utilsforecast.losses import smape\n",
    "\n",
    "from mlforecast import MLForecast\n",
    "from mlforecast.lag_transforms import ExponentiallyWeightedMean, RollingMean\n",
    "from mlforecast.target_transforms import Differences"
   ]
  },
  {
   "cell_type": "code",
   "execution_count": null,
   "id": "5f4f0b7d-7a32-433d-924a-e4bb93b16fe9",
   "metadata": {},
   "outputs": [],
   "source": []
  },
  {
   "cell_type": "markdown",
   "id": "2dede80c-c71f-4fa8-bf18-50cd52564668",
   "metadata": {},
   "source": [
    "### 0. Data"
   ]
  },
  {
   "cell_type": "code",
   "execution_count": 3,
   "id": "899fa101-509d-4b4f-aea3-00ee6b7383cc",
   "metadata": {},
   "outputs": [],
   "source": [
    "group = 'Hourly'\n",
    "await M4.async_download('data', group=group)\n",
    "df, *_ = M4.load(directory='data', group=group)\n",
    "df['ds'] = df['ds'].astype('int')\n",
    "ids = df['unique_id'].unique()\n",
    "random.seed(0)\n",
    "sample_ids = random.choices(ids, k=4)\n",
    "sample_df = df[df['unique_id'].isin(sample_ids)]\n",
    "info = M4Info[group]\n",
    "horizon = info.horizon\n",
    "valid = sample_df.groupby('unique_id').tail(horizon)\n",
    "train = sample_df.drop(valid.index)"
   ]
  },
  {
   "cell_type": "code",
   "execution_count": 4,
   "id": "df8749d9-dc83-4b06-901b-fb720225364c",
   "metadata": {},
   "outputs": [],
   "source": [
    "def avg_smape(df):\n",
    "    \"\"\"Computes the SMAPE by serie and then averages it across all series.\"\"\"\n",
    "    full = df.merge(valid)\n",
    "    return (\n",
    "        evaluate(full, metrics=[smape])\n",
    "        .drop(columns='metric')\n",
    "        .set_index('unique_id')\n",
    "        .squeeze()\n",
    "    )"
   ]
  },
  {
   "cell_type": "code",
   "execution_count": 6,
   "id": "c97d57c1-7998-4e64-befd-42650d8debfb",
   "metadata": {},
   "outputs": [
    {
     "data": {
      "text/html": [
       "<div>\n",
       "<style scoped>\n",
       "    .dataframe tbody tr th:only-of-type {\n",
       "        vertical-align: middle;\n",
       "    }\n",
       "\n",
       "    .dataframe tbody tr th {\n",
       "        vertical-align: top;\n",
       "    }\n",
       "\n",
       "    .dataframe thead th {\n",
       "        text-align: right;\n",
       "    }\n",
       "</style>\n",
       "<table border=\"1\" class=\"dataframe\">\n",
       "  <thead>\n",
       "    <tr style=\"text-align: right;\">\n",
       "      <th></th>\n",
       "      <th>unique_id</th>\n",
       "      <th>ds</th>\n",
       "      <th>y</th>\n",
       "    </tr>\n",
       "  </thead>\n",
       "  <tbody>\n",
       "    <tr>\n",
       "      <th>86796</th>\n",
       "      <td>H196</td>\n",
       "      <td>1</td>\n",
       "      <td>11.8</td>\n",
       "    </tr>\n",
       "    <tr>\n",
       "      <th>86797</th>\n",
       "      <td>H196</td>\n",
       "      <td>2</td>\n",
       "      <td>11.4</td>\n",
       "    </tr>\n",
       "    <tr>\n",
       "      <th>86798</th>\n",
       "      <td>H196</td>\n",
       "      <td>3</td>\n",
       "      <td>11.1</td>\n",
       "    </tr>\n",
       "    <tr>\n",
       "      <th>86799</th>\n",
       "      <td>H196</td>\n",
       "      <td>4</td>\n",
       "      <td>10.8</td>\n",
       "    </tr>\n",
       "    <tr>\n",
       "      <th>86800</th>\n",
       "      <td>H196</td>\n",
       "      <td>5</td>\n",
       "      <td>10.6</td>\n",
       "    </tr>\n",
       "    <tr>\n",
       "      <th>...</th>\n",
       "      <td>...</td>\n",
       "      <td>...</td>\n",
       "      <td>...</td>\n",
       "    </tr>\n",
       "    <tr>\n",
       "      <th>325187</th>\n",
       "      <td>H413</td>\n",
       "      <td>956</td>\n",
       "      <td>59.0</td>\n",
       "    </tr>\n",
       "    <tr>\n",
       "      <th>325188</th>\n",
       "      <td>H413</td>\n",
       "      <td>957</td>\n",
       "      <td>58.0</td>\n",
       "    </tr>\n",
       "    <tr>\n",
       "      <th>325189</th>\n",
       "      <td>H413</td>\n",
       "      <td>958</td>\n",
       "      <td>53.0</td>\n",
       "    </tr>\n",
       "    <tr>\n",
       "      <th>325190</th>\n",
       "      <td>H413</td>\n",
       "      <td>959</td>\n",
       "      <td>38.0</td>\n",
       "    </tr>\n",
       "    <tr>\n",
       "      <th>325191</th>\n",
       "      <td>H413</td>\n",
       "      <td>960</td>\n",
       "      <td>46.0</td>\n",
       "    </tr>\n",
       "  </tbody>\n",
       "</table>\n",
       "<p>3840 rows × 3 columns</p>\n",
       "</div>"
      ],
      "text/plain": [
       "       unique_id   ds     y\n",
       "86796       H196    1  11.8\n",
       "86797       H196    2  11.4\n",
       "86798       H196    3  11.1\n",
       "86799       H196    4  10.8\n",
       "86800       H196    5  10.6\n",
       "...          ...  ...   ...\n",
       "325187      H413  956  59.0\n",
       "325188      H413  957  58.0\n",
       "325189      H413  958  53.0\n",
       "325190      H413  959  38.0\n",
       "325191      H413  960  46.0\n",
       "\n",
       "[3840 rows x 3 columns]"
      ]
     },
     "execution_count": 6,
     "metadata": {},
     "output_type": "execute_result"
    }
   ],
   "source": [
    "# print datos de entrenamiento\n",
    "train"
   ]
  },
  {
   "cell_type": "code",
   "execution_count": null,
   "id": "52a88d89-6b27-45bf-b270-18d72c66e46b",
   "metadata": {},
   "outputs": [],
   "source": []
  },
  {
   "cell_type": "markdown",
   "id": "826f5e3e-a94a-4495-b9c3-8f773ff20fd0",
   "metadata": {},
   "source": [
    "### 1. Train\n",
    "- Entrenar modelo simple.\n",
    "\n",
    "- La idea es saber cómo se ven los H MODELOS ENTRENADOS con direct forecast como estrategia"
   ]
  },
  {
   "cell_type": "code",
   "execution_count": 13,
   "id": "50412035-697b-4957-97e9-8ab55a7b7e80",
   "metadata": {},
   "outputs": [],
   "source": [
    "# definir modelo\n",
    "fcst = MLForecast(\n",
    "    models=lgb.LGBMRegressor(random_state=0, verbosity=-1),\n",
    "    freq=1,\n",
    "    lags=[1,2,3],\n",
    "    num_threads=1,\n",
    ")"
   ]
  },
  {
   "cell_type": "code",
   "execution_count": 14,
   "id": "179b3d2b-2f10-47cf-8bbe-ef4424f65454",
   "metadata": {},
   "outputs": [],
   "source": [
    "# definir horizonte forecast \n",
    "horizon = 5"
   ]
  },
  {
   "cell_type": "code",
   "execution_count": 15,
   "id": "1561d16a-07c1-409a-80d3-14857cf3569e",
   "metadata": {},
   "outputs": [],
   "source": [
    "# entrenar. definir el horizonte y así tener un modelo distinto entrenado para cada horizonte\n",
    "individual_fcst = fcst.fit(train, max_horizon=horizon)"
   ]
  },
  {
   "cell_type": "code",
   "execution_count": 19,
   "id": "7bd91dbc-97a7-4e68-90a7-4bdbf9ad8200",
   "metadata": {},
   "outputs": [
    {
     "data": {
      "text/html": [
       "<div>\n",
       "<style scoped>\n",
       "    .dataframe tbody tr th:only-of-type {\n",
       "        vertical-align: middle;\n",
       "    }\n",
       "\n",
       "    .dataframe tbody tr th {\n",
       "        vertical-align: top;\n",
       "    }\n",
       "\n",
       "    .dataframe thead th {\n",
       "        text-align: right;\n",
       "    }\n",
       "</style>\n",
       "<table border=\"1\" class=\"dataframe\">\n",
       "  <thead>\n",
       "    <tr style=\"text-align: right;\">\n",
       "      <th></th>\n",
       "      <th>unique_id</th>\n",
       "      <th>ds</th>\n",
       "      <th>LGBMRegressor</th>\n",
       "    </tr>\n",
       "  </thead>\n",
       "  <tbody>\n",
       "    <tr>\n",
       "      <th>0</th>\n",
       "      <td>H196</td>\n",
       "      <td>961</td>\n",
       "      <td>16.668257</td>\n",
       "    </tr>\n",
       "    <tr>\n",
       "      <th>1</th>\n",
       "      <td>H196</td>\n",
       "      <td>962</td>\n",
       "      <td>16.539340</td>\n",
       "    </tr>\n",
       "    <tr>\n",
       "      <th>2</th>\n",
       "      <td>H196</td>\n",
       "      <td>963</td>\n",
       "      <td>16.268556</td>\n",
       "    </tr>\n",
       "    <tr>\n",
       "      <th>3</th>\n",
       "      <td>H196</td>\n",
       "      <td>964</td>\n",
       "      <td>16.315177</td>\n",
       "    </tr>\n",
       "    <tr>\n",
       "      <th>4</th>\n",
       "      <td>H196</td>\n",
       "      <td>965</td>\n",
       "      <td>15.763151</td>\n",
       "    </tr>\n",
       "    <tr>\n",
       "      <th>5</th>\n",
       "      <td>H256</td>\n",
       "      <td>961</td>\n",
       "      <td>13.774598</td>\n",
       "    </tr>\n",
       "    <tr>\n",
       "      <th>6</th>\n",
       "      <td>H256</td>\n",
       "      <td>962</td>\n",
       "      <td>13.853981</td>\n",
       "    </tr>\n",
       "    <tr>\n",
       "      <th>7</th>\n",
       "      <td>H256</td>\n",
       "      <td>963</td>\n",
       "      <td>13.998305</td>\n",
       "    </tr>\n",
       "    <tr>\n",
       "      <th>8</th>\n",
       "      <td>H256</td>\n",
       "      <td>964</td>\n",
       "      <td>14.327281</td>\n",
       "    </tr>\n",
       "    <tr>\n",
       "      <th>9</th>\n",
       "      <td>H256</td>\n",
       "      <td>965</td>\n",
       "      <td>14.651842</td>\n",
       "    </tr>\n",
       "    <tr>\n",
       "      <th>10</th>\n",
       "      <td>H381</td>\n",
       "      <td>961</td>\n",
       "      <td>60.596237</td>\n",
       "    </tr>\n",
       "    <tr>\n",
       "      <th>11</th>\n",
       "      <td>H381</td>\n",
       "      <td>962</td>\n",
       "      <td>57.211947</td>\n",
       "    </tr>\n",
       "    <tr>\n",
       "      <th>12</th>\n",
       "      <td>H381</td>\n",
       "      <td>963</td>\n",
       "      <td>45.697303</td>\n",
       "    </tr>\n",
       "    <tr>\n",
       "      <th>13</th>\n",
       "      <td>H381</td>\n",
       "      <td>964</td>\n",
       "      <td>51.156173</td>\n",
       "    </tr>\n",
       "    <tr>\n",
       "      <th>14</th>\n",
       "      <td>H381</td>\n",
       "      <td>965</td>\n",
       "      <td>24.378835</td>\n",
       "    </tr>\n",
       "    <tr>\n",
       "      <th>15</th>\n",
       "      <td>H413</td>\n",
       "      <td>961</td>\n",
       "      <td>40.262799</td>\n",
       "    </tr>\n",
       "    <tr>\n",
       "      <th>16</th>\n",
       "      <td>H413</td>\n",
       "      <td>962</td>\n",
       "      <td>40.569813</td>\n",
       "    </tr>\n",
       "    <tr>\n",
       "      <th>17</th>\n",
       "      <td>H413</td>\n",
       "      <td>963</td>\n",
       "      <td>35.330777</td>\n",
       "    </tr>\n",
       "    <tr>\n",
       "      <th>18</th>\n",
       "      <td>H413</td>\n",
       "      <td>964</td>\n",
       "      <td>34.058908</td>\n",
       "    </tr>\n",
       "    <tr>\n",
       "      <th>19</th>\n",
       "      <td>H413</td>\n",
       "      <td>965</td>\n",
       "      <td>35.349542</td>\n",
       "    </tr>\n",
       "  </tbody>\n",
       "</table>\n",
       "</div>"
      ],
      "text/plain": [
       "   unique_id   ds  LGBMRegressor\n",
       "0       H196  961      16.668257\n",
       "1       H196  962      16.539340\n",
       "2       H196  963      16.268556\n",
       "3       H196  964      16.315177\n",
       "4       H196  965      15.763151\n",
       "5       H256  961      13.774598\n",
       "6       H256  962      13.853981\n",
       "7       H256  963      13.998305\n",
       "8       H256  964      14.327281\n",
       "9       H256  965      14.651842\n",
       "10      H381  961      60.596237\n",
       "11      H381  962      57.211947\n",
       "12      H381  963      45.697303\n",
       "13      H381  964      51.156173\n",
       "14      H381  965      24.378835\n",
       "15      H413  961      40.262799\n",
       "16      H413  962      40.569813\n",
       "17      H413  963      35.330777\n",
       "18      H413  964      34.058908\n",
       "19      H413  965      35.349542"
      ]
     },
     "execution_count": 19,
     "metadata": {},
     "output_type": "execute_result"
    }
   ],
   "source": [
    "# predecir\n",
    "individual_preds = individual_fcst.predict(horizon)\n",
    "individual_preds"
   ]
  },
  {
   "cell_type": "code",
   "execution_count": null,
   "id": "65b52da6-06ed-4fce-8f19-759541d4b7e7",
   "metadata": {},
   "outputs": [],
   "source": []
  },
  {
   "cell_type": "markdown",
   "id": "99927784-d245-45be-8e0a-f5e464c1091f",
   "metadata": {},
   "source": [
    "### 2. Obtener modelos por detras\n",
    "Deberían ser 5 modelos, ya que se definió un forecast con 5 steps a futuro"
   ]
  },
  {
   "cell_type": "code",
   "execution_count": 22,
   "id": "eb54f3fc-3136-4760-9b28-6c89bd048281",
   "metadata": {},
   "outputs": [
    {
     "data": {
      "text/html": [
       "<style>#sk-container-id-2 {color: black;}#sk-container-id-2 pre{padding: 0;}#sk-container-id-2 div.sk-toggleable {background-color: white;}#sk-container-id-2 label.sk-toggleable__label {cursor: pointer;display: block;width: 100%;margin-bottom: 0;padding: 0.3em;box-sizing: border-box;text-align: center;}#sk-container-id-2 label.sk-toggleable__label-arrow:before {content: \"▸\";float: left;margin-right: 0.25em;color: #696969;}#sk-container-id-2 label.sk-toggleable__label-arrow:hover:before {color: black;}#sk-container-id-2 div.sk-estimator:hover label.sk-toggleable__label-arrow:before {color: black;}#sk-container-id-2 div.sk-toggleable__content {max-height: 0;max-width: 0;overflow: hidden;text-align: left;background-color: #f0f8ff;}#sk-container-id-2 div.sk-toggleable__content pre {margin: 0.2em;color: black;border-radius: 0.25em;background-color: #f0f8ff;}#sk-container-id-2 input.sk-toggleable__control:checked~div.sk-toggleable__content {max-height: 200px;max-width: 100%;overflow: auto;}#sk-container-id-2 input.sk-toggleable__control:checked~label.sk-toggleable__label-arrow:before {content: \"▾\";}#sk-container-id-2 div.sk-estimator input.sk-toggleable__control:checked~label.sk-toggleable__label {background-color: #d4ebff;}#sk-container-id-2 div.sk-label input.sk-toggleable__control:checked~label.sk-toggleable__label {background-color: #d4ebff;}#sk-container-id-2 input.sk-hidden--visually {border: 0;clip: rect(1px 1px 1px 1px);clip: rect(1px, 1px, 1px, 1px);height: 1px;margin: -1px;overflow: hidden;padding: 0;position: absolute;width: 1px;}#sk-container-id-2 div.sk-estimator {font-family: monospace;background-color: #f0f8ff;border: 1px dotted black;border-radius: 0.25em;box-sizing: border-box;margin-bottom: 0.5em;}#sk-container-id-2 div.sk-estimator:hover {background-color: #d4ebff;}#sk-container-id-2 div.sk-parallel-item::after {content: \"\";width: 100%;border-bottom: 1px solid gray;flex-grow: 1;}#sk-container-id-2 div.sk-label:hover label.sk-toggleable__label {background-color: #d4ebff;}#sk-container-id-2 div.sk-serial::before {content: \"\";position: absolute;border-left: 1px solid gray;box-sizing: border-box;top: 0;bottom: 0;left: 50%;z-index: 0;}#sk-container-id-2 div.sk-serial {display: flex;flex-direction: column;align-items: center;background-color: white;padding-right: 0.2em;padding-left: 0.2em;position: relative;}#sk-container-id-2 div.sk-item {position: relative;z-index: 1;}#sk-container-id-2 div.sk-parallel {display: flex;align-items: stretch;justify-content: center;background-color: white;position: relative;}#sk-container-id-2 div.sk-item::before, #sk-container-id-2 div.sk-parallel-item::before {content: \"\";position: absolute;border-left: 1px solid gray;box-sizing: border-box;top: 0;bottom: 0;left: 50%;z-index: -1;}#sk-container-id-2 div.sk-parallel-item {display: flex;flex-direction: column;z-index: 1;position: relative;background-color: white;}#sk-container-id-2 div.sk-parallel-item:first-child::after {align-self: flex-end;width: 50%;}#sk-container-id-2 div.sk-parallel-item:last-child::after {align-self: flex-start;width: 50%;}#sk-container-id-2 div.sk-parallel-item:only-child::after {width: 0;}#sk-container-id-2 div.sk-dashed-wrapped {border: 1px dashed gray;margin: 0 0.4em 0.5em 0.4em;box-sizing: border-box;padding-bottom: 0.4em;background-color: white;}#sk-container-id-2 div.sk-label label {font-family: monospace;font-weight: bold;display: inline-block;line-height: 1.2em;}#sk-container-id-2 div.sk-label-container {text-align: center;}#sk-container-id-2 div.sk-container {/* jupyter's `normalize.less` sets `[hidden] { display: none; }` but bootstrap.min.css set `[hidden] { display: none !important; }` so we also need the `!important` here to be able to override the default hidden behavior on the sphinx rendered scikit-learn.org. See: https://github.com/scikit-learn/scikit-learn/issues/21755 */display: inline-block !important;position: relative;}#sk-container-id-2 div.sk-text-repr-fallback {display: none;}</style><div id=\"sk-container-id-2\" class=\"sk-top-container\"><div class=\"sk-text-repr-fallback\"><pre>LGBMRegressor(random_state=0, verbosity=-1)</pre><b>In a Jupyter environment, please rerun this cell to show the HTML representation or trust the notebook. <br />On GitHub, the HTML representation is unable to render, please try loading this page with nbviewer.org.</b></div><div class=\"sk-container\" hidden><div class=\"sk-item\"><div class=\"sk-estimator sk-toggleable\"><input class=\"sk-toggleable__control sk-hidden--visually\" id=\"sk-estimator-id-2\" type=\"checkbox\" checked><label for=\"sk-estimator-id-2\" class=\"sk-toggleable__label sk-toggleable__label-arrow\">LGBMRegressor</label><div class=\"sk-toggleable__content\"><pre>LGBMRegressor(random_state=0, verbosity=-1)</pre></div></div></div></div></div>"
      ],
      "text/plain": [
       "LGBMRegressor(random_state=0, verbosity=-1)"
      ]
     },
     "execution_count": 22,
     "metadata": {},
     "output_type": "execute_result"
    }
   ],
   "source": [
    "model = fcst.models['LGBMRegressor']\n",
    "model"
   ]
  },
  {
   "cell_type": "code",
   "execution_count": 35,
   "id": "d311f4dc-ce65-4d2f-b530-125ddb43a086",
   "metadata": {},
   "outputs": [
    {
     "ename": "NotFittedError",
     "evalue": "Estimator not fitted, call fit before exploiting the model.",
     "output_type": "error",
     "traceback": [
      "\u001b[0;31m---------------------------------------------------------------------------\u001b[0m",
      "\u001b[0;31mNotFittedError\u001b[0m                            Traceback (most recent call last)",
      "Cell \u001b[0;32mIn[35], line 1\u001b[0m\n\u001b[0;32m----> 1\u001b[0m \u001b[43mmodel\u001b[49m\u001b[38;5;241;43m.\u001b[39;49m\u001b[43mpredict\u001b[49m\u001b[43m(\u001b[49m\u001b[43m[\u001b[49m\u001b[43m[\u001b[49m\u001b[38;5;241;43m1\u001b[39;49m\u001b[43m,\u001b[49m\u001b[43m \u001b[49m\u001b[38;5;241;43m2\u001b[39;49m\u001b[43m,\u001b[49m\u001b[43m \u001b[49m\u001b[38;5;241;43m3\u001b[39;49m\u001b[43m]\u001b[49m\u001b[43m]\u001b[49m\u001b[43m)\u001b[49m\n",
      "File \u001b[0;32m/opt/anaconda3/envs/data-science-python-3-10/lib/python3.10/site-packages/lightgbm/sklearn.py:1005\u001b[0m, in \u001b[0;36mLGBMModel.predict\u001b[0;34m(self, X, raw_score, start_iteration, num_iteration, pred_leaf, pred_contrib, validate_features, **kwargs)\u001b[0m\n\u001b[1;32m   1003\u001b[0m \u001b[38;5;250m\u001b[39m\u001b[38;5;124;03m\"\"\"Docstring is set after definition, using a template.\"\"\"\u001b[39;00m\n\u001b[1;32m   1004\u001b[0m \u001b[38;5;28;01mif\u001b[39;00m \u001b[38;5;129;01mnot\u001b[39;00m \u001b[38;5;28mself\u001b[39m\u001b[38;5;241m.\u001b[39m__sklearn_is_fitted__():\n\u001b[0;32m-> 1005\u001b[0m     \u001b[38;5;28;01mraise\u001b[39;00m LGBMNotFittedError(\u001b[38;5;124m\"\u001b[39m\u001b[38;5;124mEstimator not fitted, call fit before exploiting the model.\u001b[39m\u001b[38;5;124m\"\u001b[39m)\n\u001b[1;32m   1006\u001b[0m \u001b[38;5;28;01mif\u001b[39;00m \u001b[38;5;129;01mnot\u001b[39;00m \u001b[38;5;28misinstance\u001b[39m(X, (pd_DataFrame, dt_DataTable)):\n\u001b[1;32m   1007\u001b[0m     X \u001b[38;5;241m=\u001b[39m _LGBMCheckArray(X, accept_sparse\u001b[38;5;241m=\u001b[39m\u001b[38;5;28;01mTrue\u001b[39;00m, force_all_finite\u001b[38;5;241m=\u001b[39m\u001b[38;5;28;01mFalse\u001b[39;00m)\n",
      "\u001b[0;31mNotFittedError\u001b[0m: Estimator not fitted, call fit before exploiting the model."
     ]
    }
   ],
   "source": [
    "model.predict([[1, 2, 3]])"
   ]
  },
  {
   "cell_type": "code",
   "execution_count": null,
   "id": "9cd2ea81-7ffb-4811-9d9d-262f6cab3d52",
   "metadata": {},
   "outputs": [],
   "source": []
  },
  {
   "cell_type": "code",
   "execution_count": null,
   "id": "eb077cf8-e6da-4291-93f0-2b93e538c721",
   "metadata": {},
   "outputs": [],
   "source": []
  },
  {
   "cell_type": "markdown",
   "id": "93e1fb3f-f7ed-45c3-b30b-20f5cb149025",
   "metadata": {},
   "source": [
    "### OBS:\n",
    "- Por lo que se ve, para mejorar los tiempo lo que se hace es no entrenar los modelos en el método fit, sino que cuando se HACE PREDICT AL INDICAR CUANTOS HORIZONTES PREDECIR, AHÍ SE ENTRENA EL MODELO\n",
    "  \n",
    "- Es lo único que me cuadra cuando quiero obtener el estimador y hacer mis propias predicciones no aparescan H MODELOS y me diga que el único modelo que aparece NO SE HALLA ENTRENADO"
   ]
  },
  {
   "cell_type": "code",
   "execution_count": null,
   "id": "db7e248a-8162-472f-b8b1-fd2a9f93c337",
   "metadata": {},
   "outputs": [],
   "source": []
  },
  {
   "cell_type": "code",
   "execution_count": null,
   "id": "25f4406b-c9a8-43ac-891b-e030517d0339",
   "metadata": {},
   "outputs": [],
   "source": []
  },
  {
   "cell_type": "markdown",
   "id": "a2bdd8f1-b39e-4890-8b71-c737946a40b4",
   "metadata": {},
   "source": [
    "### 3. Guardar modelo y ver qué se guarda\n",
    "Ya que aparece el modelo no entrenado"
   ]
  },
  {
   "cell_type": "code",
   "execution_count": 27,
   "id": "6e7dcdb3-7418-44d5-b2c3-31e669068763",
   "metadata": {},
   "outputs": [],
   "source": [
    "# guardar modelo\n",
    "path_model = 'models/fcst_direct/'\n",
    "fcst.save(path_model)"
   ]
  },
  {
   "cell_type": "code",
   "execution_count": 28,
   "id": "de1c0bdf-8f6c-4bc2-a938-a5dbd0c94302",
   "metadata": {},
   "outputs": [
    {
     "data": {
      "text/plain": [
       "{'LGBMRegressor': [LGBMRegressor(random_state=0, verbosity=-1),\n",
       "  LGBMRegressor(random_state=0, verbosity=-1),\n",
       "  LGBMRegressor(random_state=0, verbosity=-1),\n",
       "  LGBMRegressor(random_state=0, verbosity=-1),\n",
       "  LGBMRegressor(random_state=0, verbosity=-1)]}"
      ]
     },
     "execution_count": 28,
     "metadata": {},
     "output_type": "execute_result"
    }
   ],
   "source": [
    "# abrir el pkl models.pkl para ver qué contiene\n",
    "model_loaded = pd.read_pickle(path_model + 'models.pkl')\n",
    "model_loaded"
   ]
  },
  {
   "cell_type": "code",
   "execution_count": 36,
   "id": "5d0c91de-76e2-44e3-a143-2216f7ee146f",
   "metadata": {},
   "outputs": [
    {
     "data": {
      "text/plain": [
       "array([11.91985082])"
      ]
     },
     "execution_count": 36,
     "metadata": {},
     "output_type": "execute_result"
    }
   ],
   "source": [
    "# predecir con el modelo que predice el primer step\n",
    "model_loaded['LGBMRegressor'][0].predict([[1,2,3]])"
   ]
  },
  {
   "cell_type": "code",
   "execution_count": null,
   "id": "cfb88de4-6099-4861-8028-f99ae449aad6",
   "metadata": {},
   "outputs": [],
   "source": []
  },
  {
   "cell_type": "markdown",
   "id": "570d3100-39c1-4fc8-acc9-a876de8b84e0",
   "metadata": {},
   "source": [
    "#### CONCLUSIONES\n",
    "- SE PUEDE VER QUE AL GUARDAR EL MODELO, REALMENTE SI APARECEN LOS 5 MODELOS\n",
    "\n",
    "- **ENTONCES, CUANDO SE QUIERE CONSULTAR EL MODELO SE VE MAL, PERO REALMENTE ESTÁN ENTRENADOS EN EL MÉTODO FIT**"
   ]
  },
  {
   "cell_type": "code",
   "execution_count": 42,
   "id": "8e8e273a-0f8d-47f4-8d85-29d7a97dd2fc",
   "metadata": {},
   "outputs": [
    {
     "data": {
      "text/plain": [
       "{'LGBMRegressor': [LGBMRegressor(random_state=0, verbosity=-1),\n",
       "  LGBMRegressor(random_state=0, verbosity=-1),\n",
       "  LGBMRegressor(random_state=0, verbosity=-1),\n",
       "  LGBMRegressor(random_state=0, verbosity=-1),\n",
       "  LGBMRegressor(random_state=0, verbosity=-1)]}"
      ]
     },
     "execution_count": 42,
     "metadata": {},
     "output_type": "execute_result"
    }
   ],
   "source": [
    "# para consultar el modelo, lo que falta es utilizar el atributo correcto de la clase. LLAMAR \"models_\", AGREGANDO EL GUION \n",
    "# BAJO AL FINAL. AHÍ SI SE RETORNAN TODOS LOS MODELOS\n",
    "fcst.models_"
   ]
  },
  {
   "cell_type": "code",
   "execution_count": 44,
   "id": "ed7fc11e-f534-4e3e-a090-2a7704ba08cd",
   "metadata": {},
   "outputs": [
    {
     "data": {
      "text/plain": [
       "array([11.91985082])"
      ]
     },
     "execution_count": 44,
     "metadata": {},
     "output_type": "execute_result"
    }
   ],
   "source": [
    "fcst.models_['LGBMRegressor'][0].predict([[1,2,3]])"
   ]
  },
  {
   "cell_type": "code",
   "execution_count": null,
   "id": "cb54b8c3-c2cf-43eb-bf3b-4722f9fcf1d3",
   "metadata": {},
   "outputs": [],
   "source": []
  }
 ],
 "metadata": {
  "kernelspec": {
   "display_name": "Python 3 (ipykernel)",
   "language": "python",
   "name": "python3"
  },
  "language_info": {
   "codemirror_mode": {
    "name": "ipython",
    "version": 3
   },
   "file_extension": ".py",
   "mimetype": "text/x-python",
   "name": "python",
   "nbconvert_exporter": "python",
   "pygments_lexer": "ipython3",
   "version": "3.10.14"
  }
 },
 "nbformat": 4,
 "nbformat_minor": 5
}
