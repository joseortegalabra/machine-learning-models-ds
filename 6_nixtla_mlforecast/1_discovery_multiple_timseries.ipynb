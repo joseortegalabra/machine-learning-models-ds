{
 "cells": [
  {
   "cell_type": "markdown",
   "id": "57efd4ef-52ff-4421-a7f3-0dfe84f9a7dd",
   "metadata": {},
   "source": [
    "# Entendiendo modelos\n",
    "Entender cómo funcionan los modelos entrenando una regresión lineal\n",
    "\n",
    "Entender:\n",
    "- Se entrena un modelo por serie o multiple modelos\n",
    "- Si se obtienen los objetos de los modelos, se pueden utilizar sin tener que utilizar nixtla?\n",
    "- Los modelos ven las relaciones entre las series"
   ]
  },
  {
   "cell_type": "code",
   "execution_count": 1,
   "id": "8e7b7c57-b32e-44cd-9438-ba45ef782f75",
   "metadata": {},
   "outputs": [],
   "source": [
    "import random\n",
    "import tempfile\n",
    "from pathlib import Path\n",
    "\n",
    "import pandas as pd\n",
    "from datasetsforecast.m4 import M4\n",
    "from utilsforecast.plotting import plot_series\n",
    "\n",
    "from sklearn.linear_model import LinearRegression\n",
    "from mlforecast import MLForecast"
   ]
  },
  {
   "cell_type": "markdown",
   "id": "a5987946-f10c-446c-8c72-d2e24825444d",
   "metadata": {},
   "source": [
    "### 0. Data"
   ]
  },
  {
   "cell_type": "code",
   "execution_count": 2,
   "id": "50cf750a-3ee4-48ea-a53b-5174bcad13f7",
   "metadata": {},
   "outputs": [],
   "source": [
    "await M4.async_download('data', group='Hourly')\n",
    "df, *_ = M4.load('data', 'Hourly')\n",
    "uids = df['unique_id'].unique()\n",
    "random.seed(0)\n",
    "sample_uids = random.choices(uids, k=4)\n",
    "df = df[df['unique_id'].isin(sample_uids)].reset_index(drop=True)\n",
    "df['ds'] = df['ds'].astype('int64')"
   ]
  },
  {
   "cell_type": "code",
   "execution_count": 3,
   "id": "5eeed026-86af-4e08-8753-2075bf370674",
   "metadata": {},
   "outputs": [
    {
     "data": {
      "text/html": [
       "<div>\n",
       "<style scoped>\n",
       "    .dataframe tbody tr th:only-of-type {\n",
       "        vertical-align: middle;\n",
       "    }\n",
       "\n",
       "    .dataframe tbody tr th {\n",
       "        vertical-align: top;\n",
       "    }\n",
       "\n",
       "    .dataframe thead th {\n",
       "        text-align: right;\n",
       "    }\n",
       "</style>\n",
       "<table border=\"1\" class=\"dataframe\">\n",
       "  <thead>\n",
       "    <tr style=\"text-align: right;\">\n",
       "      <th></th>\n",
       "      <th>unique_id</th>\n",
       "      <th>ds</th>\n",
       "      <th>y</th>\n",
       "    </tr>\n",
       "  </thead>\n",
       "  <tbody>\n",
       "    <tr>\n",
       "      <th>0</th>\n",
       "      <td>H196</td>\n",
       "      <td>1</td>\n",
       "      <td>11.8</td>\n",
       "    </tr>\n",
       "    <tr>\n",
       "      <th>1</th>\n",
       "      <td>H196</td>\n",
       "      <td>2</td>\n",
       "      <td>11.4</td>\n",
       "    </tr>\n",
       "    <tr>\n",
       "      <th>2</th>\n",
       "      <td>H196</td>\n",
       "      <td>3</td>\n",
       "      <td>11.1</td>\n",
       "    </tr>\n",
       "    <tr>\n",
       "      <th>3</th>\n",
       "      <td>H196</td>\n",
       "      <td>4</td>\n",
       "      <td>10.8</td>\n",
       "    </tr>\n",
       "    <tr>\n",
       "      <th>4</th>\n",
       "      <td>H196</td>\n",
       "      <td>5</td>\n",
       "      <td>10.6</td>\n",
       "    </tr>\n",
       "  </tbody>\n",
       "</table>\n",
       "</div>"
      ],
      "text/plain": [
       "  unique_id  ds     y\n",
       "0      H196   1  11.8\n",
       "1      H196   2  11.4\n",
       "2      H196   3  11.1\n",
       "3      H196   4  10.8\n",
       "4      H196   5  10.6"
      ]
     },
     "execution_count": 3,
     "metadata": {},
     "output_type": "execute_result"
    }
   ],
   "source": [
    "df.head()"
   ]
  },
  {
   "cell_type": "code",
   "execution_count": null,
   "id": "f5f99998-084b-4724-a566-5c0725be8bc9",
   "metadata": {},
   "outputs": [],
   "source": []
  },
  {
   "cell_type": "markdown",
   "id": "706f5331-aa4b-4af2-9afc-acca5bff2405",
   "metadata": {},
   "source": [
    "### 1. Los modelos ven las relaciones entre las series?\n",
    "Entrenar el mismo código con un dataframe de una serie y un dataframe de 4 series (la serie de interés y otras 3 más).\n",
    "Si los resultados son los mismos es porque las ve completamente independiente"
   ]
  },
  {
   "cell_type": "markdown",
   "id": "74cd0cb7-764a-4f00-8eee-3f40b1080350",
   "metadata": {},
   "source": [
    "#### 1.1 entrenar modelo que ve las 4 series"
   ]
  },
  {
   "cell_type": "code",
   "execution_count": 4,
   "id": "bb2189f6-685d-45ff-8267-fceb355a450d",
   "metadata": {},
   "outputs": [],
   "source": [
    "# obtener dataset con 4 series\n",
    "df_4series = df.copy()"
   ]
  },
  {
   "cell_type": "code",
   "execution_count": 5,
   "id": "efbb8c92-e95e-462a-a6b9-2c23f8d8439e",
   "metadata": {},
   "outputs": [],
   "source": [
    "# crear modelo que ve 4 series\n",
    "fcst_4series = MLForecast(\n",
    "    models=[LinearRegression()],\n",
    "    freq=1,\n",
    "    lags=[1, 2, 3],\n",
    ")"
   ]
  },
  {
   "cell_type": "code",
   "execution_count": 6,
   "id": "305eb2b0-7998-4a08-8a98-b14a87721ee8",
   "metadata": {},
   "outputs": [
    {
     "data": {
      "text/plain": [
       "MLForecast(models=[LinearRegression], freq=1, lag_features=['lag1', 'lag2', 'lag3'], date_features=[], num_threads=1)"
      ]
     },
     "execution_count": 6,
     "metadata": {},
     "output_type": "execute_result"
    }
   ],
   "source": [
    "fcst_4series.fit(df_4series)"
   ]
  },
  {
   "cell_type": "code",
   "execution_count": 7,
   "id": "0e5b0b50-69b5-4886-aceb-0b7cdd8332e8",
   "metadata": {},
   "outputs": [
    {
     "data": {
      "text/html": [
       "<div>\n",
       "<style scoped>\n",
       "    .dataframe tbody tr th:only-of-type {\n",
       "        vertical-align: middle;\n",
       "    }\n",
       "\n",
       "    .dataframe tbody tr th {\n",
       "        vertical-align: top;\n",
       "    }\n",
       "\n",
       "    .dataframe thead th {\n",
       "        text-align: right;\n",
       "    }\n",
       "</style>\n",
       "<table border=\"1\" class=\"dataframe\">\n",
       "  <thead>\n",
       "    <tr style=\"text-align: right;\">\n",
       "      <th></th>\n",
       "      <th>unique_id</th>\n",
       "      <th>ds</th>\n",
       "      <th>y</th>\n",
       "    </tr>\n",
       "  </thead>\n",
       "  <tbody>\n",
       "    <tr>\n",
       "      <th>1007</th>\n",
       "      <td>H196</td>\n",
       "      <td>1008</td>\n",
       "      <td>16.8</td>\n",
       "    </tr>\n",
       "    <tr>\n",
       "      <th>2015</th>\n",
       "      <td>H256</td>\n",
       "      <td>1008</td>\n",
       "      <td>13.4</td>\n",
       "    </tr>\n",
       "    <tr>\n",
       "      <th>3023</th>\n",
       "      <td>H381</td>\n",
       "      <td>1008</td>\n",
       "      <td>207.0</td>\n",
       "    </tr>\n",
       "    <tr>\n",
       "      <th>4031</th>\n",
       "      <td>H413</td>\n",
       "      <td>1008</td>\n",
       "      <td>34.0</td>\n",
       "    </tr>\n",
       "  </tbody>\n",
       "</table>\n",
       "</div>"
      ],
      "text/plain": [
       "     unique_id    ds      y\n",
       "1007      H196  1008   16.8\n",
       "2015      H256  1008   13.4\n",
       "3023      H381  1008  207.0\n",
       "4031      H413  1008   34.0"
      ]
     },
     "execution_count": 7,
     "metadata": {},
     "output_type": "execute_result"
    }
   ],
   "source": [
    "# obtener el ultimo valor real\n",
    "df_4series.groupby('unique_id').tail(1)"
   ]
  },
  {
   "cell_type": "code",
   "execution_count": 8,
   "id": "b1cba52b-e0d0-4f3d-824d-729174aac456",
   "metadata": {},
   "outputs": [
    {
     "data": {
      "text/html": [
       "<div>\n",
       "<style scoped>\n",
       "    .dataframe tbody tr th:only-of-type {\n",
       "        vertical-align: middle;\n",
       "    }\n",
       "\n",
       "    .dataframe tbody tr th {\n",
       "        vertical-align: top;\n",
       "    }\n",
       "\n",
       "    .dataframe thead th {\n",
       "        text-align: right;\n",
       "    }\n",
       "</style>\n",
       "<table border=\"1\" class=\"dataframe\">\n",
       "  <thead>\n",
       "    <tr style=\"text-align: right;\">\n",
       "      <th></th>\n",
       "      <th>unique_id</th>\n",
       "      <th>ds</th>\n",
       "      <th>LinearRegression</th>\n",
       "    </tr>\n",
       "  </thead>\n",
       "  <tbody>\n",
       "    <tr>\n",
       "      <th>0</th>\n",
       "      <td>H196</td>\n",
       "      <td>1009</td>\n",
       "      <td>18.830526</td>\n",
       "    </tr>\n",
       "    <tr>\n",
       "      <th>1</th>\n",
       "      <td>H256</td>\n",
       "      <td>1009</td>\n",
       "      <td>15.671004</td>\n",
       "    </tr>\n",
       "    <tr>\n",
       "      <th>2</th>\n",
       "      <td>H381</td>\n",
       "      <td>1009</td>\n",
       "      <td>209.659443</td>\n",
       "    </tr>\n",
       "    <tr>\n",
       "      <th>3</th>\n",
       "      <td>H413</td>\n",
       "      <td>1009</td>\n",
       "      <td>32.658524</td>\n",
       "    </tr>\n",
       "  </tbody>\n",
       "</table>\n",
       "</div>"
      ],
      "text/plain": [
       "  unique_id    ds  LinearRegression\n",
       "0      H196  1009         18.830526\n",
       "1      H256  1009         15.671004\n",
       "2      H381  1009        209.659443\n",
       "3      H413  1009         32.658524"
      ]
     },
     "execution_count": 8,
     "metadata": {},
     "output_type": "execute_result"
    }
   ],
   "source": [
    "# fcst un horizonte de tiempo\n",
    "fcst_4series.predict(1)"
   ]
  },
  {
   "cell_type": "code",
   "execution_count": 9,
   "id": "7c80df60-3b35-4c8b-9852-a9eb7ab24871",
   "metadata": {},
   "outputs": [
    {
     "data": {
      "text/html": [
       "<div>\n",
       "<style scoped>\n",
       "    .dataframe tbody tr th:only-of-type {\n",
       "        vertical-align: middle;\n",
       "    }\n",
       "\n",
       "    .dataframe tbody tr th {\n",
       "        vertical-align: top;\n",
       "    }\n",
       "\n",
       "    .dataframe thead th {\n",
       "        text-align: right;\n",
       "    }\n",
       "</style>\n",
       "<table border=\"1\" class=\"dataframe\">\n",
       "  <thead>\n",
       "    <tr style=\"text-align: right;\">\n",
       "      <th></th>\n",
       "      <th>unique_id</th>\n",
       "      <th>ds</th>\n",
       "      <th>y</th>\n",
       "      <th>lag1</th>\n",
       "      <th>lag2</th>\n",
       "      <th>lag3</th>\n",
       "    </tr>\n",
       "  </thead>\n",
       "  <tbody>\n",
       "    <tr>\n",
       "      <th>1007</th>\n",
       "      <td>H196</td>\n",
       "      <td>1008</td>\n",
       "      <td>16.8</td>\n",
       "      <td>17.3</td>\n",
       "      <td>17.8</td>\n",
       "      <td>18.6</td>\n",
       "    </tr>\n",
       "    <tr>\n",
       "      <th>2015</th>\n",
       "      <td>H256</td>\n",
       "      <td>1008</td>\n",
       "      <td>13.4</td>\n",
       "      <td>13.8</td>\n",
       "      <td>14.3</td>\n",
       "      <td>14.8</td>\n",
       "    </tr>\n",
       "    <tr>\n",
       "      <th>3023</th>\n",
       "      <td>H381</td>\n",
       "      <td>1008</td>\n",
       "      <td>207.0</td>\n",
       "      <td>169.0</td>\n",
       "      <td>148.0</td>\n",
       "      <td>176.0</td>\n",
       "    </tr>\n",
       "    <tr>\n",
       "      <th>4031</th>\n",
       "      <td>H413</td>\n",
       "      <td>1008</td>\n",
       "      <td>34.0</td>\n",
       "      <td>41.0</td>\n",
       "      <td>47.0</td>\n",
       "      <td>88.0</td>\n",
       "    </tr>\n",
       "  </tbody>\n",
       "</table>\n",
       "</div>"
      ],
      "text/plain": [
       "     unique_id    ds      y   lag1   lag2   lag3\n",
       "1007      H196  1008   16.8   17.3   17.8   18.6\n",
       "2015      H256  1008   13.4   13.8   14.3   14.8\n",
       "3023      H381  1008  207.0  169.0  148.0  176.0\n",
       "4031      H413  1008   34.0   41.0   47.0   88.0"
      ]
     },
     "execution_count": 9,
     "metadata": {},
     "output_type": "execute_result"
    }
   ],
   "source": [
    "# obtener la ultima instancia X con los datos transformados. De cada serie\n",
    "fcst_4series.preprocess(df_4series).groupby('unique_id').tail(1)"
   ]
  },
  {
   "cell_type": "code",
   "execution_count": null,
   "id": "fb29f6c3-eca3-4aa4-a9bf-ee09b644c5c7",
   "metadata": {},
   "outputs": [],
   "source": []
  },
  {
   "cell_type": "code",
   "execution_count": null,
   "id": "7240080d-c4b6-4af8-9c7f-5883c9f19217",
   "metadata": {},
   "outputs": [],
   "source": []
  },
  {
   "cell_type": "markdown",
   "id": "e2e8e69c-d0c0-4832-bdb9-c4d5f853545a",
   "metadata": {},
   "source": [
    "#### 1.2 entrenar modelo que ve solo 1 serie"
   ]
  },
  {
   "cell_type": "code",
   "execution_count": 10,
   "id": "c7d1a38c-91c4-4f3e-92d6-297c3c5f17d8",
   "metadata": {},
   "outputs": [
    {
     "data": {
      "text/html": [
       "<div>\n",
       "<style scoped>\n",
       "    .dataframe tbody tr th:only-of-type {\n",
       "        vertical-align: middle;\n",
       "    }\n",
       "\n",
       "    .dataframe tbody tr th {\n",
       "        vertical-align: top;\n",
       "    }\n",
       "\n",
       "    .dataframe thead th {\n",
       "        text-align: right;\n",
       "    }\n",
       "</style>\n",
       "<table border=\"1\" class=\"dataframe\">\n",
       "  <thead>\n",
       "    <tr style=\"text-align: right;\">\n",
       "      <th></th>\n",
       "      <th>unique_id</th>\n",
       "      <th>ds</th>\n",
       "      <th>y</th>\n",
       "    </tr>\n",
       "  </thead>\n",
       "  <tbody>\n",
       "    <tr>\n",
       "      <th>0</th>\n",
       "      <td>H196</td>\n",
       "      <td>1</td>\n",
       "      <td>11.8</td>\n",
       "    </tr>\n",
       "    <tr>\n",
       "      <th>1</th>\n",
       "      <td>H196</td>\n",
       "      <td>2</td>\n",
       "      <td>11.4</td>\n",
       "    </tr>\n",
       "    <tr>\n",
       "      <th>2</th>\n",
       "      <td>H196</td>\n",
       "      <td>3</td>\n",
       "      <td>11.1</td>\n",
       "    </tr>\n",
       "  </tbody>\n",
       "</table>\n",
       "</div>"
      ],
      "text/plain": [
       "  unique_id  ds     y\n",
       "0      H196   1  11.8\n",
       "1      H196   2  11.4\n",
       "2      H196   3  11.1"
      ]
     },
     "execution_count": 10,
     "metadata": {},
     "output_type": "execute_result"
    }
   ],
   "source": [
    "# crear df que tiene solo una serie\n",
    "df_1series = df[df['unique_id'] == 'H196']\n",
    "df_1series.head(3)"
   ]
  },
  {
   "cell_type": "code",
   "execution_count": 11,
   "id": "fee25cd5-7ce1-445a-b044-c26f64eab275",
   "metadata": {},
   "outputs": [
    {
     "data": {
      "text/plain": [
       "MLForecast(models=[LinearRegression], freq=1, lag_features=['lag1', 'lag2', 'lag3'], date_features=[], num_threads=1)"
      ]
     },
     "execution_count": 11,
     "metadata": {},
     "output_type": "execute_result"
    }
   ],
   "source": [
    "# crear modelo - misma arquitectura que modelo que ve 4 series\n",
    "fcst_1series = MLForecast(\n",
    "    models=[LinearRegression()],\n",
    "    freq=1,\n",
    "    lags=[1, 2, 3],\n",
    ")\n",
    "fcst_1series"
   ]
  },
  {
   "cell_type": "code",
   "execution_count": 12,
   "id": "60e51a06-65f9-40bf-b6e9-c4cde752813f",
   "metadata": {},
   "outputs": [
    {
     "data": {
      "text/plain": [
       "MLForecast(models=[LinearRegression], freq=1, lag_features=['lag1', 'lag2', 'lag3'], date_features=[], num_threads=1)"
      ]
     },
     "execution_count": 12,
     "metadata": {},
     "output_type": "execute_result"
    }
   ],
   "source": [
    "fcst_1series.fit(df_1series)"
   ]
  },
  {
   "cell_type": "code",
   "execution_count": 13,
   "id": "279d767a-4adf-4784-9575-2263dbb39c7f",
   "metadata": {},
   "outputs": [
    {
     "data": {
      "text/html": [
       "<div>\n",
       "<style scoped>\n",
       "    .dataframe tbody tr th:only-of-type {\n",
       "        vertical-align: middle;\n",
       "    }\n",
       "\n",
       "    .dataframe tbody tr th {\n",
       "        vertical-align: top;\n",
       "    }\n",
       "\n",
       "    .dataframe thead th {\n",
       "        text-align: right;\n",
       "    }\n",
       "</style>\n",
       "<table border=\"1\" class=\"dataframe\">\n",
       "  <thead>\n",
       "    <tr style=\"text-align: right;\">\n",
       "      <th></th>\n",
       "      <th>unique_id</th>\n",
       "      <th>ds</th>\n",
       "      <th>y</th>\n",
       "    </tr>\n",
       "  </thead>\n",
       "  <tbody>\n",
       "    <tr>\n",
       "      <th>1007</th>\n",
       "      <td>H196</td>\n",
       "      <td>1008</td>\n",
       "      <td>16.8</td>\n",
       "    </tr>\n",
       "  </tbody>\n",
       "</table>\n",
       "</div>"
      ],
      "text/plain": [
       "     unique_id    ds     y\n",
       "1007      H196  1008  16.8"
      ]
     },
     "execution_count": 13,
     "metadata": {},
     "output_type": "execute_result"
    }
   ],
   "source": [
    "# obtener el ultimo valor real\n",
    "df_1series.groupby('unique_id').tail(1)"
   ]
  },
  {
   "cell_type": "code",
   "execution_count": 14,
   "id": "9eefd9c0-c627-464d-9bf5-df1d69fc1a8d",
   "metadata": {},
   "outputs": [
    {
     "data": {
      "text/html": [
       "<div>\n",
       "<style scoped>\n",
       "    .dataframe tbody tr th:only-of-type {\n",
       "        vertical-align: middle;\n",
       "    }\n",
       "\n",
       "    .dataframe tbody tr th {\n",
       "        vertical-align: top;\n",
       "    }\n",
       "\n",
       "    .dataframe thead th {\n",
       "        text-align: right;\n",
       "    }\n",
       "</style>\n",
       "<table border=\"1\" class=\"dataframe\">\n",
       "  <thead>\n",
       "    <tr style=\"text-align: right;\">\n",
       "      <th></th>\n",
       "      <th>unique_id</th>\n",
       "      <th>ds</th>\n",
       "      <th>LinearRegression</th>\n",
       "    </tr>\n",
       "  </thead>\n",
       "  <tbody>\n",
       "    <tr>\n",
       "      <th>0</th>\n",
       "      <td>H196</td>\n",
       "      <td>1009</td>\n",
       "      <td>16.36245</td>\n",
       "    </tr>\n",
       "  </tbody>\n",
       "</table>\n",
       "</div>"
      ],
      "text/plain": [
       "  unique_id    ds  LinearRegression\n",
       "0      H196  1009          16.36245"
      ]
     },
     "execution_count": 14,
     "metadata": {},
     "output_type": "execute_result"
    }
   ],
   "source": [
    "# fcst un horizonte de tiempo\n",
    "fcst_1series.predict(1)"
   ]
  },
  {
   "cell_type": "code",
   "execution_count": 15,
   "id": "2a4ba006-b796-4ac4-83d6-d95e62ea2dd5",
   "metadata": {},
   "outputs": [
    {
     "data": {
      "text/html": [
       "<div>\n",
       "<style scoped>\n",
       "    .dataframe tbody tr th:only-of-type {\n",
       "        vertical-align: middle;\n",
       "    }\n",
       "\n",
       "    .dataframe tbody tr th {\n",
       "        vertical-align: top;\n",
       "    }\n",
       "\n",
       "    .dataframe thead th {\n",
       "        text-align: right;\n",
       "    }\n",
       "</style>\n",
       "<table border=\"1\" class=\"dataframe\">\n",
       "  <thead>\n",
       "    <tr style=\"text-align: right;\">\n",
       "      <th></th>\n",
       "      <th>unique_id</th>\n",
       "      <th>ds</th>\n",
       "      <th>y</th>\n",
       "      <th>lag1</th>\n",
       "      <th>lag2</th>\n",
       "      <th>lag3</th>\n",
       "    </tr>\n",
       "  </thead>\n",
       "  <tbody>\n",
       "    <tr>\n",
       "      <th>1007</th>\n",
       "      <td>H196</td>\n",
       "      <td>1008</td>\n",
       "      <td>16.8</td>\n",
       "      <td>17.3</td>\n",
       "      <td>17.8</td>\n",
       "      <td>18.6</td>\n",
       "    </tr>\n",
       "  </tbody>\n",
       "</table>\n",
       "</div>"
      ],
      "text/plain": [
       "     unique_id    ds     y  lag1  lag2  lag3\n",
       "1007      H196  1008  16.8  17.3  17.8  18.6"
      ]
     },
     "execution_count": 15,
     "metadata": {},
     "output_type": "execute_result"
    }
   ],
   "source": [
    "# obtener la ultima instancia con los datos transformados\n",
    "fcst_1series.preprocess(df_1series).groupby('unique_id').tail(1)"
   ]
  },
  {
   "cell_type": "markdown",
   "id": "aff4c0d9-db1b-467f-94ff-6a03fe9c4ab1",
   "metadata": {},
   "source": [
    "#### 1.3 Comparar predicciones para una serie de un modelo que ve una serie vs modelo que ve 4 series\n",
    "- Si el modelo ve las series de forma independiente, entonces debería exactamente lo mismo.\n",
    "\n",
    "- Si el modelo considera las relaciones entre las series debería dar distinto. PERO, del notebook siguiente se sabe que el modelo necesita alguna feature input (lag, transformaciones, etc) porque las variables \"index, timestamp, y\" No se utilizan para entrenar\n",
    "\n",
    "- Como aquí dan valores distintos las predicciones, entonces, se refuerza la idea de que es un ÚNICO modelo entrenado PASANDO TODAS las series de tiempo SIN IDENTIFICADOR y que el modelo sea lo suficientemente complejo (ensembles) para **identificar patrones en diferentes series de tiempo en los datos que se pasan todas juntas como diferentes observaciones y prediga.** -> Por lo tanto si se pasa 1 serie vs pasar 4 series (la misma serie más otras 3 series) LOS RESULTADOS VAN A SER SIEMPRE DISTINTOS"
   ]
  },
  {
   "cell_type": "code",
   "execution_count": 16,
   "id": "c78ab2f5-74ed-4dc9-8ea4-a9a3dab9f547",
   "metadata": {},
   "outputs": [
    {
     "data": {
      "text/html": [
       "<div>\n",
       "<style scoped>\n",
       "    .dataframe tbody tr th:only-of-type {\n",
       "        vertical-align: middle;\n",
       "    }\n",
       "\n",
       "    .dataframe tbody tr th {\n",
       "        vertical-align: top;\n",
       "    }\n",
       "\n",
       "    .dataframe thead th {\n",
       "        text-align: right;\n",
       "    }\n",
       "</style>\n",
       "<table border=\"1\" class=\"dataframe\">\n",
       "  <thead>\n",
       "    <tr style=\"text-align: right;\">\n",
       "      <th></th>\n",
       "      <th>unique_id</th>\n",
       "      <th>ds</th>\n",
       "      <th>y</th>\n",
       "    </tr>\n",
       "  </thead>\n",
       "  <tbody>\n",
       "    <tr>\n",
       "      <th>1007</th>\n",
       "      <td>H196</td>\n",
       "      <td>1008</td>\n",
       "      <td>16.8</td>\n",
       "    </tr>\n",
       "  </tbody>\n",
       "</table>\n",
       "</div>"
      ],
      "text/plain": [
       "     unique_id    ds     y\n",
       "1007      H196  1008  16.8"
      ]
     },
     "execution_count": 16,
     "metadata": {},
     "output_type": "execute_result"
    }
   ],
   "source": [
    "# ver última observación serie de interés\n",
    "df_1series.groupby('unique_id').tail(1)"
   ]
  },
  {
   "cell_type": "code",
   "execution_count": 17,
   "id": "3936956a-f758-4d97-a688-3ca5a9e3f668",
   "metadata": {},
   "outputs": [
    {
     "data": {
      "text/html": [
       "<div>\n",
       "<style scoped>\n",
       "    .dataframe tbody tr th:only-of-type {\n",
       "        vertical-align: middle;\n",
       "    }\n",
       "\n",
       "    .dataframe tbody tr th {\n",
       "        vertical-align: top;\n",
       "    }\n",
       "\n",
       "    .dataframe thead th {\n",
       "        text-align: right;\n",
       "    }\n",
       "</style>\n",
       "<table border=\"1\" class=\"dataframe\">\n",
       "  <thead>\n",
       "    <tr style=\"text-align: right;\">\n",
       "      <th></th>\n",
       "      <th>unique_id</th>\n",
       "      <th>ds</th>\n",
       "      <th>LinearRegression</th>\n",
       "    </tr>\n",
       "  </thead>\n",
       "  <tbody>\n",
       "    <tr>\n",
       "      <th>0</th>\n",
       "      <td>H196</td>\n",
       "      <td>1009</td>\n",
       "      <td>16.36245</td>\n",
       "    </tr>\n",
       "  </tbody>\n",
       "</table>\n",
       "</div>"
      ],
      "text/plain": [
       "  unique_id    ds  LinearRegression\n",
       "0      H196  1009          16.36245"
      ]
     },
     "execution_count": 17,
     "metadata": {},
     "output_type": "execute_result"
    }
   ],
   "source": [
    "# predicción de modelo que ve solo una serie\n",
    "fcst_1series.predict(1)"
   ]
  },
  {
   "cell_type": "code",
   "execution_count": 18,
   "id": "1abafe73-d5f4-4cb1-bbe9-8627d7f9ac0f",
   "metadata": {},
   "outputs": [
    {
     "data": {
      "text/html": [
       "<div>\n",
       "<style scoped>\n",
       "    .dataframe tbody tr th:only-of-type {\n",
       "        vertical-align: middle;\n",
       "    }\n",
       "\n",
       "    .dataframe tbody tr th {\n",
       "        vertical-align: top;\n",
       "    }\n",
       "\n",
       "    .dataframe thead th {\n",
       "        text-align: right;\n",
       "    }\n",
       "</style>\n",
       "<table border=\"1\" class=\"dataframe\">\n",
       "  <thead>\n",
       "    <tr style=\"text-align: right;\">\n",
       "      <th></th>\n",
       "      <th>unique_id</th>\n",
       "      <th>ds</th>\n",
       "      <th>LinearRegression</th>\n",
       "    </tr>\n",
       "  </thead>\n",
       "  <tbody>\n",
       "    <tr>\n",
       "      <th>0</th>\n",
       "      <td>H196</td>\n",
       "      <td>1009</td>\n",
       "      <td>18.830526</td>\n",
       "    </tr>\n",
       "    <tr>\n",
       "      <th>1</th>\n",
       "      <td>H256</td>\n",
       "      <td>1009</td>\n",
       "      <td>15.671004</td>\n",
       "    </tr>\n",
       "    <tr>\n",
       "      <th>2</th>\n",
       "      <td>H381</td>\n",
       "      <td>1009</td>\n",
       "      <td>209.659443</td>\n",
       "    </tr>\n",
       "    <tr>\n",
       "      <th>3</th>\n",
       "      <td>H413</td>\n",
       "      <td>1009</td>\n",
       "      <td>32.658524</td>\n",
       "    </tr>\n",
       "  </tbody>\n",
       "</table>\n",
       "</div>"
      ],
      "text/plain": [
       "  unique_id    ds  LinearRegression\n",
       "0      H196  1009         18.830526\n",
       "1      H256  1009         15.671004\n",
       "2      H381  1009        209.659443\n",
       "3      H413  1009         32.658524"
      ]
     },
     "execution_count": 18,
     "metadata": {},
     "output_type": "execute_result"
    }
   ],
   "source": [
    "# predicción de modelo que ve 4 series (serie de interés más otras 3)\n",
    "fcst_4series.predict(1)"
   ]
  },
  {
   "cell_type": "code",
   "execution_count": null,
   "id": "d7e0c75a-986d-4985-a008-e9facf849f6c",
   "metadata": {},
   "outputs": [],
   "source": []
  },
  {
   "cell_type": "code",
   "execution_count": null,
   "id": "da1b5d7c-a666-4ce4-8969-437ad89e46b7",
   "metadata": {},
   "outputs": [],
   "source": []
  },
  {
   "cell_type": "code",
   "execution_count": null,
   "id": "bf4bd007-a902-4688-b5c2-1e5f8ef519de",
   "metadata": {},
   "outputs": [],
   "source": []
  },
  {
   "cell_type": "code",
   "execution_count": null,
   "id": "ca637ea2-a9ef-40e8-adbf-812b2c32b5b2",
   "metadata": {},
   "outputs": [],
   "source": []
  },
  {
   "cell_type": "code",
   "execution_count": null,
   "id": "66341941-4a6b-4e18-af78-bc51de682c16",
   "metadata": {},
   "outputs": [],
   "source": []
  },
  {
   "cell_type": "code",
   "execution_count": null,
   "id": "c2352cae-e0c4-4312-a032-cffeb448a795",
   "metadata": {},
   "outputs": [],
   "source": []
  },
  {
   "cell_type": "code",
   "execution_count": null,
   "id": "99e153cb-a857-45b5-bfdd-5effb5aa1f4d",
   "metadata": {},
   "outputs": [],
   "source": []
  },
  {
   "cell_type": "code",
   "execution_count": null,
   "id": "6cd0adcd-1859-4982-a00d-c274da255d03",
   "metadata": {},
   "outputs": [],
   "source": []
  }
 ],
 "metadata": {
  "kernelspec": {
   "display_name": "Python 3 (ipykernel)",
   "language": "python",
   "name": "python3"
  },
  "language_info": {
   "codemirror_mode": {
    "name": "ipython",
    "version": 3
   },
   "file_extension": ".py",
   "mimetype": "text/x-python",
   "name": "python",
   "nbconvert_exporter": "python",
   "pygments_lexer": "ipython3",
   "version": "3.10.14"
  }
 },
 "nbformat": 4,
 "nbformat_minor": 5
}
