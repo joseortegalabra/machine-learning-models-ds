{
 "cells": [
  {
   "cell_type": "markdown",
   "id": "add95f89-e5a6-4aec-ba40-6b5b856e54b5",
   "metadata": {},
   "source": [
    "# Recursive multi-step forecasting\n",
    "\n",
    "Source: https://skforecast.org/0.13.0/user_guides/autoregresive-forecaster"
   ]
  },
  {
   "cell_type": "code",
   "execution_count": 1,
   "id": "c1d3abc1-257b-4530-9d54-609d27a5c11f",
   "metadata": {},
   "outputs": [],
   "source": [
    "# !pip install skforecast"
   ]
  },
  {
   "cell_type": "code",
   "execution_count": 2,
   "id": "86247bff-e2f0-49eb-b540-2c1cd027bff4",
   "metadata": {},
   "outputs": [],
   "source": [
    "# Libraries\n",
    "# ==============================================================================\n",
    "import pandas as pd\n",
    "import matplotlib.pyplot as plt\n",
    "from skforecast.ForecasterAutoreg import ForecasterAutoreg\n",
    "from skforecast.datasets import fetch_dataset\n",
    "from lightgbm import LGBMRegressor\n",
    "from sklearn.metrics import mean_squared_error"
   ]
  },
  {
   "cell_type": "code",
   "execution_count": null,
   "id": "545c0674-9a7f-4d28-bf3a-2abf49dc8414",
   "metadata": {},
   "outputs": [],
   "source": []
  },
  {
   "cell_type": "markdown",
   "id": "e65485dd-8bb6-4777-9dd5-3c0380da9a62",
   "metadata": {},
   "source": [
    "### 0. Data"
   ]
  },
  {
   "cell_type": "code",
   "execution_count": 3,
   "id": "1b6617b9-0271-4572-b665-c4dc4e43b5cd",
   "metadata": {},
   "outputs": [
    {
     "name": "stdout",
     "output_type": "stream",
     "text": [
      "h2o\n",
      "---\n",
      "Monthly expenditure ($AUD) on corticosteroid drugs that the Australian health\n",
      "system had between 1991 and 2008.\n",
      "Hyndman R (2023). fpp3: Data for Forecasting: Principles and Practice(3rd\n",
      "Edition). http://pkg.robjhyndman.com/fpp3package/,https://github.com/robjhyndman\n",
      "/fpp3package, http://OTexts.com/fpp3.\n",
      "Shape of the dataset: (204, 2)\n"
     ]
    }
   ],
   "source": [
    "# Download data\n",
    "# ==============================================================================\n",
    "data = fetch_dataset(\n",
    "    name=\"h2o\", raw=True, kwargs_read_csv={\"names\": [\"y\", \"datetime\"], \"header\": 0}\n",
    ")"
   ]
  },
  {
   "cell_type": "code",
   "execution_count": 4,
   "id": "d024b15d-ed01-41ee-8708-bf0bcc246c9c",
   "metadata": {},
   "outputs": [
    {
     "data": {
      "text/html": [
       "<div>\n",
       "<style scoped>\n",
       "    .dataframe tbody tr th:only-of-type {\n",
       "        vertical-align: middle;\n",
       "    }\n",
       "\n",
       "    .dataframe tbody tr th {\n",
       "        vertical-align: top;\n",
       "    }\n",
       "\n",
       "    .dataframe thead th {\n",
       "        text-align: right;\n",
       "    }\n",
       "</style>\n",
       "<table border=\"1\" class=\"dataframe\">\n",
       "  <thead>\n",
       "    <tr style=\"text-align: right;\">\n",
       "      <th></th>\n",
       "      <th>y</th>\n",
       "      <th>datetime</th>\n",
       "    </tr>\n",
       "  </thead>\n",
       "  <tbody>\n",
       "    <tr>\n",
       "      <th>0</th>\n",
       "      <td>0.429795</td>\n",
       "      <td>1991-07-01</td>\n",
       "    </tr>\n",
       "    <tr>\n",
       "      <th>1</th>\n",
       "      <td>0.400906</td>\n",
       "      <td>1991-08-01</td>\n",
       "    </tr>\n",
       "    <tr>\n",
       "      <th>2</th>\n",
       "      <td>0.432159</td>\n",
       "      <td>1991-09-01</td>\n",
       "    </tr>\n",
       "    <tr>\n",
       "      <th>3</th>\n",
       "      <td>0.492543</td>\n",
       "      <td>1991-10-01</td>\n",
       "    </tr>\n",
       "    <tr>\n",
       "      <th>4</th>\n",
       "      <td>0.502369</td>\n",
       "      <td>1991-11-01</td>\n",
       "    </tr>\n",
       "    <tr>\n",
       "      <th>...</th>\n",
       "      <td>...</td>\n",
       "      <td>...</td>\n",
       "    </tr>\n",
       "    <tr>\n",
       "      <th>199</th>\n",
       "      <td>0.761822</td>\n",
       "      <td>2008-02-01</td>\n",
       "    </tr>\n",
       "    <tr>\n",
       "      <th>200</th>\n",
       "      <td>0.649435</td>\n",
       "      <td>2008-03-01</td>\n",
       "    </tr>\n",
       "    <tr>\n",
       "      <th>201</th>\n",
       "      <td>0.827887</td>\n",
       "      <td>2008-04-01</td>\n",
       "    </tr>\n",
       "    <tr>\n",
       "      <th>202</th>\n",
       "      <td>0.816255</td>\n",
       "      <td>2008-05-01</td>\n",
       "    </tr>\n",
       "    <tr>\n",
       "      <th>203</th>\n",
       "      <td>0.762137</td>\n",
       "      <td>2008-06-01</td>\n",
       "    </tr>\n",
       "  </tbody>\n",
       "</table>\n",
       "<p>204 rows × 2 columns</p>\n",
       "</div>"
      ],
      "text/plain": [
       "            y    datetime\n",
       "0    0.429795  1991-07-01\n",
       "1    0.400906  1991-08-01\n",
       "2    0.432159  1991-09-01\n",
       "3    0.492543  1991-10-01\n",
       "4    0.502369  1991-11-01\n",
       "..        ...         ...\n",
       "199  0.761822  2008-02-01\n",
       "200  0.649435  2008-03-01\n",
       "201  0.827887  2008-04-01\n",
       "202  0.816255  2008-05-01\n",
       "203  0.762137  2008-06-01\n",
       "\n",
       "[204 rows x 2 columns]"
      ]
     },
     "execution_count": 4,
     "metadata": {},
     "output_type": "execute_result"
    }
   ],
   "source": [
    "# show data time serie\n",
    "data"
   ]
  },
  {
   "cell_type": "code",
   "execution_count": 5,
   "id": "aabe7db3-4878-462a-8db4-09e22a9e7f63",
   "metadata": {},
   "outputs": [],
   "source": [
    "# Data preprocessing\n",
    "# ==============================================================================\n",
    "data['datetime'] = pd.to_datetime(data['datetime'], format='%Y-%m-%d')\n",
    "data = data.set_index('datetime')\n",
    "data = data.asfreq('MS')\n",
    "data = data['y']\n",
    "data = data.sort_index()"
   ]
  },
  {
   "cell_type": "code",
   "execution_count": 6,
   "id": "30d5f24f-8f59-4184-8f3d-c3e33a74b9b9",
   "metadata": {},
   "outputs": [
    {
     "data": {
      "text/plain": [
       "datetime\n",
       "1991-07-01    0.429795\n",
       "1991-08-01    0.400906\n",
       "1991-09-01    0.432159\n",
       "1991-10-01    0.492543\n",
       "1991-11-01    0.502369\n",
       "                ...   \n",
       "2008-02-01    0.761822\n",
       "2008-03-01    0.649435\n",
       "2008-04-01    0.827887\n",
       "2008-05-01    0.816255\n",
       "2008-06-01    0.762137\n",
       "Freq: MS, Name: y, Length: 204, dtype: float64"
      ]
     },
     "execution_count": 6,
     "metadata": {},
     "output_type": "execute_result"
    }
   ],
   "source": [
    "data"
   ]
  },
  {
   "cell_type": "code",
   "execution_count": 7,
   "id": "667a5e34-c3dc-47aa-a909-1ab6deb673da",
   "metadata": {},
   "outputs": [],
   "source": [
    "# Split train-test\n",
    "# ==============================================================================\n",
    "steps = 36\n",
    "data_train = data[:-steps]\n",
    "data_test  = data[-steps:]"
   ]
  },
  {
   "cell_type": "code",
   "execution_count": 8,
   "id": "4f9f770c-631a-496d-b22e-660dba6a53a6",
   "metadata": {},
   "outputs": [
    {
     "data": {
      "text/plain": [
       "<matplotlib.legend.Legend at 0x31c6fb280>"
      ]
     },
     "execution_count": 8,
     "metadata": {},
     "output_type": "execute_result"
    },
    {
     "data": {
      "image/png": "[encoded data removed]",
      "text/plain": [
       "<Figure size 600x300 with 1 Axes>"
      ]
     },
     "metadata": {},
     "output_type": "display_data"
    }
   ],
   "source": [
    "# Plot\n",
    "# ==============================================================================\n",
    "fig, ax = plt.subplots(figsize=(6, 3))\n",
    "data_train.plot(ax=ax, label='train')\n",
    "data_test.plot(ax=ax, label='test')\n",
    "ax.legend()"
   ]
  },
  {
   "cell_type": "code",
   "execution_count": null,
   "id": "892551b0-afbc-4c1f-8395-09e528d7e582",
   "metadata": {},
   "outputs": [],
   "source": []
  },
  {
   "cell_type": "markdown",
   "id": "016ac6fb-cd78-4850-9c21-5fa2126efd9c",
   "metadata": {},
   "source": [
    "### 2. Create and train forecaster\n",
    "\n",
    "Parece ser muy similar al modelo de nixtla para forecast utilizando modelos de ML.\n",
    "Se crea un objeto el cual se le pasan modelos a entrenar y transformaciones de la feature (lags y otras) y entrena un modelo de ML utilizando esas transformaciones y predice una instancia a futuro (con enfoque recursivo permite hace forecast a N horizonte de tiempo a futuro)"
   ]
  },
  {
   "cell_type": "code",
   "execution_count": 9,
   "id": "ae9f6af7-06f7-413e-9e3e-766fa56a1c79",
   "metadata": {},
   "outputs": [],
   "source": [
    "# Create and fit forecaster\n",
    "# ==============================================================================\n",
    "forecaster = ForecasterAutoreg(\n",
    "                 regressor = LGBMRegressor(random_state=123, verbose=-1),\n",
    "                 lags      = 15 # signfica que se pasan 15 lags\n",
    "             )"
   ]
  },
  {
   "cell_type": "code",
   "execution_count": 10,
   "id": "db2e5168-cf39-4309-97c9-0b87c8b1782c",
   "metadata": {},
   "outputs": [
    {
     "data": {
      "text/plain": [
       "================= \n",
       "ForecasterAutoreg \n",
       "================= \n",
       "Regressor: LGBMRegressor(random_state=123, verbose=-1) \n",
       "Lags: [ 1  2  3  4  5  6  7  8  9 10 11 12 13 14 15] \n",
       "Transformer for y: None \n",
       "Transformer for exog: None \n",
       "Window size: 15 \n",
       "Weight function included: False \n",
       "Differentiation order: None \n",
       "Exogenous included: False \n",
       "Exogenous variables names: None \n",
       "Training range: None \n",
       "Training index type: None \n",
       "Training index frequency: None \n",
       "Regressor parameters: {'boosting_type': 'gbdt', 'class_weight': None, 'colsample_bytree': 1.0, 'importance_type': 'split', 'learning_rate': 0.1, 'max_depth': -1, 'min_child_samples': 20, 'min_child_weight': 0.001, 'min_split_gain': 0.0, 'n_estimators': 100, 'n_jobs': None, 'num_leaves': 31, 'objective': None, 'random_state': 123, 'reg_alpha': 0.0, 'reg_lambda': 0.0, 'subsample': 1.0, 'subsample_for_bin': 200000, 'subsample_freq': 0, 'verbose': -1} \n",
       "fit_kwargs: {} \n",
       "Creation date: 2024-09-20 17:45:09 \n",
       "Last fit date: None \n",
       "Skforecast version: 0.13.0 \n",
       "Python version: 3.10.14 \n",
       "Forecaster id: None "
      ]
     },
     "execution_count": 10,
     "metadata": {},
     "output_type": "execute_result"
    }
   ],
   "source": [
    "forecaster"
   ]
  },
  {
   "cell_type": "code",
   "execution_count": 11,
   "id": "7f0fcb19-942b-4097-93d8-4e13f7e432d9",
   "metadata": {},
   "outputs": [
    {
     "data": {
      "text/plain": [
       "================= \n",
       "ForecasterAutoreg \n",
       "================= \n",
       "Regressor: LGBMRegressor(random_state=123, verbose=-1) \n",
       "Lags: [ 1  2  3  4  5  6  7  8  9 10 11 12 13 14 15] \n",
       "Transformer for y: None \n",
       "Transformer for exog: None \n",
       "Window size: 15 \n",
       "Weight function included: False \n",
       "Differentiation order: None \n",
       "Exogenous included: False \n",
       "Exogenous variables names: None \n",
       "Training range: [Timestamp('1991-07-01 00:00:00'), Timestamp('2005-06-01 00:00:00')] \n",
       "Training index type: DatetimeIndex \n",
       "Training index frequency: MS \n",
       "Regressor parameters: {'boosting_type': 'gbdt', 'class_weight': None, 'colsample_bytree': 1.0, 'importance_type': 'split', 'learning_rate': 0.1, 'max_depth': -1, 'min_child_samples': 20, 'min_child_weight': 0.001, 'min_split_gain': 0.0, 'n_estimators': 100, 'n_jobs': None, 'num_leaves': 31, 'objective': None, 'random_state': 123, 'reg_alpha': 0.0, 'reg_lambda': 0.0, 'subsample': 1.0, 'subsample_for_bin': 200000, 'subsample_freq': 0, 'verbose': -1} \n",
       "fit_kwargs: {} \n",
       "Creation date: 2024-09-20 17:45:09 \n",
       "Last fit date: 2024-09-20 17:45:09 \n",
       "Skforecast version: 0.13.0 \n",
       "Python version: 3.10.14 \n",
       "Forecaster id: None "
      ]
     },
     "execution_count": 11,
     "metadata": {},
     "output_type": "execute_result"
    }
   ],
   "source": [
    "# entrenar modelo\n",
    "forecaster.fit(y=data_train)\n",
    "forecaster"
   ]
  },
  {
   "cell_type": "code",
   "execution_count": null,
   "id": "af84c4a0-27b7-4418-bc78-6b4fc9f11445",
   "metadata": {},
   "outputs": [],
   "source": []
  },
  {
   "cell_type": "markdown",
   "id": "326ada95-7cad-4077-93f7-27e77fa6a176",
   "metadata": {},
   "source": [
    "### 3. Prediction"
   ]
  },
  {
   "cell_type": "code",
   "execution_count": 12,
   "id": "b742f421-8f83-4194-9819-312cc6c9598e",
   "metadata": {},
   "outputs": [
    {
     "data": {
      "text/plain": [
       "2005-07-01    1.020833\n",
       "2005-08-01    1.021721\n",
       "2005-09-01    1.093488\n",
       "Freq: MS, Name: pred, dtype: float64"
      ]
     },
     "execution_count": 12,
     "metadata": {},
     "output_type": "execute_result"
    }
   ],
   "source": [
    "# Predict\n",
    "# ==============================================================================\n",
    "predictions = forecaster.predict(steps=36)\n",
    "predictions.head(3)"
   ]
  },
  {
   "cell_type": "code",
   "execution_count": 13,
   "id": "5ddc018b-33c8-4191-92bf-5f53f83cd2e4",
   "metadata": {},
   "outputs": [
    {
     "data": {
      "image/png": "[encoded data removed]",
      "text/plain": [
       "<Figure size 600x300 with 1 Axes>"
      ]
     },
     "metadata": {},
     "output_type": "display_data"
    }
   ],
   "source": [
    "# Plot predictions\n",
    "# ==============================================================================\n",
    "fig, ax = plt.subplots(figsize=(6, 3))\n",
    "data_train.plot(ax=ax, label='train')\n",
    "data_test.plot(ax=ax, label='test')\n",
    "predictions.plot(ax=ax, label='predictions')\n",
    "ax.legend();"
   ]
  },
  {
   "cell_type": "code",
   "execution_count": 14,
   "id": "229abdaf-3a79-4c6f-90dd-5f67b08643fe",
   "metadata": {},
   "outputs": [
    {
     "name": "stdout",
     "output_type": "stream",
     "text": [
      "Test error (mse): 0.006023571131075229\n"
     ]
    }
   ],
   "source": [
    "# Prediction error\n",
    "# ==============================================================================\n",
    "error_mse = mean_squared_error(\n",
    "                y_true = data_test,\n",
    "                y_pred = predictions\n",
    "            )\n",
    "print(f\"Test error (mse): {error_mse}\")"
   ]
  },
  {
   "cell_type": "code",
   "execution_count": null,
   "id": "b268cc91-bc57-4ba5-a443-9b6c1e9bdb36",
   "metadata": {},
   "outputs": [],
   "source": []
  },
  {
   "cell_type": "markdown",
   "id": "afeaae00-5ac6-4e1c-82bc-f2c07ffed150",
   "metadata": {},
   "source": [
    "### 4. Predict intervals"
   ]
  },
  {
   "cell_type": "code",
   "execution_count": 15,
   "id": "ea2964b4-e83a-4e81-bc57-3ad5ffb6a5d9",
   "metadata": {},
   "outputs": [
    {
     "data": {
      "text/html": [
       "<div>\n",
       "<style scoped>\n",
       "    .dataframe tbody tr th:only-of-type {\n",
       "        vertical-align: middle;\n",
       "    }\n",
       "\n",
       "    .dataframe tbody tr th {\n",
       "        vertical-align: top;\n",
       "    }\n",
       "\n",
       "    .dataframe thead th {\n",
       "        text-align: right;\n",
       "    }\n",
       "</style>\n",
       "<table border=\"1\" class=\"dataframe\">\n",
       "  <thead>\n",
       "    <tr style=\"text-align: right;\">\n",
       "      <th></th>\n",
       "      <th>pred</th>\n",
       "      <th>lower_bound</th>\n",
       "      <th>upper_bound</th>\n",
       "    </tr>\n",
       "  </thead>\n",
       "  <tbody>\n",
       "    <tr>\n",
       "      <th>2005-07-01</th>\n",
       "      <td>1.020833</td>\n",
       "      <td>0.975794</td>\n",
       "      <td>1.082322</td>\n",
       "    </tr>\n",
       "    <tr>\n",
       "      <th>2005-08-01</th>\n",
       "      <td>1.021721</td>\n",
       "      <td>0.976413</td>\n",
       "      <td>1.064850</td>\n",
       "    </tr>\n",
       "    <tr>\n",
       "      <th>2005-09-01</th>\n",
       "      <td>1.093488</td>\n",
       "      <td>1.010195</td>\n",
       "      <td>1.154976</td>\n",
       "    </tr>\n",
       "  </tbody>\n",
       "</table>\n",
       "</div>"
      ],
      "text/plain": [
       "                pred  lower_bound  upper_bound\n",
       "2005-07-01  1.020833     0.975794     1.082322\n",
       "2005-08-01  1.021721     0.976413     1.064850\n",
       "2005-09-01  1.093488     1.010195     1.154976"
      ]
     },
     "execution_count": 15,
     "metadata": {},
     "output_type": "execute_result"
    }
   ],
   "source": [
    "# Predict intervals\n",
    "# ==============================================================================\n",
    "predictions = forecaster.predict_interval(steps=36, interval=[5, 95], n_boot=100)\n",
    "predictions.head(3)"
   ]
  },
  {
   "cell_type": "code",
   "execution_count": 16,
   "id": "f77043f2-89c7-4344-9c2d-1fbda7e9c36b",
   "metadata": {},
   "outputs": [
    {
     "data": {
      "image/png": "[encoded data removed]",
      "text/plain": [
       "<Figure size 600x300 with 1 Axes>"
      ]
     },
     "metadata": {},
     "output_type": "display_data"
    }
   ],
   "source": [
    "# Plot prediction interval\n",
    "# ==============================================================================\n",
    "fig, ax = plt.subplots(figsize=(6, 3))\n",
    "data_test.plot(ax=ax, label=\"test\")\n",
    "predictions['pred'].plot(ax=ax, label=\"prediction\")\n",
    "ax.fill_between(\n",
    "    predictions.index,\n",
    "    predictions['lower_bound'],\n",
    "    predictions['upper_bound'],\n",
    "    color = 'blue',\n",
    "    alpha = 0.3,\n",
    "    label = '80% interval'\n",
    ")\n",
    "ax.legend(loc=\"upper left\");"
   ]
  },
  {
   "cell_type": "code",
   "execution_count": null,
   "id": "8fd4328a-4aa0-4552-9520-3061bad30bc3",
   "metadata": {},
   "outputs": [],
   "source": []
  },
  {
   "cell_type": "markdown",
   "id": "a790b773-cb66-44fd-bbf1-44e1e62a6d97",
   "metadata": {},
   "source": [
    "### 5. Feature importances"
   ]
  },
  {
   "cell_type": "code",
   "execution_count": 17,
   "id": "b4ca16e3-92d7-40ba-b004-98de4c1c08da",
   "metadata": {},
   "outputs": [
    {
     "data": {
      "text/html": [
       "<div>\n",
       "<style scoped>\n",
       "    .dataframe tbody tr th:only-of-type {\n",
       "        vertical-align: middle;\n",
       "    }\n",
       "\n",
       "    .dataframe tbody tr th {\n",
       "        vertical-align: top;\n",
       "    }\n",
       "\n",
       "    .dataframe thead th {\n",
       "        text-align: right;\n",
       "    }\n",
       "</style>\n",
       "<table border=\"1\" class=\"dataframe\">\n",
       "  <thead>\n",
       "    <tr style=\"text-align: right;\">\n",
       "      <th></th>\n",
       "      <th>feature</th>\n",
       "      <th>importance</th>\n",
       "    </tr>\n",
       "  </thead>\n",
       "  <tbody>\n",
       "    <tr>\n",
       "      <th>11</th>\n",
       "      <td>lag_12</td>\n",
       "      <td>100</td>\n",
       "    </tr>\n",
       "    <tr>\n",
       "      <th>10</th>\n",
       "      <td>lag_11</td>\n",
       "      <td>43</td>\n",
       "    </tr>\n",
       "    <tr>\n",
       "      <th>0</th>\n",
       "      <td>lag_1</td>\n",
       "      <td>41</td>\n",
       "    </tr>\n",
       "    <tr>\n",
       "      <th>1</th>\n",
       "      <td>lag_2</td>\n",
       "      <td>41</td>\n",
       "    </tr>\n",
       "    <tr>\n",
       "      <th>5</th>\n",
       "      <td>lag_6</td>\n",
       "      <td>36</td>\n",
       "    </tr>\n",
       "    <tr>\n",
       "      <th>13</th>\n",
       "      <td>lag_14</td>\n",
       "      <td>33</td>\n",
       "    </tr>\n",
       "    <tr>\n",
       "      <th>2</th>\n",
       "      <td>lag_3</td>\n",
       "      <td>31</td>\n",
       "    </tr>\n",
       "    <tr>\n",
       "      <th>6</th>\n",
       "      <td>lag_7</td>\n",
       "      <td>30</td>\n",
       "    </tr>\n",
       "    <tr>\n",
       "      <th>14</th>\n",
       "      <td>lag_15</td>\n",
       "      <td>30</td>\n",
       "    </tr>\n",
       "    <tr>\n",
       "      <th>8</th>\n",
       "      <td>lag_9</td>\n",
       "      <td>26</td>\n",
       "    </tr>\n",
       "    <tr>\n",
       "      <th>12</th>\n",
       "      <td>lag_13</td>\n",
       "      <td>26</td>\n",
       "    </tr>\n",
       "    <tr>\n",
       "      <th>9</th>\n",
       "      <td>lag_10</td>\n",
       "      <td>22</td>\n",
       "    </tr>\n",
       "    <tr>\n",
       "      <th>7</th>\n",
       "      <td>lag_8</td>\n",
       "      <td>17</td>\n",
       "    </tr>\n",
       "    <tr>\n",
       "      <th>3</th>\n",
       "      <td>lag_4</td>\n",
       "      <td>15</td>\n",
       "    </tr>\n",
       "    <tr>\n",
       "      <th>4</th>\n",
       "      <td>lag_5</td>\n",
       "      <td>15</td>\n",
       "    </tr>\n",
       "  </tbody>\n",
       "</table>\n",
       "</div>"
      ],
      "text/plain": [
       "   feature  importance\n",
       "11  lag_12         100\n",
       "10  lag_11          43\n",
       "0    lag_1          41\n",
       "1    lag_2          41\n",
       "5    lag_6          36\n",
       "13  lag_14          33\n",
       "2    lag_3          31\n",
       "6    lag_7          30\n",
       "14  lag_15          30\n",
       "8    lag_9          26\n",
       "12  lag_13          26\n",
       "9   lag_10          22\n",
       "7    lag_8          17\n",
       "3    lag_4          15\n",
       "4    lag_5          15"
      ]
     },
     "execution_count": 17,
     "metadata": {},
     "output_type": "execute_result"
    }
   ],
   "source": [
    "forecaster.get_feature_importances()"
   ]
  },
  {
   "cell_type": "code",
   "execution_count": null,
   "id": "2cb121b2-61a6-46bc-b1a1-705246cddf86",
   "metadata": {},
   "outputs": [],
   "source": []
  },
  {
   "cell_type": "markdown",
   "id": "ac89d01b-72dd-4455-87ea-1982c705cf89",
   "metadata": {},
   "source": [
    "### 6. Extract training matrices\n",
    "To examine how data is being transformed, it is possible to use the create_train_X_y method to generate the matrices that the forecaster is using to train the model. This approach enables gaining insight into the specific data manipulations that occur during the training process."
   ]
  },
  {
   "cell_type": "code",
   "execution_count": 18,
   "id": "f35e40f4-cf10-45ff-94aa-6f581da37e7b",
   "metadata": {},
   "outputs": [
    {
     "data": {
      "text/html": [
       "<div>\n",
       "<style scoped>\n",
       "    .dataframe tbody tr th:only-of-type {\n",
       "        vertical-align: middle;\n",
       "    }\n",
       "\n",
       "    .dataframe tbody tr th {\n",
       "        vertical-align: top;\n",
       "    }\n",
       "\n",
       "    .dataframe thead th {\n",
       "        text-align: right;\n",
       "    }\n",
       "</style>\n",
       "<table border=\"1\" class=\"dataframe\">\n",
       "  <thead>\n",
       "    <tr style=\"text-align: right;\">\n",
       "      <th></th>\n",
       "      <th>lag_1</th>\n",
       "      <th>lag_2</th>\n",
       "      <th>lag_3</th>\n",
       "      <th>lag_4</th>\n",
       "      <th>lag_5</th>\n",
       "      <th>lag_6</th>\n",
       "      <th>lag_7</th>\n",
       "      <th>lag_8</th>\n",
       "      <th>lag_9</th>\n",
       "      <th>lag_10</th>\n",
       "      <th>lag_11</th>\n",
       "      <th>lag_12</th>\n",
       "      <th>lag_13</th>\n",
       "      <th>lag_14</th>\n",
       "      <th>lag_15</th>\n",
       "    </tr>\n",
       "    <tr>\n",
       "      <th>datetime</th>\n",
       "      <th></th>\n",
       "      <th></th>\n",
       "      <th></th>\n",
       "      <th></th>\n",
       "      <th></th>\n",
       "      <th></th>\n",
       "      <th></th>\n",
       "      <th></th>\n",
       "      <th></th>\n",
       "      <th></th>\n",
       "      <th></th>\n",
       "      <th></th>\n",
       "      <th></th>\n",
       "      <th></th>\n",
       "      <th></th>\n",
       "    </tr>\n",
       "  </thead>\n",
       "  <tbody>\n",
       "    <tr>\n",
       "      <th>1992-10-01</th>\n",
       "      <td>0.534761</td>\n",
       "      <td>0.475463</td>\n",
       "      <td>0.483389</td>\n",
       "      <td>0.410534</td>\n",
       "      <td>0.361801</td>\n",
       "      <td>0.379808</td>\n",
       "      <td>0.351348</td>\n",
       "      <td>0.336220</td>\n",
       "      <td>0.660119</td>\n",
       "      <td>0.602652</td>\n",
       "      <td>0.502369</td>\n",
       "      <td>0.492543</td>\n",
       "      <td>0.432159</td>\n",
       "      <td>0.400906</td>\n",
       "      <td>0.429795</td>\n",
       "    </tr>\n",
       "    <tr>\n",
       "      <th>1992-11-01</th>\n",
       "      <td>0.568606</td>\n",
       "      <td>0.534761</td>\n",
       "      <td>0.475463</td>\n",
       "      <td>0.483389</td>\n",
       "      <td>0.410534</td>\n",
       "      <td>0.361801</td>\n",
       "      <td>0.379808</td>\n",
       "      <td>0.351348</td>\n",
       "      <td>0.336220</td>\n",
       "      <td>0.660119</td>\n",
       "      <td>0.602652</td>\n",
       "      <td>0.502369</td>\n",
       "      <td>0.492543</td>\n",
       "      <td>0.432159</td>\n",
       "      <td>0.400906</td>\n",
       "    </tr>\n",
       "    <tr>\n",
       "      <th>1992-12-01</th>\n",
       "      <td>0.595223</td>\n",
       "      <td>0.568606</td>\n",
       "      <td>0.534761</td>\n",
       "      <td>0.475463</td>\n",
       "      <td>0.483389</td>\n",
       "      <td>0.410534</td>\n",
       "      <td>0.361801</td>\n",
       "      <td>0.379808</td>\n",
       "      <td>0.351348</td>\n",
       "      <td>0.336220</td>\n",
       "      <td>0.660119</td>\n",
       "      <td>0.602652</td>\n",
       "      <td>0.502369</td>\n",
       "      <td>0.492543</td>\n",
       "      <td>0.432159</td>\n",
       "    </tr>\n",
       "  </tbody>\n",
       "</table>\n",
       "</div>"
      ],
      "text/plain": [
       "               lag_1     lag_2     lag_3     lag_4     lag_5     lag_6  \\\n",
       "datetime                                                                 \n",
       "1992-10-01  0.534761  0.475463  0.483389  0.410534  0.361801  0.379808   \n",
       "1992-11-01  0.568606  0.534761  0.475463  0.483389  0.410534  0.361801   \n",
       "1992-12-01  0.595223  0.568606  0.534761  0.475463  0.483389  0.410534   \n",
       "\n",
       "               lag_7     lag_8     lag_9    lag_10    lag_11    lag_12  \\\n",
       "datetime                                                                 \n",
       "1992-10-01  0.351348  0.336220  0.660119  0.602652  0.502369  0.492543   \n",
       "1992-11-01  0.379808  0.351348  0.336220  0.660119  0.602652  0.502369   \n",
       "1992-12-01  0.361801  0.379808  0.351348  0.336220  0.660119  0.602652   \n",
       "\n",
       "              lag_13    lag_14    lag_15  \n",
       "datetime                                  \n",
       "1992-10-01  0.432159  0.400906  0.429795  \n",
       "1992-11-01  0.492543  0.432159  0.400906  \n",
       "1992-12-01  0.502369  0.492543  0.432159  "
      ]
     },
     "execution_count": 18,
     "metadata": {},
     "output_type": "execute_result"
    }
   ],
   "source": [
    "# Create training matrices\n",
    "# ==============================================================================\n",
    "X_train, y_train = forecaster.create_train_X_y(data_train)\n",
    "\n",
    "# mostrar las features que generó el forecaster\n",
    "X_train.head(3)"
   ]
  },
  {
   "cell_type": "code",
   "execution_count": 19,
   "id": "ebfd34dd-194c-4177-8ce2-24b7eac930ff",
   "metadata": {},
   "outputs": [
    {
     "data": {
      "text/plain": [
       "datetime\n",
       "1992-10-01    0.568606\n",
       "1992-11-01    0.595223\n",
       "1992-12-01    0.771258\n",
       "1993-01-01    0.751503\n",
       "1993-02-01    0.387554\n",
       "Freq: MS, Name: y, dtype: float64"
      ]
     },
     "execution_count": 19,
     "metadata": {},
     "output_type": "execute_result"
    }
   ],
   "source": [
    "y_train.head()"
   ]
  },
  {
   "cell_type": "code",
   "execution_count": null,
   "id": "883d1f7f-bb35-4984-a57a-740d34b5639e",
   "metadata": {},
   "outputs": [],
   "source": []
  },
  {
   "cell_type": "markdown",
   "id": "d94206a6-7914-4499-8751-a64e356dcd6b",
   "metadata": {},
   "source": [
    "### 7. Prediction on training data"
   ]
  },
  {
   "cell_type": "code",
   "execution_count": 20,
   "id": "e821df66-ab65-43d5-98f3-e3bd623f2127",
   "metadata": {},
   "outputs": [],
   "source": [
    "# Usar el método para generar las features X y el target y\n",
    "# ==============================================================================\n",
    "X_train, y_train = forecaster.create_train_X_y(data_train)"
   ]
  },
  {
   "cell_type": "code",
   "execution_count": 21,
   "id": "3e058a89-8eb5-421d-98eb-958964dce80b",
   "metadata": {},
   "outputs": [
    {
     "data": {
      "text/plain": [
       "array([0.55145568, 0.57320468, 0.73750462, 0.73500079])"
      ]
     },
     "execution_count": 21,
     "metadata": {},
     "output_type": "execute_result"
    }
   ],
   "source": [
    "# Predict using the internal regressor\n",
    "\n",
    "#### AQUI SE PREDICE CON EL OBJETO SUBYACENTE (EL MODELO DE SKLEARN)\n",
    "# ==============================================================================\n",
    "predictions_training = forecaster.regressor.predict(X_train)\n",
    "predictions_training[:4]"
   ]
  },
  {
   "cell_type": "code",
   "execution_count": null,
   "id": "83c27ab5-31d1-4333-bb20-1fc1389ba80c",
   "metadata": {},
   "outputs": [],
   "source": []
  },
  {
   "cell_type": "markdown",
   "id": "276271b1-9350-4b9b-aa8c-454fdb4a86ed",
   "metadata": {},
   "source": [
    "### 8. Extract prediction matrices\n",
    "Skforecast provides the create_predict_X method to generate the matrices that the forecaster is using to make predictions. This method can be used to gain insight into the specific data manipulations that occur during the prediction process."
   ]
  },
  {
   "cell_type": "code",
   "execution_count": 22,
   "id": "616f9b8d-9807-4b07-a183-67e9c4a32b44",
   "metadata": {},
   "outputs": [
    {
     "data": {
      "text/html": [
       "<div>\n",
       "<style scoped>\n",
       "    .dataframe tbody tr th:only-of-type {\n",
       "        vertical-align: middle;\n",
       "    }\n",
       "\n",
       "    .dataframe tbody tr th {\n",
       "        vertical-align: top;\n",
       "    }\n",
       "\n",
       "    .dataframe thead th {\n",
       "        text-align: right;\n",
       "    }\n",
       "</style>\n",
       "<table border=\"1\" class=\"dataframe\">\n",
       "  <thead>\n",
       "    <tr style=\"text-align: right;\">\n",
       "      <th></th>\n",
       "      <th>lag_1</th>\n",
       "      <th>lag_2</th>\n",
       "      <th>lag_3</th>\n",
       "      <th>lag_4</th>\n",
       "      <th>lag_5</th>\n",
       "      <th>lag_6</th>\n",
       "      <th>lag_7</th>\n",
       "      <th>lag_8</th>\n",
       "      <th>lag_9</th>\n",
       "      <th>lag_10</th>\n",
       "      <th>lag_11</th>\n",
       "      <th>lag_12</th>\n",
       "      <th>lag_13</th>\n",
       "      <th>lag_14</th>\n",
       "      <th>lag_15</th>\n",
       "    </tr>\n",
       "  </thead>\n",
       "  <tbody>\n",
       "    <tr>\n",
       "      <th>2005-07-01</th>\n",
       "      <td>0.842263</td>\n",
       "      <td>0.695248</td>\n",
       "      <td>0.670505</td>\n",
       "      <td>0.652590</td>\n",
       "      <td>0.597639</td>\n",
       "      <td>1.170690</td>\n",
       "      <td>1.257238</td>\n",
       "      <td>1.216037</td>\n",
       "      <td>1.181011</td>\n",
       "      <td>1.134432</td>\n",
       "      <td>0.994864</td>\n",
       "      <td>1.001593</td>\n",
       "      <td>0.856803</td>\n",
       "      <td>0.795129</td>\n",
       "      <td>0.739986</td>\n",
       "    </tr>\n",
       "    <tr>\n",
       "      <th>2005-08-01</th>\n",
       "      <td>1.020833</td>\n",
       "      <td>0.842263</td>\n",
       "      <td>0.695248</td>\n",
       "      <td>0.670505</td>\n",
       "      <td>0.652590</td>\n",
       "      <td>0.597639</td>\n",
       "      <td>1.170690</td>\n",
       "      <td>1.257238</td>\n",
       "      <td>1.216037</td>\n",
       "      <td>1.181011</td>\n",
       "      <td>1.134432</td>\n",
       "      <td>0.994864</td>\n",
       "      <td>1.001593</td>\n",
       "      <td>0.856803</td>\n",
       "      <td>0.795129</td>\n",
       "    </tr>\n",
       "    <tr>\n",
       "      <th>2005-09-01</th>\n",
       "      <td>1.021721</td>\n",
       "      <td>1.020833</td>\n",
       "      <td>0.842263</td>\n",
       "      <td>0.695248</td>\n",
       "      <td>0.670505</td>\n",
       "      <td>0.652590</td>\n",
       "      <td>0.597639</td>\n",
       "      <td>1.170690</td>\n",
       "      <td>1.257238</td>\n",
       "      <td>1.216037</td>\n",
       "      <td>1.181011</td>\n",
       "      <td>1.134432</td>\n",
       "      <td>0.994864</td>\n",
       "      <td>1.001593</td>\n",
       "      <td>0.856803</td>\n",
       "    </tr>\n",
       "    <tr>\n",
       "      <th>2005-10-01</th>\n",
       "      <td>1.093488</td>\n",
       "      <td>1.021721</td>\n",
       "      <td>1.020833</td>\n",
       "      <td>0.842263</td>\n",
       "      <td>0.695248</td>\n",
       "      <td>0.670505</td>\n",
       "      <td>0.652590</td>\n",
       "      <td>0.597639</td>\n",
       "      <td>1.170690</td>\n",
       "      <td>1.257238</td>\n",
       "      <td>1.216037</td>\n",
       "      <td>1.181011</td>\n",
       "      <td>1.134432</td>\n",
       "      <td>0.994864</td>\n",
       "      <td>1.001593</td>\n",
       "    </tr>\n",
       "    <tr>\n",
       "      <th>2005-11-01</th>\n",
       "      <td>1.145198</td>\n",
       "      <td>1.093488</td>\n",
       "      <td>1.021721</td>\n",
       "      <td>1.020833</td>\n",
       "      <td>0.842263</td>\n",
       "      <td>0.695248</td>\n",
       "      <td>0.670505</td>\n",
       "      <td>0.652590</td>\n",
       "      <td>0.597639</td>\n",
       "      <td>1.170690</td>\n",
       "      <td>1.257238</td>\n",
       "      <td>1.216037</td>\n",
       "      <td>1.181011</td>\n",
       "      <td>1.134432</td>\n",
       "      <td>0.994864</td>\n",
       "    </tr>\n",
       "  </tbody>\n",
       "</table>\n",
       "</div>"
      ],
      "text/plain": [
       "               lag_1     lag_2     lag_3     lag_4     lag_5     lag_6  \\\n",
       "2005-07-01  0.842263  0.695248  0.670505  0.652590  0.597639  1.170690   \n",
       "2005-08-01  1.020833  0.842263  0.695248  0.670505  0.652590  0.597639   \n",
       "2005-09-01  1.021721  1.020833  0.842263  0.695248  0.670505  0.652590   \n",
       "2005-10-01  1.093488  1.021721  1.020833  0.842263  0.695248  0.670505   \n",
       "2005-11-01  1.145198  1.093488  1.021721  1.020833  0.842263  0.695248   \n",
       "\n",
       "               lag_7     lag_8     lag_9    lag_10    lag_11    lag_12  \\\n",
       "2005-07-01  1.257238  1.216037  1.181011  1.134432  0.994864  1.001593   \n",
       "2005-08-01  1.170690  1.257238  1.216037  1.181011  1.134432  0.994864   \n",
       "2005-09-01  0.597639  1.170690  1.257238  1.216037  1.181011  1.134432   \n",
       "2005-10-01  0.652590  0.597639  1.170690  1.257238  1.216037  1.181011   \n",
       "2005-11-01  0.670505  0.652590  0.597639  1.170690  1.257238  1.216037   \n",
       "\n",
       "              lag_13    lag_14    lag_15  \n",
       "2005-07-01  0.856803  0.795129  0.739986  \n",
       "2005-08-01  1.001593  0.856803  0.795129  \n",
       "2005-09-01  0.994864  1.001593  0.856803  \n",
       "2005-10-01  1.134432  0.994864  1.001593  \n",
       "2005-11-01  1.181011  1.134432  0.994864  "
      ]
     },
     "execution_count": 22,
     "metadata": {},
     "output_type": "execute_result"
    }
   ],
   "source": [
    "# Create input matrix for predict method\n",
    "\n",
    "# acá crea las features utilizada para hacer el forecast con horizonte H. Es decir, a medida que se aleja en el horizonte\n",
    "# más de estas features son predicciones previas\n",
    "# ==============================================================================\n",
    "X_predict = forecaster.create_predict_X(steps=5)\n",
    "X_predict"
   ]
  },
  {
   "cell_type": "code",
   "execution_count": null,
   "id": "a3ef6959-08f5-4b71-86ca-43c004322f0e",
   "metadata": {},
   "outputs": [],
   "source": []
  },
  {
   "cell_type": "markdown",
   "id": "5b9f3719-a283-4e3d-bce3-2391153f31b4",
   "metadata": {},
   "source": [
    "### 9. Differentiation\n",
    "Time series differentiation involves computing the differences between consecutive observations in the time series. When it comes to training forecasting models, differentiation offers the advantage of focusing on relative rates of change rather than directly attempting to model the absolute values. Once the predictions have been estimated, this transformation can be easily reversed to restore the values to their original scale."
   ]
  },
  {
   "cell_type": "code",
   "execution_count": 23,
   "id": "b8149652-0761-4117-9df4-4c955b0167ff",
   "metadata": {},
   "outputs": [],
   "source": [
    "# Create and fit forecaster\n",
    "# ==============================================================================\n",
    "# forecaster = ForecasterAutoreg(\n",
    "#                 regressor       = LGBMRegressor(random_state=123, verbose=-1),\n",
    "#                 lags            = 15,\n",
    "#                 differentiation = 1\n",
    "#             )\n",
    "#\n",
    "#forecaster.fit(y=data_train)\n",
    "#forecaster"
   ]
  },
  {
   "cell_type": "code",
   "execution_count": 24,
   "id": "7d42be28-7617-404f-8c67-8c2ba721a647",
   "metadata": {},
   "outputs": [],
   "source": [
    "# Predict\n",
    "# ==============================================================================\n",
    "#predictions = forecaster.predict(steps=36)\n",
    "# predictions.head(3)"
   ]
  },
  {
   "cell_type": "code",
   "execution_count": null,
   "id": "bc876ede-a169-42c4-bc47-97602a9f2c69",
   "metadata": {},
   "outputs": [],
   "source": []
  },
  {
   "cell_type": "code",
   "execution_count": null,
   "id": "9ef53c16-13c3-4ec9-93bf-083654cf6797",
   "metadata": {},
   "outputs": [],
   "source": []
  },
  {
   "cell_type": "markdown",
   "id": "ccdc6ecc-8af4-4428-8883-9f3dc3e11148",
   "metadata": {},
   "source": [
    "### 10. Guardar modelo\n",
    "Source: https://skforecast.org/0.13.0/user_guides/save-load-forecaster"
   ]
  },
  {
   "cell_type": "code",
   "execution_count": 29,
   "id": "2261a086-5c87-4e37-a569-942fc6d5dc45",
   "metadata": {},
   "outputs": [],
   "source": [
    "from skforecast.utils import save_forecaster\n",
    "from skforecast.utils import load_forecaster"
   ]
  },
  {
   "cell_type": "code",
   "execution_count": 32,
   "id": "69d5e2c8-fd60-41f1-99f4-b55966c2876e",
   "metadata": {},
   "outputs": [],
   "source": [
    "# Save model\n",
    "# ==============================================================================\n",
    "path_fcster_model = 'models/forecaster_001.joblib'\n",
    "save_forecaster(forecaster, file_name= path_fcster_model, verbose=False)"
   ]
  },
  {
   "cell_type": "code",
   "execution_count": 33,
   "id": "7385537e-4ff7-4e94-9663-5cee4bf18740",
   "metadata": {},
   "outputs": [
    {
     "name": "stdout",
     "output_type": "stream",
     "text": [
      "================= \n",
      "ForecasterAutoreg \n",
      "================= \n",
      "Regressor: LGBMRegressor(random_state=123, verbose=-1) \n",
      "Lags: [ 1  2  3  4  5  6  7  8  9 10 11 12 13 14 15] \n",
      "Transformer for y: None \n",
      "Transformer for exog: None \n",
      "Window size: 15 \n",
      "Weight function included: False \n",
      "Differentiation order: None \n",
      "Exogenous included: False \n",
      "Exogenous variables names: None \n",
      "Training range: [Timestamp('1991-07-01 00:00:00'), Timestamp('2005-06-01 00:00:00')] \n",
      "Training index type: DatetimeIndex \n",
      "Training index frequency: MS \n",
      "Regressor parameters: {'boosting_type': 'gbdt', 'class_weight': None, 'colsample_bytree': 1.0, 'importance_type': 'split', 'learning_rate': 0.1, 'max_depth': -1, 'min_child_samples': 20, 'min_child_weight': 0.001, 'min_split_gain': 0.0, 'n_estimators': 100, 'n_jobs': None, 'num_leaves': 31, 'objective': None, 'random_state': 123, 'reg_alpha': 0.0, 'reg_lambda': 0.0, 'subsample': 1.0, 'subsample_for_bin': 200000, 'subsample_freq': 0, 'verbose': -1} \n",
      "fit_kwargs: {} \n",
      "Creation date: 2024-09-20 17:45:09 \n",
      "Last fit date: 2024-09-20 17:45:09 \n",
      "Skforecast version: 0.13.0 \n",
      "Python version: 3.10.14 \n",
      "Forecaster id: None \n",
      "\n"
     ]
    }
   ],
   "source": [
    "# Load model\n",
    "# ==============================================================================\n",
    "forecaster_loaded = load_forecaster(path_fcster_model, verbose=True)"
   ]
  },
  {
   "cell_type": "code",
   "execution_count": 34,
   "id": "ad1b2b93-47bb-4e2c-b593-6467b383fcc4",
   "metadata": {},
   "outputs": [
    {
     "data": {
      "text/plain": [
       "2005-07-01    1.020833\n",
       "2005-08-01    1.021721\n",
       "2005-09-01    1.093488\n",
       "2005-10-01    1.145198\n",
       "2005-11-01    1.131161\n",
       "Freq: MS, Name: pred, dtype: float64"
      ]
     },
     "execution_count": 34,
     "metadata": {},
     "output_type": "execute_result"
    }
   ],
   "source": [
    "forecaster_loaded.predict(5)"
   ]
  },
  {
   "cell_type": "code",
   "execution_count": null,
   "id": "1f23b6df-12ec-47a8-9ce5-8c62263c530d",
   "metadata": {},
   "outputs": [],
   "source": []
  },
  {
   "cell_type": "code",
   "execution_count": null,
   "id": "b7aa61bf-b3b2-4aca-9c78-575da0e5185a",
   "metadata": {},
   "outputs": [],
   "source": []
  },
  {
   "cell_type": "markdown",
   "id": "d67a50fa-c7d0-41d0-b9e4-5fdd8048c549",
   "metadata": {},
   "source": [
    "### 11. OWN: Obtener el modelo de sklearn subyacente y probar hacer mis propias predicciones"
   ]
  },
  {
   "cell_type": "code",
   "execution_count": 26,
   "id": "ed5b3f44-3b81-4025-a3e8-3f69c1ee9648",
   "metadata": {},
   "outputs": [
    {
     "data": {
      "text/plain": [
       "================= \n",
       "ForecasterAutoreg \n",
       "================= \n",
       "Regressor: LGBMRegressor(random_state=123, verbose=-1) \n",
       "Lags: [ 1  2  3  4  5  6  7  8  9 10 11 12 13 14 15] \n",
       "Transformer for y: None \n",
       "Transformer for exog: None \n",
       "Window size: 15 \n",
       "Weight function included: False \n",
       "Differentiation order: None \n",
       "Exogenous included: False \n",
       "Exogenous variables names: None \n",
       "Training range: [Timestamp('1991-07-01 00:00:00'), Timestamp('2005-06-01 00:00:00')] \n",
       "Training index type: DatetimeIndex \n",
       "Training index frequency: MS \n",
       "Regressor parameters: {'boosting_type': 'gbdt', 'class_weight': None, 'colsample_bytree': 1.0, 'importance_type': 'split', 'learning_rate': 0.1, 'max_depth': -1, 'min_child_samples': 20, 'min_child_weight': 0.001, 'min_split_gain': 0.0, 'n_estimators': 100, 'n_jobs': None, 'num_leaves': 31, 'objective': None, 'random_state': 123, 'reg_alpha': 0.0, 'reg_lambda': 0.0, 'subsample': 1.0, 'subsample_for_bin': 200000, 'subsample_freq': 0, 'verbose': -1} \n",
       "fit_kwargs: {} \n",
       "Creation date: 2024-09-20 17:45:09 \n",
       "Last fit date: 2024-09-20 17:45:09 \n",
       "Skforecast version: 0.13.0 \n",
       "Python version: 3.10.14 \n",
       "Forecaster id: None "
      ]
     },
     "execution_count": 26,
     "metadata": {},
     "output_type": "execute_result"
    }
   ],
   "source": [
    "# objeto forecaster de sklearn\n",
    "forecaster"
   ]
  },
  {
   "cell_type": "code",
   "execution_count": 28,
   "id": "3bdebaa1-96f4-425c-ab02-ae9d7a7271de",
   "metadata": {},
   "outputs": [
    {
     "data": {
      "text/html": [
       "<style>#sk-container-id-2 {color: black;}#sk-container-id-2 pre{padding: 0;}#sk-container-id-2 div.sk-toggleable {background-color: white;}#sk-container-id-2 label.sk-toggleable__label {cursor: pointer;display: block;width: 100%;margin-bottom: 0;padding: 0.3em;box-sizing: border-box;text-align: center;}#sk-container-id-2 label.sk-toggleable__label-arrow:before {content: \"▸\";float: left;margin-right: 0.25em;color: #696969;}#sk-container-id-2 label.sk-toggleable__label-arrow:hover:before {color: black;}#sk-container-id-2 div.sk-estimator:hover label.sk-toggleable__label-arrow:before {color: black;}#sk-container-id-2 div.sk-toggleable__content {max-height: 0;max-width: 0;overflow: hidden;text-align: left;background-color: #f0f8ff;}#sk-container-id-2 div.sk-toggleable__content pre {margin: 0.2em;color: black;border-radius: 0.25em;background-color: #f0f8ff;}#sk-container-id-2 input.sk-toggleable__control:checked~div.sk-toggleable__content {max-height: 200px;max-width: 100%;overflow: auto;}#sk-container-id-2 input.sk-toggleable__control:checked~label.sk-toggleable__label-arrow:before {content: \"▾\";}#sk-container-id-2 div.sk-estimator input.sk-toggleable__control:checked~label.sk-toggleable__label {background-color: #d4ebff;}#sk-container-id-2 div.sk-label input.sk-toggleable__control:checked~label.sk-toggleable__label {background-color: #d4ebff;}#sk-container-id-2 input.sk-hidden--visually {border: 0;clip: rect(1px 1px 1px 1px);clip: rect(1px, 1px, 1px, 1px);height: 1px;margin: -1px;overflow: hidden;padding: 0;position: absolute;width: 1px;}#sk-container-id-2 div.sk-estimator {font-family: monospace;background-color: #f0f8ff;border: 1px dotted black;border-radius: 0.25em;box-sizing: border-box;margin-bottom: 0.5em;}#sk-container-id-2 div.sk-estimator:hover {background-color: #d4ebff;}#sk-container-id-2 div.sk-parallel-item::after {content: \"\";width: 100%;border-bottom: 1px solid gray;flex-grow: 1;}#sk-container-id-2 div.sk-label:hover label.sk-toggleable__label {background-color: #d4ebff;}#sk-container-id-2 div.sk-serial::before {content: \"\";position: absolute;border-left: 1px solid gray;box-sizing: border-box;top: 0;bottom: 0;left: 50%;z-index: 0;}#sk-container-id-2 div.sk-serial {display: flex;flex-direction: column;align-items: center;background-color: white;padding-right: 0.2em;padding-left: 0.2em;position: relative;}#sk-container-id-2 div.sk-item {position: relative;z-index: 1;}#sk-container-id-2 div.sk-parallel {display: flex;align-items: stretch;justify-content: center;background-color: white;position: relative;}#sk-container-id-2 div.sk-item::before, #sk-container-id-2 div.sk-parallel-item::before {content: \"\";position: absolute;border-left: 1px solid gray;box-sizing: border-box;top: 0;bottom: 0;left: 50%;z-index: -1;}#sk-container-id-2 div.sk-parallel-item {display: flex;flex-direction: column;z-index: 1;position: relative;background-color: white;}#sk-container-id-2 div.sk-parallel-item:first-child::after {align-self: flex-end;width: 50%;}#sk-container-id-2 div.sk-parallel-item:last-child::after {align-self: flex-start;width: 50%;}#sk-container-id-2 div.sk-parallel-item:only-child::after {width: 0;}#sk-container-id-2 div.sk-dashed-wrapped {border: 1px dashed gray;margin: 0 0.4em 0.5em 0.4em;box-sizing: border-box;padding-bottom: 0.4em;background-color: white;}#sk-container-id-2 div.sk-label label {font-family: monospace;font-weight: bold;display: inline-block;line-height: 1.2em;}#sk-container-id-2 div.sk-label-container {text-align: center;}#sk-container-id-2 div.sk-container {/* jupyter's `normalize.less` sets `[hidden] { display: none; }` but bootstrap.min.css set `[hidden] { display: none !important; }` so we also need the `!important` here to be able to override the default hidden behavior on the sphinx rendered scikit-learn.org. See: https://github.com/scikit-learn/scikit-learn/issues/21755 */display: inline-block !important;position: relative;}#sk-container-id-2 div.sk-text-repr-fallback {display: none;}</style><div id=\"sk-container-id-2\" class=\"sk-top-container\"><div class=\"sk-text-repr-fallback\"><pre>LGBMRegressor(random_state=123, verbose=-1)</pre><b>In a Jupyter environment, please rerun this cell to show the HTML representation or trust the notebook. <br />On GitHub, the HTML representation is unable to render, please try loading this page with nbviewer.org.</b></div><div class=\"sk-container\" hidden><div class=\"sk-item\"><div class=\"sk-estimator sk-toggleable\"><input class=\"sk-toggleable__control sk-hidden--visually\" id=\"sk-estimator-id-2\" type=\"checkbox\" checked><label for=\"sk-estimator-id-2\" class=\"sk-toggleable__label sk-toggleable__label-arrow\">LGBMRegressor</label><div class=\"sk-toggleable__content\"><pre>LGBMRegressor(random_state=123, verbose=-1)</pre></div></div></div></div></div>"
      ],
      "text/plain": [
       "LGBMRegressor(random_state=123, verbose=-1)"
      ]
     },
     "execution_count": 28,
     "metadata": {},
     "output_type": "execute_result"
    }
   ],
   "source": [
    "# obtener el regresor\n",
    "forecaster.regressor"
   ]
  },
  {
   "cell_type": "code",
   "execution_count": 37,
   "id": "9c6367e3-7d97-4abd-816a-21cc1cdb686e",
   "metadata": {},
   "outputs": [
    {
     "data": {
      "text/plain": [
       "array([1.15375407])"
      ]
     },
     "execution_count": 37,
     "metadata": {},
     "output_type": "execute_result"
    }
   ],
   "source": [
    "forecaster.regressor.predict([[1,2,3,4,5,6,7,8,9,10,11,12,13,14,15]]) # predicción de prueba llamando el modelo subyacente"
   ]
  },
  {
   "cell_type": "code",
   "execution_count": null,
   "id": "555a384d-8250-4357-93ca-c53769012ee6",
   "metadata": {},
   "outputs": [],
   "source": []
  },
  {
   "cell_type": "code",
   "execution_count": null,
   "id": "730e68d9-b289-44e6-b62d-a6fac1f9fc68",
   "metadata": {},
   "outputs": [],
   "source": []
  },
  {
   "cell_type": "code",
   "execution_count": null,
   "id": "ed5189bc-8eb9-4396-b4d6-b7c952ed2a26",
   "metadata": {},
   "outputs": [],
   "source": []
  }
 ],
 "metadata": {
  "kernelspec": {
   "display_name": "Python 3 (ipykernel)",
   "language": "python",
   "name": "python3"
  },
  "language_info": {
   "codemirror_mode": {
    "name": "ipython",
    "version": 3
   },
   "file_extension": ".py",
   "mimetype": "text/x-python",
   "name": "python",
   "nbconvert_exporter": "python",
   "pygments_lexer": "ipython3",
   "version": "3.10.14"
  }
 },
 "nbformat": 4,
 "nbformat_minor": 5
}
